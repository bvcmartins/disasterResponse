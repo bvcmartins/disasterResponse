{
 "cells": [
  {
   "cell_type": "markdown",
   "metadata": {},
   "source": [
    "# ML Pipeline Preparation\n",
    "Follow the instructions below to help you create your ML pipeline.\n",
    "### 1. Import libraries and load data from database.\n",
    "- Import Python libraries\n",
    "- Load dataset from database with [`read_sql_table`](https://pandas.pydata.org/pandas-docs/stable/generated/pandas.read_sql_table.html)\n",
    "- Define feature and target variables X and Y"
   ]
  },
  {
   "cell_type": "code",
   "execution_count": 188,
   "metadata": {},
   "outputs": [
    {
     "name": "stderr",
     "output_type": "stream",
     "text": [
      "[nltk_data] Downloading package punkt to /home/brunom/nltk_data...\n",
      "[nltk_data]   Package punkt is already up-to-date!\n",
      "[nltk_data] Downloading package stopwords to /home/brunom/nltk_data...\n",
      "[nltk_data]   Package stopwords is already up-to-date!\n",
      "[nltk_data] Downloading package wordnet to /home/brunom/nltk_data...\n",
      "[nltk_data]   Package wordnet is already up-to-date!\n"
     ]
    }
   ],
   "source": [
    "# import libraries\n",
    "import pandas as pd\n",
    "import numpy as np\n",
    "import matplotlib.pyplot as plt\n",
    "import re\n",
    "from collections import defaultdict\n",
    "from sqlalchemy import create_engine\n",
    "import nltk\n",
    "nltk.download('punkt')\n",
    "from nltk.corpus import stopwords\n",
    "nltk.download('stopwords')\n",
    "stop_words = set(stopwords.words('english'))\n",
    "from nltk.stem import PorterStemmer\n",
    "from nltk.stem import WordNetLemmatizer\n",
    "nltk.download('wordnet')\n",
    "\n",
    "import pickle\n",
    "\n",
    "from sklearn.model_selection import train_test_split\n",
    "from sklearn.feature_extraction.text import TfidfVectorizer\n",
    "from sklearn.feature_extraction.text import TfidfTransformer\n",
    "from sklearn.feature_extraction.text import CountVectorizer\n",
    "from sklearn.naive_bayes import MultinomialNB\n",
    "from sklearn.naive_bayes import BernoulliNB\n",
    "from sklearn.multiclass import OneVsRestClassifier\n",
    "from sklearn.svm import SVC\n",
    "from sklearn.linear_model import LogisticRegression, Perceptron\n",
    "from sklearn.preprocessing import MultiLabelBinarizer\n",
    "from sklearn.multioutput import MultiOutputClassifier\n",
    "from sklearn.metrics import accuracy_score, precision_score\n",
    "from sklearn.metrics import recall_score, make_scorer\n",
    "from sklearn.metrics import confusion_matrix, f1_score\n",
    "from sklearn.ensemble import AdaBoostClassifier\n",
    "from sklearn.pipeline import Pipeline\n",
    "from sklearn.base import BaseEstimator, TransformerMixin\n",
    "from sklearn.model_selection import GridSearchCV\n",
    "from sklearn.model_selection import KFold\n",
    "from imblearn.over_sampling import SMOTE, SVMSMOTE, BorderlineSMOTE\n",
    "from imblearn.over_sampling import RandomOverSampler\n",
    "import imblearn.pipeline as imb_pipe"
   ]
  },
  {
   "cell_type": "code",
   "execution_count": 2,
   "metadata": {},
   "outputs": [],
   "source": [
    "pd.options.display.max_rows = 500\n",
    "pd.options.display.max_columns = 500"
   ]
  },
  {
   "cell_type": "code",
   "execution_count": 3,
   "metadata": {},
   "outputs": [],
   "source": [
    "# load data from database\n",
    "engine = create_engine('sqlite:///data/disasterResponse.db')\n",
    "df = pd.read_sql('SELECT * FROM messages_categories', engine)"
   ]
  },
  {
   "cell_type": "code",
   "execution_count": 4,
   "metadata": {},
   "outputs": [
    {
     "data": {
      "text/html": [
       "<div>\n",
       "<style scoped>\n",
       "    .dataframe tbody tr th:only-of-type {\n",
       "        vertical-align: middle;\n",
       "    }\n",
       "\n",
       "    .dataframe tbody tr th {\n",
       "        vertical-align: top;\n",
       "    }\n",
       "\n",
       "    .dataframe thead th {\n",
       "        text-align: right;\n",
       "    }\n",
       "</style>\n",
       "<table border=\"1\" class=\"dataframe\">\n",
       "  <thead>\n",
       "    <tr style=\"text-align: right;\">\n",
       "      <th></th>\n",
       "      <th>id</th>\n",
       "      <th>message</th>\n",
       "      <th>original</th>\n",
       "      <th>genre</th>\n",
       "      <th>aid_centers</th>\n",
       "      <th>aid_related</th>\n",
       "      <th>buildings</th>\n",
       "      <th>child_alone</th>\n",
       "      <th>clothing</th>\n",
       "      <th>cold</th>\n",
       "      <th>death</th>\n",
       "      <th>direct_report</th>\n",
       "      <th>earthquake</th>\n",
       "      <th>electricity</th>\n",
       "      <th>fire</th>\n",
       "      <th>floods</th>\n",
       "      <th>food</th>\n",
       "      <th>hospitals</th>\n",
       "      <th>infrastructure_related</th>\n",
       "      <th>medical_help</th>\n",
       "      <th>medical_products</th>\n",
       "      <th>military</th>\n",
       "      <th>missing_people</th>\n",
       "      <th>money</th>\n",
       "      <th>offer</th>\n",
       "      <th>other_aid</th>\n",
       "      <th>other_infrastructure</th>\n",
       "      <th>other_weather</th>\n",
       "      <th>refugees</th>\n",
       "      <th>related</th>\n",
       "      <th>request</th>\n",
       "      <th>search_and_rescue</th>\n",
       "      <th>security</th>\n",
       "      <th>shelter</th>\n",
       "      <th>shops</th>\n",
       "      <th>storm</th>\n",
       "      <th>tools</th>\n",
       "      <th>transport</th>\n",
       "      <th>water</th>\n",
       "      <th>weather_related</th>\n",
       "    </tr>\n",
       "  </thead>\n",
       "  <tbody>\n",
       "    <tr>\n",
       "      <th>0</th>\n",
       "      <td>2</td>\n",
       "      <td>Weather update - a cold front from Cuba that c...</td>\n",
       "      <td>Un front froid se retrouve sur Cuba ce matin. ...</td>\n",
       "      <td>direct</td>\n",
       "      <td>0</td>\n",
       "      <td>0</td>\n",
       "      <td>0</td>\n",
       "      <td>0</td>\n",
       "      <td>0</td>\n",
       "      <td>0</td>\n",
       "      <td>0</td>\n",
       "      <td>0</td>\n",
       "      <td>0</td>\n",
       "      <td>0</td>\n",
       "      <td>0</td>\n",
       "      <td>0</td>\n",
       "      <td>0</td>\n",
       "      <td>0</td>\n",
       "      <td>0</td>\n",
       "      <td>0</td>\n",
       "      <td>0</td>\n",
       "      <td>0</td>\n",
       "      <td>0</td>\n",
       "      <td>0</td>\n",
       "      <td>0</td>\n",
       "      <td>0</td>\n",
       "      <td>0</td>\n",
       "      <td>0</td>\n",
       "      <td>0</td>\n",
       "      <td>1</td>\n",
       "      <td>0</td>\n",
       "      <td>0</td>\n",
       "      <td>0</td>\n",
       "      <td>0</td>\n",
       "      <td>0</td>\n",
       "      <td>0</td>\n",
       "      <td>0</td>\n",
       "      <td>0</td>\n",
       "      <td>0</td>\n",
       "      <td>0</td>\n",
       "    </tr>\n",
       "    <tr>\n",
       "      <th>1</th>\n",
       "      <td>7</td>\n",
       "      <td>Is the Hurricane over or is it not over</td>\n",
       "      <td>Cyclone nan fini osinon li pa fini</td>\n",
       "      <td>direct</td>\n",
       "      <td>0</td>\n",
       "      <td>1</td>\n",
       "      <td>0</td>\n",
       "      <td>0</td>\n",
       "      <td>0</td>\n",
       "      <td>0</td>\n",
       "      <td>0</td>\n",
       "      <td>0</td>\n",
       "      <td>0</td>\n",
       "      <td>0</td>\n",
       "      <td>0</td>\n",
       "      <td>0</td>\n",
       "      <td>0</td>\n",
       "      <td>0</td>\n",
       "      <td>0</td>\n",
       "      <td>0</td>\n",
       "      <td>0</td>\n",
       "      <td>0</td>\n",
       "      <td>0</td>\n",
       "      <td>0</td>\n",
       "      <td>0</td>\n",
       "      <td>1</td>\n",
       "      <td>0</td>\n",
       "      <td>0</td>\n",
       "      <td>0</td>\n",
       "      <td>1</td>\n",
       "      <td>0</td>\n",
       "      <td>0</td>\n",
       "      <td>0</td>\n",
       "      <td>0</td>\n",
       "      <td>0</td>\n",
       "      <td>1</td>\n",
       "      <td>0</td>\n",
       "      <td>0</td>\n",
       "      <td>0</td>\n",
       "      <td>1</td>\n",
       "    </tr>\n",
       "    <tr>\n",
       "      <th>2</th>\n",
       "      <td>8</td>\n",
       "      <td>Looking for someone but no name</td>\n",
       "      <td>Patnm, di Maryani relem pou li banm nouvel li ...</td>\n",
       "      <td>direct</td>\n",
       "      <td>0</td>\n",
       "      <td>0</td>\n",
       "      <td>0</td>\n",
       "      <td>0</td>\n",
       "      <td>0</td>\n",
       "      <td>0</td>\n",
       "      <td>0</td>\n",
       "      <td>0</td>\n",
       "      <td>0</td>\n",
       "      <td>0</td>\n",
       "      <td>0</td>\n",
       "      <td>0</td>\n",
       "      <td>0</td>\n",
       "      <td>0</td>\n",
       "      <td>0</td>\n",
       "      <td>0</td>\n",
       "      <td>0</td>\n",
       "      <td>0</td>\n",
       "      <td>0</td>\n",
       "      <td>0</td>\n",
       "      <td>0</td>\n",
       "      <td>0</td>\n",
       "      <td>0</td>\n",
       "      <td>0</td>\n",
       "      <td>0</td>\n",
       "      <td>1</td>\n",
       "      <td>0</td>\n",
       "      <td>0</td>\n",
       "      <td>0</td>\n",
       "      <td>0</td>\n",
       "      <td>0</td>\n",
       "      <td>0</td>\n",
       "      <td>0</td>\n",
       "      <td>0</td>\n",
       "      <td>0</td>\n",
       "      <td>0</td>\n",
       "    </tr>\n",
       "    <tr>\n",
       "      <th>3</th>\n",
       "      <td>9</td>\n",
       "      <td>UN reports Leogane 80-90 destroyed. Only Hospi...</td>\n",
       "      <td>UN reports Leogane 80-90 destroyed. Only Hospi...</td>\n",
       "      <td>direct</td>\n",
       "      <td>0</td>\n",
       "      <td>1</td>\n",
       "      <td>1</td>\n",
       "      <td>0</td>\n",
       "      <td>0</td>\n",
       "      <td>0</td>\n",
       "      <td>0</td>\n",
       "      <td>0</td>\n",
       "      <td>0</td>\n",
       "      <td>0</td>\n",
       "      <td>0</td>\n",
       "      <td>0</td>\n",
       "      <td>0</td>\n",
       "      <td>1</td>\n",
       "      <td>1</td>\n",
       "      <td>0</td>\n",
       "      <td>1</td>\n",
       "      <td>0</td>\n",
       "      <td>0</td>\n",
       "      <td>0</td>\n",
       "      <td>0</td>\n",
       "      <td>1</td>\n",
       "      <td>0</td>\n",
       "      <td>0</td>\n",
       "      <td>0</td>\n",
       "      <td>1</td>\n",
       "      <td>1</td>\n",
       "      <td>0</td>\n",
       "      <td>0</td>\n",
       "      <td>0</td>\n",
       "      <td>0</td>\n",
       "      <td>0</td>\n",
       "      <td>0</td>\n",
       "      <td>0</td>\n",
       "      <td>0</td>\n",
       "      <td>0</td>\n",
       "    </tr>\n",
       "    <tr>\n",
       "      <th>4</th>\n",
       "      <td>12</td>\n",
       "      <td>says: west side of Haiti, rest of the country ...</td>\n",
       "      <td>facade ouest d Haiti et le reste du pays aujou...</td>\n",
       "      <td>direct</td>\n",
       "      <td>0</td>\n",
       "      <td>0</td>\n",
       "      <td>0</td>\n",
       "      <td>0</td>\n",
       "      <td>0</td>\n",
       "      <td>0</td>\n",
       "      <td>0</td>\n",
       "      <td>0</td>\n",
       "      <td>0</td>\n",
       "      <td>0</td>\n",
       "      <td>0</td>\n",
       "      <td>0</td>\n",
       "      <td>0</td>\n",
       "      <td>0</td>\n",
       "      <td>0</td>\n",
       "      <td>0</td>\n",
       "      <td>0</td>\n",
       "      <td>0</td>\n",
       "      <td>0</td>\n",
       "      <td>0</td>\n",
       "      <td>0</td>\n",
       "      <td>0</td>\n",
       "      <td>0</td>\n",
       "      <td>0</td>\n",
       "      <td>0</td>\n",
       "      <td>1</td>\n",
       "      <td>0</td>\n",
       "      <td>0</td>\n",
       "      <td>0</td>\n",
       "      <td>0</td>\n",
       "      <td>0</td>\n",
       "      <td>0</td>\n",
       "      <td>0</td>\n",
       "      <td>0</td>\n",
       "      <td>0</td>\n",
       "      <td>0</td>\n",
       "    </tr>\n",
       "  </tbody>\n",
       "</table>\n",
       "</div>"
      ],
      "text/plain": [
       "   id                                            message  \\\n",
       "0   2  Weather update - a cold front from Cuba that c...   \n",
       "1   7            Is the Hurricane over or is it not over   \n",
       "2   8                    Looking for someone but no name   \n",
       "3   9  UN reports Leogane 80-90 destroyed. Only Hospi...   \n",
       "4  12  says: west side of Haiti, rest of the country ...   \n",
       "\n",
       "                                            original   genre aid_centers  \\\n",
       "0  Un front froid se retrouve sur Cuba ce matin. ...  direct           0   \n",
       "1                 Cyclone nan fini osinon li pa fini  direct           0   \n",
       "2  Patnm, di Maryani relem pou li banm nouvel li ...  direct           0   \n",
       "3  UN reports Leogane 80-90 destroyed. Only Hospi...  direct           0   \n",
       "4  facade ouest d Haiti et le reste du pays aujou...  direct           0   \n",
       "\n",
       "  aid_related buildings child_alone clothing cold death direct_report  \\\n",
       "0           0         0           0        0    0     0             0   \n",
       "1           1         0           0        0    0     0             0   \n",
       "2           0         0           0        0    0     0             0   \n",
       "3           1         1           0        0    0     0             0   \n",
       "4           0         0           0        0    0     0             0   \n",
       "\n",
       "  earthquake electricity fire floods food hospitals infrastructure_related  \\\n",
       "0          0           0    0      0    0         0                      0   \n",
       "1          0           0    0      0    0         0                      0   \n",
       "2          0           0    0      0    0         0                      0   \n",
       "3          0           0    0      0    0         1                      1   \n",
       "4          0           0    0      0    0         0                      0   \n",
       "\n",
       "  medical_help medical_products military missing_people money offer other_aid  \\\n",
       "0            0                0        0              0     0     0         0   \n",
       "1            0                0        0              0     0     0         1   \n",
       "2            0                0        0              0     0     0         0   \n",
       "3            0                1        0              0     0     0         1   \n",
       "4            0                0        0              0     0     0         0   \n",
       "\n",
       "  other_infrastructure other_weather refugees related request  \\\n",
       "0                    0             0        0       1       0   \n",
       "1                    0             0        0       1       0   \n",
       "2                    0             0        0       1       0   \n",
       "3                    0             0        0       1       1   \n",
       "4                    0             0        0       1       0   \n",
       "\n",
       "  search_and_rescue security shelter shops storm tools transport water  \\\n",
       "0                 0        0       0     0     0     0         0     0   \n",
       "1                 0        0       0     0     1     0         0     0   \n",
       "2                 0        0       0     0     0     0         0     0   \n",
       "3                 0        0       0     0     0     0         0     0   \n",
       "4                 0        0       0     0     0     0         0     0   \n",
       "\n",
       "  weather_related  \n",
       "0               0  \n",
       "1               1  \n",
       "2               0  \n",
       "3               0  \n",
       "4               0  "
      ]
     },
     "execution_count": 4,
     "metadata": {},
     "output_type": "execute_result"
    }
   ],
   "source": [
    "df.head()"
   ]
  },
  {
   "cell_type": "code",
   "execution_count": 5,
   "metadata": {},
   "outputs": [],
   "source": [
    "# preliminary cleaning\n",
    "df.iloc[:,4:] = df.iloc[:,4:].astype('int64')\n",
    "df.drop(['related','child_alone'], axis=1, inplace=True)"
   ]
  },
  {
   "cell_type": "markdown",
   "metadata": {},
   "source": [
    "### 2. Write a tokenization function to process your text data"
   ]
  },
  {
   "cell_type": "code",
   "execution_count": 6,
   "metadata": {},
   "outputs": [],
   "source": [
    "stop_words = set(stopwords.words('english'))\n",
    "def tokenize(sentence):\n",
    "    stemmer = PorterStemmer()\n",
    "    lemmatizer = WordNetLemmatizer()\n",
    "    sentence = re.sub(\"[^a-zA-Z]\", \" \", sentence)\n",
    "    return [lemmatizer.lemmatize(word).lower().strip() for word in nltk.word_tokenize(sentence)\\\n",
    "            if not word in stop_words] \n",
    "\n",
    "message = df.message.apply(lambda x: \" \".join(tokenize(x)))"
   ]
  },
  {
   "cell_type": "code",
   "execution_count": 7,
   "metadata": {},
   "outputs": [
    {
     "data": {
      "text/plain": [
       "'weather update cold front cuba could pas haiti'"
      ]
     },
     "execution_count": 7,
     "metadata": {},
     "output_type": "execute_result"
    }
   ],
   "source": [
    "message[:10][0]"
   ]
  },
  {
   "cell_type": "markdown",
   "metadata": {},
   "source": [
    "#### Classes are very imbalanced"
   ]
  },
  {
   "cell_type": "code",
   "execution_count": 8,
   "metadata": {},
   "outputs": [
    {
     "name": "stdout",
     "output_type": "stream",
     "text": [
      "(26216, 38)\n"
     ]
    },
    {
     "data": {
      "text/html": [
       "<div>\n",
       "<style scoped>\n",
       "    .dataframe tbody tr th:only-of-type {\n",
       "        vertical-align: middle;\n",
       "    }\n",
       "\n",
       "    .dataframe tbody tr th {\n",
       "        vertical-align: top;\n",
       "    }\n",
       "\n",
       "    .dataframe thead th {\n",
       "        text-align: right;\n",
       "    }\n",
       "</style>\n",
       "<table border=\"1\" class=\"dataframe\">\n",
       "  <thead>\n",
       "    <tr style=\"text-align: right;\">\n",
       "      <th></th>\n",
       "      <th>aid_centers</th>\n",
       "      <th>aid_related</th>\n",
       "      <th>buildings</th>\n",
       "      <th>clothing</th>\n",
       "      <th>cold</th>\n",
       "      <th>death</th>\n",
       "      <th>direct_report</th>\n",
       "      <th>earthquake</th>\n",
       "      <th>electricity</th>\n",
       "      <th>fire</th>\n",
       "      <th>floods</th>\n",
       "      <th>food</th>\n",
       "      <th>hospitals</th>\n",
       "      <th>infrastructure_related</th>\n",
       "      <th>medical_help</th>\n",
       "      <th>medical_products</th>\n",
       "      <th>military</th>\n",
       "      <th>missing_people</th>\n",
       "      <th>money</th>\n",
       "      <th>offer</th>\n",
       "      <th>other_aid</th>\n",
       "      <th>other_infrastructure</th>\n",
       "      <th>other_weather</th>\n",
       "      <th>refugees</th>\n",
       "      <th>request</th>\n",
       "      <th>search_and_rescue</th>\n",
       "      <th>security</th>\n",
       "      <th>shelter</th>\n",
       "      <th>shops</th>\n",
       "      <th>storm</th>\n",
       "      <th>tools</th>\n",
       "      <th>transport</th>\n",
       "      <th>water</th>\n",
       "      <th>weather_related</th>\n",
       "    </tr>\n",
       "  </thead>\n",
       "  <tbody>\n",
       "    <tr>\n",
       "      <th>0</th>\n",
       "      <td>25907</td>\n",
       "      <td>15356</td>\n",
       "      <td>24883</td>\n",
       "      <td>25811</td>\n",
       "      <td>25686</td>\n",
       "      <td>25022</td>\n",
       "      <td>21141</td>\n",
       "      <td>23761</td>\n",
       "      <td>25684</td>\n",
       "      <td>25934</td>\n",
       "      <td>24061</td>\n",
       "      <td>23293</td>\n",
       "      <td>25933</td>\n",
       "      <td>24511</td>\n",
       "      <td>24132</td>\n",
       "      <td>24903</td>\n",
       "      <td>25356</td>\n",
       "      <td>25918</td>\n",
       "      <td>25612</td>\n",
       "      <td>26098</td>\n",
       "      <td>22770</td>\n",
       "      <td>25065</td>\n",
       "      <td>24840</td>\n",
       "      <td>25341</td>\n",
       "      <td>21742</td>\n",
       "      <td>25492</td>\n",
       "      <td>25745</td>\n",
       "      <td>23902</td>\n",
       "      <td>26096</td>\n",
       "      <td>23773</td>\n",
       "      <td>26057</td>\n",
       "      <td>25015</td>\n",
       "      <td>24544</td>\n",
       "      <td>18919</td>\n",
       "    </tr>\n",
       "    <tr>\n",
       "      <th>1</th>\n",
       "      <td>309</td>\n",
       "      <td>10860</td>\n",
       "      <td>1333</td>\n",
       "      <td>405</td>\n",
       "      <td>530</td>\n",
       "      <td>1194</td>\n",
       "      <td>5075</td>\n",
       "      <td>2455</td>\n",
       "      <td>532</td>\n",
       "      <td>282</td>\n",
       "      <td>2155</td>\n",
       "      <td>2923</td>\n",
       "      <td>283</td>\n",
       "      <td>1705</td>\n",
       "      <td>2084</td>\n",
       "      <td>1313</td>\n",
       "      <td>860</td>\n",
       "      <td>298</td>\n",
       "      <td>604</td>\n",
       "      <td>118</td>\n",
       "      <td>3446</td>\n",
       "      <td>1151</td>\n",
       "      <td>1376</td>\n",
       "      <td>875</td>\n",
       "      <td>4474</td>\n",
       "      <td>724</td>\n",
       "      <td>471</td>\n",
       "      <td>2314</td>\n",
       "      <td>120</td>\n",
       "      <td>2443</td>\n",
       "      <td>159</td>\n",
       "      <td>1201</td>\n",
       "      <td>1672</td>\n",
       "      <td>7297</td>\n",
       "    </tr>\n",
       "  </tbody>\n",
       "</table>\n",
       "</div>"
      ],
      "text/plain": [
       "   aid_centers  aid_related  buildings  clothing   cold  death  direct_report  \\\n",
       "0        25907        15356      24883     25811  25686  25022          21141   \n",
       "1          309        10860       1333       405    530   1194           5075   \n",
       "\n",
       "   earthquake  electricity   fire  floods   food  hospitals  \\\n",
       "0       23761        25684  25934   24061  23293      25933   \n",
       "1        2455          532    282    2155   2923        283   \n",
       "\n",
       "   infrastructure_related  medical_help  medical_products  military  \\\n",
       "0                   24511         24132             24903     25356   \n",
       "1                    1705          2084              1313       860   \n",
       "\n",
       "   missing_people  money  offer  other_aid  other_infrastructure  \\\n",
       "0           25918  25612  26098      22770                 25065   \n",
       "1             298    604    118       3446                  1151   \n",
       "\n",
       "   other_weather  refugees  request  search_and_rescue  security  shelter  \\\n",
       "0          24840     25341    21742              25492     25745    23902   \n",
       "1           1376       875     4474                724       471     2314   \n",
       "\n",
       "   shops  storm  tools  transport  water  weather_related  \n",
       "0  26096  23773  26057      25015  24544            18919  \n",
       "1    120   2443    159       1201   1672             7297  "
      ]
     },
     "execution_count": 8,
     "metadata": {},
     "output_type": "execute_result"
    }
   ],
   "source": [
    "print(df.shape)\n",
    "df.iloc[:,4:].apply(lambda x: x.value_counts())"
   ]
  },
  {
   "cell_type": "code",
   "execution_count": 9,
   "metadata": {},
   "outputs": [
    {
     "data": {
      "text/plain": [
       "id                            0\n",
       "message                       0\n",
       "original                  16046\n",
       "genre                         0\n",
       "aid_centers                   0\n",
       "aid_related                   0\n",
       "buildings                     0\n",
       "clothing                      0\n",
       "cold                          0\n",
       "death                         0\n",
       "direct_report                 0\n",
       "earthquake                    0\n",
       "electricity                   0\n",
       "fire                          0\n",
       "floods                        0\n",
       "food                          0\n",
       "hospitals                     0\n",
       "infrastructure_related        0\n",
       "medical_help                  0\n",
       "medical_products              0\n",
       "military                      0\n",
       "missing_people                0\n",
       "money                         0\n",
       "offer                         0\n",
       "other_aid                     0\n",
       "other_infrastructure          0\n",
       "other_weather                 0\n",
       "refugees                      0\n",
       "request                       0\n",
       "search_and_rescue             0\n",
       "security                      0\n",
       "shelter                       0\n",
       "shops                         0\n",
       "storm                         0\n",
       "tools                         0\n",
       "transport                     0\n",
       "water                         0\n",
       "weather_related               0\n",
       "dtype: int64"
      ]
     },
     "execution_count": 9,
     "metadata": {},
     "output_type": "execute_result"
    }
   ],
   "source": [
    "df.isnull().sum()"
   ]
  },
  {
   "cell_type": "markdown",
   "metadata": {},
   "source": [
    "### 3. Build a machine learning pipeline\n",
    "This machine pipeline should take in the `message` column as input and output classification results on the other 36 categories in the dataset. You may find the [MultiOutputClassifier](http://scikit-learn.org/stable/modules/generated/sklearn.multioutput.MultiOutputClassifier.html) helpful for predicting multiple target variables."
   ]
  },
  {
   "cell_type": "code",
   "execution_count": 10,
   "metadata": {},
   "outputs": [],
   "source": [
    "class Clean_text(BaseEstimator, TransformerMixin):\n",
    "    def __init__(self):\n",
    "        return None\n",
    "        \n",
    "    def fit(self, X=None, y=None):\n",
    "        return self\n",
    "    \n",
    "    def transform(self, X, y=None):\n",
    "        return pd.Series(X).apply(lambda x: \" \".join(self.tokenize(x))).values\n",
    "        #return X, y\n",
    "    \n",
    "    def tokenize(self, sentence):\n",
    "        #stemmer = PorterStemmer()\n",
    "        lemmatizer = WordNetLemmatizer()\n",
    "        sentence = re.sub(\"[^a-zA-Z]\", \" \", sentence)\n",
    "        return [lemmatizer.lemmatize(word).lower().strip() for word in nltk.word_tokenize(sentence)\\\n",
    "            if not word in stop_words] "
   ]
  },
  {
   "cell_type": "code",
   "execution_count": 11,
   "metadata": {},
   "outputs": [
    {
     "data": {
      "text/plain": [
       "array(['weather update cold front cuba could pas haiti', 'is hurricane',\n",
       "       'looking someone name',\n",
       "       'un report leogane destroyed only hospital st croix functioning needs supply desperately',\n",
       "       'say west side haiti rest country today tonight'], dtype=object)"
      ]
     },
     "execution_count": 11,
     "metadata": {},
     "output_type": "execute_result"
    }
   ],
   "source": [
    "clean_text = Clean_text()\n",
    "\n",
    "clean_text.transform(df.message)[:5]"
   ]
  },
  {
   "cell_type": "code",
   "execution_count": 12,
   "metadata": {},
   "outputs": [],
   "source": [
    "ml_pipeline = Pipeline([\n",
    "    ('clean_text', Clean_text()),\n",
    "    ('vectorizer', CountVectorizer()),\n",
    "    ('tfidf', TfidfTransformer()),\n",
    "    ('abclf', MultiOutputClassifier(AdaBoostClassifier()))])"
   ]
  },
  {
   "cell_type": "markdown",
   "metadata": {},
   "source": [
    "### 4. Train pipeline\n",
    "- Split data into train and test sets\n",
    "- Train pipeline"
   ]
  },
  {
   "cell_type": "code",
   "execution_count": 13,
   "metadata": {},
   "outputs": [
    {
     "data": {
      "text/plain": [
       "Pipeline(memory=None,\n",
       "     steps=[('clean_text', Clean_text()), ('vectorizer', CountVectorizer(analyzer='word', binary=False, decode_error='strict',\n",
       "        dtype=<class 'numpy.int64'>, encoding='utf-8', input='content',\n",
       "        lowercase=True, max_df=1.0, max_features=None, min_df=1,\n",
       "        ngram_range=(1, 1), preprocessor=...or=None,\n",
       "          learning_rate=1.0, n_estimators=50, random_state=None),\n",
       "           n_jobs=None))])"
      ]
     },
     "execution_count": 13,
     "metadata": {},
     "output_type": "execute_result"
    }
   ],
   "source": [
    "X = df.message.copy()\n",
    "y = df.iloc[:,4:].values \n",
    "\n",
    "X_train, X_test, y_train, y_test = train_test_split(X, y, test_size=0.2, random_state=32) # training\n",
    "X_train.shape, y_train.shape\n",
    "ml_pipeline.fit(X_train, y_train)"
   ]
  },
  {
   "cell_type": "markdown",
   "metadata": {},
   "source": [
    "### 5. Test your model\n",
    "Report the f1 score, precision and recall for each output category of the dataset. You can do this by iterating through the columns and calling sklearn's `classification_report` on each."
   ]
  },
  {
   "cell_type": "markdown",
   "metadata": {},
   "source": [
    "#### Because classes are imbalanced, accuracy is not a good metric for this problem."
   ]
  },
  {
   "cell_type": "code",
   "execution_count": 29,
   "metadata": {},
   "outputs": [
    {
     "data": {
      "text/plain": [
       "23313    Forty-eight teams of medical and paramedical s...\n",
       "7683                   NOTES: this message is not complete\n",
       "23462    All graphs provide evidence that, considering ...\n",
       "22334    construction material: bricks - 500 t; cement ...\n",
       "6522     I can arrange shelter shelter, i live out in t...\n",
       "Name: message, dtype: object"
      ]
     },
     "execution_count": 29,
     "metadata": {},
     "output_type": "execute_result"
    }
   ],
   "source": [
    "X_train.head()"
   ]
  },
  {
   "cell_type": "code",
   "execution_count": 122,
   "metadata": {},
   "outputs": [],
   "source": [
    "def cross_val(X_train, y_train, pipeline):\n",
    "    labels = []\n",
    "    preds = []\n",
    "    kf = KFold(n_splits=5, shuffle=True)\n",
    "    for train_indices, test_indices in kf.split(X_train, y_train):\n",
    "   \n",
    "        X_train_kf = X_train.iloc[train_indices]\n",
    "        y_train_kf = y_train[train_indices]\n",
    "    \n",
    "        X_test_kf = X_train.iloc[test_indices]\n",
    "        y_test_kf = y_train[test_indices]\n",
    "  \n",
    "        pipeline.fit(X_train_kf, y_train_kf)\n",
    "    \n",
    "                \n",
    "        labels.extend(y_test_kf)\n",
    "        preds.extend(pipeline.predict(X_test_kf))\n",
    "\n",
    "    return labels, preds"
   ]
  },
  {
   "cell_type": "code",
   "execution_count": 123,
   "metadata": {},
   "outputs": [],
   "source": [
    "labels, preds = cross_val(X_train, y_train, ml_pipeline)"
   ]
  },
  {
   "cell_type": "code",
   "execution_count": 140,
   "metadata": {},
   "outputs": [],
   "source": [
    "def predict_scores(labels, preds):\n",
    "    list_scorings = [f1_score, accuracy_score, precision_score, recall_score]\n",
    "    labels_df = pd.DataFrame(labels)\n",
    "    preds_df = pd.DataFrame(preds)\n",
    "    return pd.DataFrame({scoring.__name__: {column: scoring(labels_df.iloc[:,n], preds_df.iloc[:,n]) \n",
    "                                            for n, column in enumerate(df.iloc[:,4:].columns.values)} \n",
    "                         for scoring in list_scorings})"
   ]
  },
  {
   "cell_type": "code",
   "execution_count": 141,
   "metadata": {},
   "outputs": [],
   "source": [
    "scoring_df_original = predict_scores(labels, preds)"
   ]
  },
  {
   "cell_type": "code",
   "execution_count": 142,
   "metadata": {},
   "outputs": [
    {
     "data": {
      "text/plain": [
       "array([0, 1, 0, 0, 0, 0, 1, 0, 0, 0, 0, 0, 0, 1, 0, 0, 0, 0, 0, 0, 1, 1,\n",
       "       0, 0, 1, 1, 0, 0, 0, 0, 0, 0, 0, 0])"
      ]
     },
     "execution_count": 142,
     "metadata": {},
     "output_type": "execute_result"
    }
   ],
   "source": [
    "labels[:][2]"
   ]
  },
  {
   "cell_type": "code",
   "execution_count": 143,
   "metadata": {},
   "outputs": [
    {
     "data": {
      "text/html": [
       "<div>\n",
       "<style scoped>\n",
       "    .dataframe tbody tr th:only-of-type {\n",
       "        vertical-align: middle;\n",
       "    }\n",
       "\n",
       "    .dataframe tbody tr th {\n",
       "        vertical-align: top;\n",
       "    }\n",
       "\n",
       "    .dataframe thead th {\n",
       "        text-align: right;\n",
       "    }\n",
       "</style>\n",
       "<table border=\"1\" class=\"dataframe\">\n",
       "  <thead>\n",
       "    <tr style=\"text-align: right;\">\n",
       "      <th></th>\n",
       "      <th>f1_score</th>\n",
       "      <th>accuracy_score</th>\n",
       "      <th>precision_score</th>\n",
       "      <th>recall_score</th>\n",
       "    </tr>\n",
       "  </thead>\n",
       "  <tbody>\n",
       "    <tr>\n",
       "      <th>aid_centers</th>\n",
       "      <td>0.127273</td>\n",
       "      <td>0.986267</td>\n",
       "      <td>0.259259</td>\n",
       "      <td>0.084337</td>\n",
       "    </tr>\n",
       "    <tr>\n",
       "      <th>aid_related</th>\n",
       "      <td>0.671009</td>\n",
       "      <td>0.756723</td>\n",
       "      <td>0.757792</td>\n",
       "      <td>0.602060</td>\n",
       "    </tr>\n",
       "    <tr>\n",
       "      <th>buildings</th>\n",
       "      <td>0.509872</td>\n",
       "      <td>0.959756</td>\n",
       "      <td>0.663142</td>\n",
       "      <td>0.414151</td>\n",
       "    </tr>\n",
       "    <tr>\n",
       "      <th>clothing</th>\n",
       "      <td>0.527778</td>\n",
       "      <td>0.988652</td>\n",
       "      <td>0.734807</td>\n",
       "      <td>0.411765</td>\n",
       "    </tr>\n",
       "    <tr>\n",
       "      <th>cold</th>\n",
       "      <td>0.428125</td>\n",
       "      <td>0.982548</td>\n",
       "      <td>0.658654</td>\n",
       "      <td>0.317130</td>\n",
       "    </tr>\n",
       "    <tr>\n",
       "      <th>death</th>\n",
       "      <td>0.551724</td>\n",
       "      <td>0.967767</td>\n",
       "      <td>0.736283</td>\n",
       "      <td>0.441145</td>\n",
       "    </tr>\n",
       "    <tr>\n",
       "      <th>direct_report</th>\n",
       "      <td>0.501717</td>\n",
       "      <td>0.847797</td>\n",
       "      <td>0.693869</td>\n",
       "      <td>0.392910</td>\n",
       "    </tr>\n",
       "    <tr>\n",
       "      <th>earthquake</th>\n",
       "      <td>0.827733</td>\n",
       "      <td>0.969197</td>\n",
       "      <td>0.879320</td>\n",
       "      <td>0.781864</td>\n",
       "    </tr>\n",
       "    <tr>\n",
       "      <th>electricity</th>\n",
       "      <td>0.335463</td>\n",
       "      <td>0.980164</td>\n",
       "      <td>0.535714</td>\n",
       "      <td>0.244186</td>\n",
       "    </tr>\n",
       "    <tr>\n",
       "      <th>fire</th>\n",
       "      <td>0.284768</td>\n",
       "      <td>0.989701</td>\n",
       "      <td>0.597222</td>\n",
       "      <td>0.186957</td>\n",
       "    </tr>\n",
       "    <tr>\n",
       "      <th>floods</th>\n",
       "      <td>0.667846</td>\n",
       "      <td>0.955226</td>\n",
       "      <td>0.842105</td>\n",
       "      <td>0.553341</td>\n",
       "    </tr>\n",
       "    <tr>\n",
       "      <th>food</th>\n",
       "      <td>0.728821</td>\n",
       "      <td>0.943830</td>\n",
       "      <td>0.793882</td>\n",
       "      <td>0.673617</td>\n",
       "    </tr>\n",
       "    <tr>\n",
       "      <th>hospitals</th>\n",
       "      <td>0.162162</td>\n",
       "      <td>0.988175</td>\n",
       "      <td>0.324324</td>\n",
       "      <td>0.108108</td>\n",
       "    </tr>\n",
       "    <tr>\n",
       "      <th>infrastructure_related</th>\n",
       "      <td>0.147217</td>\n",
       "      <td>0.932052</td>\n",
       "      <td>0.380805</td>\n",
       "      <td>0.091246</td>\n",
       "    </tr>\n",
       "    <tr>\n",
       "      <th>medical_help</th>\n",
       "      <td>0.396096</td>\n",
       "      <td>0.929191</td>\n",
       "      <td>0.608750</td>\n",
       "      <td>0.293550</td>\n",
       "    </tr>\n",
       "    <tr>\n",
       "      <th>medical_products</th>\n",
       "      <td>0.419162</td>\n",
       "      <td>0.958373</td>\n",
       "      <td>0.654886</td>\n",
       "      <td>0.308219</td>\n",
       "    </tr>\n",
       "    <tr>\n",
       "      <th>military</th>\n",
       "      <td>0.445920</td>\n",
       "      <td>0.972153</td>\n",
       "      <td>0.611979</td>\n",
       "      <td>0.350746</td>\n",
       "    </tr>\n",
       "    <tr>\n",
       "      <th>missing_people</th>\n",
       "      <td>0.210526</td>\n",
       "      <td>0.988556</td>\n",
       "      <td>0.463768</td>\n",
       "      <td>0.136170</td>\n",
       "    </tr>\n",
       "    <tr>\n",
       "      <th>money</th>\n",
       "      <td>0.389575</td>\n",
       "      <td>0.978781</td>\n",
       "      <td>0.586777</td>\n",
       "      <td>0.291581</td>\n",
       "    </tr>\n",
       "    <tr>\n",
       "      <th>offer</th>\n",
       "      <td>0.017699</td>\n",
       "      <td>0.994707</td>\n",
       "      <td>0.043478</td>\n",
       "      <td>0.011111</td>\n",
       "    </tr>\n",
       "    <tr>\n",
       "      <th>other_aid</th>\n",
       "      <td>0.237479</td>\n",
       "      <td>0.870780</td>\n",
       "      <td>0.505995</td>\n",
       "      <td>0.155147</td>\n",
       "    </tr>\n",
       "    <tr>\n",
       "      <th>other_infrastructure</th>\n",
       "      <td>0.132873</td>\n",
       "      <td>0.952079</td>\n",
       "      <td>0.304348</td>\n",
       "      <td>0.084989</td>\n",
       "    </tr>\n",
       "    <tr>\n",
       "      <th>other_weather</th>\n",
       "      <td>0.198880</td>\n",
       "      <td>0.945451</td>\n",
       "      <td>0.446541</td>\n",
       "      <td>0.127928</td>\n",
       "    </tr>\n",
       "    <tr>\n",
       "      <th>refugees</th>\n",
       "      <td>0.325025</td>\n",
       "      <td>0.967719</td>\n",
       "      <td>0.532680</td>\n",
       "      <td>0.233859</td>\n",
       "    </tr>\n",
       "    <tr>\n",
       "      <th>request</th>\n",
       "      <td>0.602049</td>\n",
       "      <td>0.887040</td>\n",
       "      <td>0.756437</td>\n",
       "      <td>0.500000</td>\n",
       "    </tr>\n",
       "    <tr>\n",
       "      <th>search_and_rescue</th>\n",
       "      <td>0.280702</td>\n",
       "      <td>0.974585</td>\n",
       "      <td>0.574586</td>\n",
       "      <td>0.185714</td>\n",
       "    </tr>\n",
       "    <tr>\n",
       "      <th>security</th>\n",
       "      <td>0.099379</td>\n",
       "      <td>0.979258</td>\n",
       "      <td>0.285714</td>\n",
       "      <td>0.060150</td>\n",
       "    </tr>\n",
       "    <tr>\n",
       "      <th>shelter</th>\n",
       "      <td>0.627351</td>\n",
       "      <td>0.944259</td>\n",
       "      <td>0.754601</td>\n",
       "      <td>0.536825</td>\n",
       "    </tr>\n",
       "    <tr>\n",
       "      <th>shops</th>\n",
       "      <td>0.017699</td>\n",
       "      <td>0.994707</td>\n",
       "      <td>0.055556</td>\n",
       "      <td>0.010526</td>\n",
       "    </tr>\n",
       "    <tr>\n",
       "      <th>storm</th>\n",
       "      <td>0.599814</td>\n",
       "      <td>0.938537</td>\n",
       "      <td>0.764846</td>\n",
       "      <td>0.493361</td>\n",
       "    </tr>\n",
       "    <tr>\n",
       "      <th>tools</th>\n",
       "      <td>0.026144</td>\n",
       "      <td>0.992895</td>\n",
       "      <td>0.083333</td>\n",
       "      <td>0.015504</td>\n",
       "    </tr>\n",
       "    <tr>\n",
       "      <th>transport</th>\n",
       "      <td>0.312647</td>\n",
       "      <td>0.958278</td>\n",
       "      <td>0.627760</td>\n",
       "      <td>0.208159</td>\n",
       "    </tr>\n",
       "    <tr>\n",
       "      <th>water</th>\n",
       "      <td>0.683908</td>\n",
       "      <td>0.963284</td>\n",
       "      <td>0.750450</td>\n",
       "      <td>0.628205</td>\n",
       "    </tr>\n",
       "    <tr>\n",
       "      <th>weather_related</th>\n",
       "      <td>0.746174</td>\n",
       "      <td>0.874261</td>\n",
       "      <td>0.856575</td>\n",
       "      <td>0.660982</td>\n",
       "    </tr>\n",
       "  </tbody>\n",
       "</table>\n",
       "</div>"
      ],
      "text/plain": [
       "                        f1_score  accuracy_score  precision_score  \\\n",
       "aid_centers             0.127273        0.986267         0.259259   \n",
       "aid_related             0.671009        0.756723         0.757792   \n",
       "buildings               0.509872        0.959756         0.663142   \n",
       "clothing                0.527778        0.988652         0.734807   \n",
       "cold                    0.428125        0.982548         0.658654   \n",
       "death                   0.551724        0.967767         0.736283   \n",
       "direct_report           0.501717        0.847797         0.693869   \n",
       "earthquake              0.827733        0.969197         0.879320   \n",
       "electricity             0.335463        0.980164         0.535714   \n",
       "fire                    0.284768        0.989701         0.597222   \n",
       "floods                  0.667846        0.955226         0.842105   \n",
       "food                    0.728821        0.943830         0.793882   \n",
       "hospitals               0.162162        0.988175         0.324324   \n",
       "infrastructure_related  0.147217        0.932052         0.380805   \n",
       "medical_help            0.396096        0.929191         0.608750   \n",
       "medical_products        0.419162        0.958373         0.654886   \n",
       "military                0.445920        0.972153         0.611979   \n",
       "missing_people          0.210526        0.988556         0.463768   \n",
       "money                   0.389575        0.978781         0.586777   \n",
       "offer                   0.017699        0.994707         0.043478   \n",
       "other_aid               0.237479        0.870780         0.505995   \n",
       "other_infrastructure    0.132873        0.952079         0.304348   \n",
       "other_weather           0.198880        0.945451         0.446541   \n",
       "refugees                0.325025        0.967719         0.532680   \n",
       "request                 0.602049        0.887040         0.756437   \n",
       "search_and_rescue       0.280702        0.974585         0.574586   \n",
       "security                0.099379        0.979258         0.285714   \n",
       "shelter                 0.627351        0.944259         0.754601   \n",
       "shops                   0.017699        0.994707         0.055556   \n",
       "storm                   0.599814        0.938537         0.764846   \n",
       "tools                   0.026144        0.992895         0.083333   \n",
       "transport               0.312647        0.958278         0.627760   \n",
       "water                   0.683908        0.963284         0.750450   \n",
       "weather_related         0.746174        0.874261         0.856575   \n",
       "\n",
       "                        recall_score  \n",
       "aid_centers                 0.084337  \n",
       "aid_related                 0.602060  \n",
       "buildings                   0.414151  \n",
       "clothing                    0.411765  \n",
       "cold                        0.317130  \n",
       "death                       0.441145  \n",
       "direct_report               0.392910  \n",
       "earthquake                  0.781864  \n",
       "electricity                 0.244186  \n",
       "fire                        0.186957  \n",
       "floods                      0.553341  \n",
       "food                        0.673617  \n",
       "hospitals                   0.108108  \n",
       "infrastructure_related      0.091246  \n",
       "medical_help                0.293550  \n",
       "medical_products            0.308219  \n",
       "military                    0.350746  \n",
       "missing_people              0.136170  \n",
       "money                       0.291581  \n",
       "offer                       0.011111  \n",
       "other_aid                   0.155147  \n",
       "other_infrastructure        0.084989  \n",
       "other_weather               0.127928  \n",
       "refugees                    0.233859  \n",
       "request                     0.500000  \n",
       "search_and_rescue           0.185714  \n",
       "security                    0.060150  \n",
       "shelter                     0.536825  \n",
       "shops                       0.010526  \n",
       "storm                       0.493361  \n",
       "tools                       0.015504  \n",
       "transport                   0.208159  \n",
       "water                       0.628205  \n",
       "weather_related             0.660982  "
      ]
     },
     "execution_count": 143,
     "metadata": {},
     "output_type": "execute_result"
    }
   ],
   "source": [
    "scoring_df_original"
   ]
  },
  {
   "cell_type": "code",
   "execution_count": 144,
   "metadata": {},
   "outputs": [
    {
     "data": {
      "text/plain": [
       "0.10062893081761005"
      ]
     },
     "execution_count": 144,
     "metadata": {},
     "output_type": "execute_result"
    }
   ],
   "source": [
    "# sanity check\n",
    "X_mod = df.message.copy()\n",
    "y_mod = df.iloc[:,4].values \n",
    "\n",
    "ml_pipeline_single = Pipeline([\n",
    "    ('clean_text', Clean_text()),\n",
    "    ('vectorizer', CountVectorizer()),\n",
    "    ('tfidf', TfidfTransformer()),\n",
    "    ('abclf', AdaBoostClassifier())])\n",
    "\n",
    "X_train_mod, X_test_mod, y_train_mod, y_test_mod = train_test_split(X_mod, y_mod, test_size=0.2, random_state=32)\n",
    "ml_pipeline_single.fit(X_train_mod, y_train_mod)\n",
    "labels_df_mod, preds_df_mod = cross_val(X_train_mod, y_train_mod, ml_pipeline_single)\n",
    "f1_score(labels_df_mod, preds_df_mod)"
   ]
  },
  {
   "cell_type": "markdown",
   "metadata": {},
   "source": [
    "### 6. Improve your model\n",
    "Use grid search to find better parameters. "
   ]
  },
  {
   "cell_type": "code",
   "execution_count": 40,
   "metadata": {},
   "outputs": [
    {
     "data": {
      "text/plain": [
       "{'memory': None,\n",
       " 'steps': [('clean_text', Clean_text()),\n",
       "  ('vectorizer',\n",
       "   CountVectorizer(analyzer='word', binary=False, decode_error='strict',\n",
       "           dtype=<class 'numpy.int64'>, encoding='utf-8', input='content',\n",
       "           lowercase=True, max_df=1.0, max_features=None, min_df=1,\n",
       "           ngram_range=(1, 1), preprocessor=None, stop_words=None,\n",
       "           strip_accents=None, token_pattern='(?u)\\\\b\\\\w\\\\w+\\\\b',\n",
       "           tokenizer=None, vocabulary=None)),\n",
       "  ('tfidf',\n",
       "   TfidfTransformer(norm='l2', smooth_idf=True, sublinear_tf=False, use_idf=True)),\n",
       "  ('abclf',\n",
       "   MultiOutputClassifier(estimator=AdaBoostClassifier(algorithm='SAMME.R', base_estimator=None,\n",
       "             learning_rate=1.0, n_estimators=50, random_state=None),\n",
       "              n_jobs=None))],\n",
       " 'clean_text': Clean_text(),\n",
       " 'vectorizer': CountVectorizer(analyzer='word', binary=False, decode_error='strict',\n",
       "         dtype=<class 'numpy.int64'>, encoding='utf-8', input='content',\n",
       "         lowercase=True, max_df=1.0, max_features=None, min_df=1,\n",
       "         ngram_range=(1, 1), preprocessor=None, stop_words=None,\n",
       "         strip_accents=None, token_pattern='(?u)\\\\b\\\\w\\\\w+\\\\b',\n",
       "         tokenizer=None, vocabulary=None),\n",
       " 'tfidf': TfidfTransformer(norm='l2', smooth_idf=True, sublinear_tf=False, use_idf=True),\n",
       " 'abclf': MultiOutputClassifier(estimator=AdaBoostClassifier(algorithm='SAMME.R', base_estimator=None,\n",
       "           learning_rate=1.0, n_estimators=50, random_state=None),\n",
       "            n_jobs=None),\n",
       " 'vectorizer__analyzer': 'word',\n",
       " 'vectorizer__binary': False,\n",
       " 'vectorizer__decode_error': 'strict',\n",
       " 'vectorizer__dtype': numpy.int64,\n",
       " 'vectorizer__encoding': 'utf-8',\n",
       " 'vectorizer__input': 'content',\n",
       " 'vectorizer__lowercase': True,\n",
       " 'vectorizer__max_df': 1.0,\n",
       " 'vectorizer__max_features': None,\n",
       " 'vectorizer__min_df': 1,\n",
       " 'vectorizer__ngram_range': (1, 1),\n",
       " 'vectorizer__preprocessor': None,\n",
       " 'vectorizer__stop_words': None,\n",
       " 'vectorizer__strip_accents': None,\n",
       " 'vectorizer__token_pattern': '(?u)\\\\b\\\\w\\\\w+\\\\b',\n",
       " 'vectorizer__tokenizer': None,\n",
       " 'vectorizer__vocabulary': None,\n",
       " 'tfidf__norm': 'l2',\n",
       " 'tfidf__smooth_idf': True,\n",
       " 'tfidf__sublinear_tf': False,\n",
       " 'tfidf__use_idf': True,\n",
       " 'abclf__estimator__algorithm': 'SAMME.R',\n",
       " 'abclf__estimator__base_estimator': None,\n",
       " 'abclf__estimator__learning_rate': 1.0,\n",
       " 'abclf__estimator__n_estimators': 50,\n",
       " 'abclf__estimator__random_state': None,\n",
       " 'abclf__estimator': AdaBoostClassifier(algorithm='SAMME.R', base_estimator=None,\n",
       "           learning_rate=1.0, n_estimators=50, random_state=None),\n",
       " 'abclf__n_jobs': None}"
      ]
     },
     "execution_count": 40,
     "metadata": {},
     "output_type": "execute_result"
    }
   ],
   "source": [
    "ml_pipeline.get_params()"
   ]
  },
  {
   "cell_type": "code",
   "execution_count": null,
   "metadata": {},
   "outputs": [
    {
     "name": "stderr",
     "output_type": "stream",
     "text": [
      "/home/brunom/.miniconda2/lib/python3.6/site-packages/sklearn/model_selection/_split.py:2053: FutureWarning: You should specify a value for 'cv' instead of relying on the default value. The default value will change from 3 to 5 in version 0.22.\n",
      "  warnings.warn(CV_WARNING, FutureWarning)\n",
      "[Parallel(n_jobs=1)]: Using backend SequentialBackend with 1 concurrent workers.\n"
     ]
    },
    {
     "name": "stdout",
     "output_type": "stream",
     "text": [
      "Fitting 3 folds for each of 768 candidates, totalling 2304 fits\n",
      "[CV] abclf__estimator__learning_rate=0.1, abclf__estimator__n_estimators=50, tfidf__norm=l2, tfidf__smooth_idf=True, tfidf__sublinear_tf=True, vectorizer__max_features=3, vectorizer__min_df=1, vectorizer__ngram_range=(1, 1) \n"
     ]
    },
    {
     "name": "stderr",
     "output_type": "stream",
     "text": [
      "/home/brunom/.miniconda2/lib/python3.6/site-packages/sklearn/metrics/classification.py:1143: UndefinedMetricWarning: F-score is ill-defined and being set to 0.0 in labels with no predicted samples.\n",
      "  'precision', 'predicted', average, warn_for)\n"
     ]
    },
    {
     "name": "stdout",
     "output_type": "stream",
     "text": [
      "[CV]  abclf__estimator__learning_rate=0.1, abclf__estimator__n_estimators=50, tfidf__norm=l2, tfidf__smooth_idf=True, tfidf__sublinear_tf=True, vectorizer__max_features=3, vectorizer__min_df=1, vectorizer__ngram_range=(1, 1), score=0.031562929964428006, total=  12.3s\n",
      "[CV] abclf__estimator__learning_rate=0.1, abclf__estimator__n_estimators=50, tfidf__norm=l2, tfidf__smooth_idf=True, tfidf__sublinear_tf=True, vectorizer__max_features=3, vectorizer__min_df=1, vectorizer__ngram_range=(1, 1) \n"
     ]
    },
    {
     "name": "stderr",
     "output_type": "stream",
     "text": [
      "[Parallel(n_jobs=1)]: Done   1 out of   1 | elapsed:   18.1s remaining:    0.0s\n",
      "/home/brunom/.miniconda2/lib/python3.6/site-packages/sklearn/metrics/classification.py:1143: UndefinedMetricWarning: F-score is ill-defined and being set to 0.0 in labels with no predicted samples.\n",
      "  'precision', 'predicted', average, warn_for)\n"
     ]
    },
    {
     "name": "stdout",
     "output_type": "stream",
     "text": [
      "[CV]  abclf__estimator__learning_rate=0.1, abclf__estimator__n_estimators=50, tfidf__norm=l2, tfidf__smooth_idf=True, tfidf__sublinear_tf=True, vectorizer__max_features=3, vectorizer__min_df=1, vectorizer__ngram_range=(1, 1), score=0.03162652205606127, total=  13.1s\n",
      "[CV] abclf__estimator__learning_rate=0.1, abclf__estimator__n_estimators=50, tfidf__norm=l2, tfidf__smooth_idf=True, tfidf__sublinear_tf=True, vectorizer__max_features=3, vectorizer__min_df=1, vectorizer__ngram_range=(1, 1) \n"
     ]
    },
    {
     "name": "stderr",
     "output_type": "stream",
     "text": [
      "[Parallel(n_jobs=1)]: Done   2 out of   2 | elapsed:   37.1s remaining:    0.0s\n",
      "/home/brunom/.miniconda2/lib/python3.6/site-packages/sklearn/metrics/classification.py:1143: UndefinedMetricWarning: F-score is ill-defined and being set to 0.0 in labels with no predicted samples.\n",
      "  'precision', 'predicted', average, warn_for)\n"
     ]
    },
    {
     "name": "stdout",
     "output_type": "stream",
     "text": [
      "[CV]  abclf__estimator__learning_rate=0.1, abclf__estimator__n_estimators=50, tfidf__norm=l2, tfidf__smooth_idf=True, tfidf__sublinear_tf=True, vectorizer__max_features=3, vectorizer__min_df=1, vectorizer__ngram_range=(1, 1), score=0.0322482563655916, total=  12.5s\n",
      "[CV] abclf__estimator__learning_rate=0.1, abclf__estimator__n_estimators=50, tfidf__norm=l2, tfidf__smooth_idf=True, tfidf__sublinear_tf=True, vectorizer__max_features=3, vectorizer__min_df=1, vectorizer__ngram_range=(1, 2) \n"
     ]
    },
    {
     "name": "stderr",
     "output_type": "stream",
     "text": [
      "[Parallel(n_jobs=1)]: Done   3 out of   3 | elapsed:   55.2s remaining:    0.0s\n",
      "/home/brunom/.miniconda2/lib/python3.6/site-packages/sklearn/metrics/classification.py:1143: UndefinedMetricWarning: F-score is ill-defined and being set to 0.0 in labels with no predicted samples.\n",
      "  'precision', 'predicted', average, warn_for)\n"
     ]
    },
    {
     "name": "stdout",
     "output_type": "stream",
     "text": [
      "[CV]  abclf__estimator__learning_rate=0.1, abclf__estimator__n_estimators=50, tfidf__norm=l2, tfidf__smooth_idf=True, tfidf__sublinear_tf=True, vectorizer__max_features=3, vectorizer__min_df=1, vectorizer__ngram_range=(1, 2), score=0.031562929964428006, total=  12.9s\n",
      "[CV] abclf__estimator__learning_rate=0.1, abclf__estimator__n_estimators=50, tfidf__norm=l2, tfidf__smooth_idf=True, tfidf__sublinear_tf=True, vectorizer__max_features=3, vectorizer__min_df=1, vectorizer__ngram_range=(1, 2) \n"
     ]
    },
    {
     "name": "stderr",
     "output_type": "stream",
     "text": [
      "[Parallel(n_jobs=1)]: Done   4 out of   4 | elapsed:  1.2min remaining:    0.0s\n",
      "/home/brunom/.miniconda2/lib/python3.6/site-packages/sklearn/metrics/classification.py:1143: UndefinedMetricWarning: F-score is ill-defined and being set to 0.0 in labels with no predicted samples.\n",
      "  'precision', 'predicted', average, warn_for)\n"
     ]
    },
    {
     "name": "stdout",
     "output_type": "stream",
     "text": [
      "[CV]  abclf__estimator__learning_rate=0.1, abclf__estimator__n_estimators=50, tfidf__norm=l2, tfidf__smooth_idf=True, tfidf__sublinear_tf=True, vectorizer__max_features=3, vectorizer__min_df=1, vectorizer__ngram_range=(1, 2), score=0.03162652205606127, total=  12.7s\n",
      "[CV] abclf__estimator__learning_rate=0.1, abclf__estimator__n_estimators=50, tfidf__norm=l2, tfidf__smooth_idf=True, tfidf__sublinear_tf=True, vectorizer__max_features=3, vectorizer__min_df=1, vectorizer__ngram_range=(1, 2) \n"
     ]
    },
    {
     "name": "stderr",
     "output_type": "stream",
     "text": [
      "[Parallel(n_jobs=1)]: Done   5 out of   5 | elapsed:  1.5min remaining:    0.0s\n",
      "/home/brunom/.miniconda2/lib/python3.6/site-packages/sklearn/metrics/classification.py:1143: UndefinedMetricWarning: F-score is ill-defined and being set to 0.0 in labels with no predicted samples.\n",
      "  'precision', 'predicted', average, warn_for)\n"
     ]
    },
    {
     "name": "stdout",
     "output_type": "stream",
     "text": [
      "[CV]  abclf__estimator__learning_rate=0.1, abclf__estimator__n_estimators=50, tfidf__norm=l2, tfidf__smooth_idf=True, tfidf__sublinear_tf=True, vectorizer__max_features=3, vectorizer__min_df=1, vectorizer__ngram_range=(1, 2), score=0.0322482563655916, total=  13.4s\n",
      "[CV] abclf__estimator__learning_rate=0.1, abclf__estimator__n_estimators=50, tfidf__norm=l2, tfidf__smooth_idf=True, tfidf__sublinear_tf=True, vectorizer__max_features=3, vectorizer__min_df=2, vectorizer__ngram_range=(1, 1) \n"
     ]
    },
    {
     "name": "stderr",
     "output_type": "stream",
     "text": [
      "[Parallel(n_jobs=1)]: Done   6 out of   6 | elapsed:  1.9min remaining:    0.0s\n",
      "/home/brunom/.miniconda2/lib/python3.6/site-packages/sklearn/metrics/classification.py:1143: UndefinedMetricWarning: F-score is ill-defined and being set to 0.0 in labels with no predicted samples.\n",
      "  'precision', 'predicted', average, warn_for)\n"
     ]
    },
    {
     "name": "stdout",
     "output_type": "stream",
     "text": [
      "[CV]  abclf__estimator__learning_rate=0.1, abclf__estimator__n_estimators=50, tfidf__norm=l2, tfidf__smooth_idf=True, tfidf__sublinear_tf=True, vectorizer__max_features=3, vectorizer__min_df=2, vectorizer__ngram_range=(1, 1), score=0.031562929964428006, total=  12.4s\n",
      "[CV] abclf__estimator__learning_rate=0.1, abclf__estimator__n_estimators=50, tfidf__norm=l2, tfidf__smooth_idf=True, tfidf__sublinear_tf=True, vectorizer__max_features=3, vectorizer__min_df=2, vectorizer__ngram_range=(1, 1) \n"
     ]
    },
    {
     "name": "stderr",
     "output_type": "stream",
     "text": [
      "[Parallel(n_jobs=1)]: Done   7 out of   7 | elapsed:  2.2min remaining:    0.0s\n",
      "/home/brunom/.miniconda2/lib/python3.6/site-packages/sklearn/metrics/classification.py:1143: UndefinedMetricWarning: F-score is ill-defined and being set to 0.0 in labels with no predicted samples.\n",
      "  'precision', 'predicted', average, warn_for)\n"
     ]
    },
    {
     "name": "stdout",
     "output_type": "stream",
     "text": [
      "[CV]  abclf__estimator__learning_rate=0.1, abclf__estimator__n_estimators=50, tfidf__norm=l2, tfidf__smooth_idf=True, tfidf__sublinear_tf=True, vectorizer__max_features=3, vectorizer__min_df=2, vectorizer__ngram_range=(1, 1), score=0.03162652205606127, total=  12.2s\n",
      "[CV] abclf__estimator__learning_rate=0.1, abclf__estimator__n_estimators=50, tfidf__norm=l2, tfidf__smooth_idf=True, tfidf__sublinear_tf=True, vectorizer__max_features=3, vectorizer__min_df=2, vectorizer__ngram_range=(1, 1) \n"
     ]
    },
    {
     "name": "stderr",
     "output_type": "stream",
     "text": [
      "[Parallel(n_jobs=1)]: Done   8 out of   8 | elapsed:  2.5min remaining:    0.0s\n",
      "/home/brunom/.miniconda2/lib/python3.6/site-packages/sklearn/metrics/classification.py:1143: UndefinedMetricWarning: F-score is ill-defined and being set to 0.0 in labels with no predicted samples.\n",
      "  'precision', 'predicted', average, warn_for)\n"
     ]
    },
    {
     "name": "stdout",
     "output_type": "stream",
     "text": [
      "[CV]  abclf__estimator__learning_rate=0.1, abclf__estimator__n_estimators=50, tfidf__norm=l2, tfidf__smooth_idf=True, tfidf__sublinear_tf=True, vectorizer__max_features=3, vectorizer__min_df=2, vectorizer__ngram_range=(1, 1), score=0.0322482563655916, total=  12.5s\n",
      "[CV] abclf__estimator__learning_rate=0.1, abclf__estimator__n_estimators=50, tfidf__norm=l2, tfidf__smooth_idf=True, tfidf__sublinear_tf=True, vectorizer__max_features=3, vectorizer__min_df=2, vectorizer__ngram_range=(1, 2) \n"
     ]
    },
    {
     "name": "stderr",
     "output_type": "stream",
     "text": [
      "[Parallel(n_jobs=1)]: Done   9 out of   9 | elapsed:  2.8min remaining:    0.0s\n",
      "/home/brunom/.miniconda2/lib/python3.6/site-packages/sklearn/metrics/classification.py:1143: UndefinedMetricWarning: F-score is ill-defined and being set to 0.0 in labels with no predicted samples.\n",
      "  'precision', 'predicted', average, warn_for)\n"
     ]
    },
    {
     "name": "stdout",
     "output_type": "stream",
     "text": [
      "[CV]  abclf__estimator__learning_rate=0.1, abclf__estimator__n_estimators=50, tfidf__norm=l2, tfidf__smooth_idf=True, tfidf__sublinear_tf=True, vectorizer__max_features=3, vectorizer__min_df=2, vectorizer__ngram_range=(1, 2), score=0.031562929964428006, total=  12.9s\n",
      "[CV] abclf__estimator__learning_rate=0.1, abclf__estimator__n_estimators=50, tfidf__norm=l2, tfidf__smooth_idf=True, tfidf__sublinear_tf=True, vectorizer__max_features=3, vectorizer__min_df=2, vectorizer__ngram_range=(1, 2) \n"
     ]
    },
    {
     "name": "stderr",
     "output_type": "stream",
     "text": [
      "/home/brunom/.miniconda2/lib/python3.6/site-packages/sklearn/metrics/classification.py:1143: UndefinedMetricWarning: F-score is ill-defined and being set to 0.0 in labels with no predicted samples.\n",
      "  'precision', 'predicted', average, warn_for)\n"
     ]
    },
    {
     "name": "stdout",
     "output_type": "stream",
     "text": [
      "[CV]  abclf__estimator__learning_rate=0.1, abclf__estimator__n_estimators=50, tfidf__norm=l2, tfidf__smooth_idf=True, tfidf__sublinear_tf=True, vectorizer__max_features=3, vectorizer__min_df=2, vectorizer__ngram_range=(1, 2), score=0.03162652205606127, total=  12.9s\n",
      "[CV] abclf__estimator__learning_rate=0.1, abclf__estimator__n_estimators=50, tfidf__norm=l2, tfidf__smooth_idf=True, tfidf__sublinear_tf=True, vectorizer__max_features=3, vectorizer__min_df=2, vectorizer__ngram_range=(1, 2) \n"
     ]
    },
    {
     "name": "stderr",
     "output_type": "stream",
     "text": [
      "/home/brunom/.miniconda2/lib/python3.6/site-packages/sklearn/metrics/classification.py:1143: UndefinedMetricWarning: F-score is ill-defined and being set to 0.0 in labels with no predicted samples.\n",
      "  'precision', 'predicted', average, warn_for)\n"
     ]
    },
    {
     "name": "stdout",
     "output_type": "stream",
     "text": [
      "[CV]  abclf__estimator__learning_rate=0.1, abclf__estimator__n_estimators=50, tfidf__norm=l2, tfidf__smooth_idf=True, tfidf__sublinear_tf=True, vectorizer__max_features=3, vectorizer__min_df=2, vectorizer__ngram_range=(1, 2), score=0.0322482563655916, total=  12.5s\n",
      "[CV] abclf__estimator__learning_rate=0.1, abclf__estimator__n_estimators=50, tfidf__norm=l2, tfidf__smooth_idf=True, tfidf__sublinear_tf=True, vectorizer__max_features=5, vectorizer__min_df=1, vectorizer__ngram_range=(1, 1) \n"
     ]
    },
    {
     "name": "stderr",
     "output_type": "stream",
     "text": [
      "/home/brunom/.miniconda2/lib/python3.6/site-packages/sklearn/metrics/classification.py:1143: UndefinedMetricWarning: F-score is ill-defined and being set to 0.0 in labels with no predicted samples.\n",
      "  'precision', 'predicted', average, warn_for)\n"
     ]
    },
    {
     "name": "stdout",
     "output_type": "stream",
     "text": [
      "[CV]  abclf__estimator__learning_rate=0.1, abclf__estimator__n_estimators=50, tfidf__norm=l2, tfidf__smooth_idf=True, tfidf__sublinear_tf=True, vectorizer__max_features=5, vectorizer__min_df=1, vectorizer__ngram_range=(1, 1), score=0.05907626088917405, total=  12.9s\n",
      "[CV] abclf__estimator__learning_rate=0.1, abclf__estimator__n_estimators=50, tfidf__norm=l2, tfidf__smooth_idf=True, tfidf__sublinear_tf=True, vectorizer__max_features=5, vectorizer__min_df=1, vectorizer__ngram_range=(1, 1) \n"
     ]
    },
    {
     "name": "stderr",
     "output_type": "stream",
     "text": [
      "/home/brunom/.miniconda2/lib/python3.6/site-packages/sklearn/metrics/classification.py:1143: UndefinedMetricWarning: F-score is ill-defined and being set to 0.0 in labels with no predicted samples.\n",
      "  'precision', 'predicted', average, warn_for)\n"
     ]
    },
    {
     "name": "stdout",
     "output_type": "stream",
     "text": [
      "[CV]  abclf__estimator__learning_rate=0.1, abclf__estimator__n_estimators=50, tfidf__norm=l2, tfidf__smooth_idf=True, tfidf__sublinear_tf=True, vectorizer__max_features=5, vectorizer__min_df=1, vectorizer__ngram_range=(1, 1), score=0.060021152424134694, total=  13.4s\n",
      "[CV] abclf__estimator__learning_rate=0.1, abclf__estimator__n_estimators=50, tfidf__norm=l2, tfidf__smooth_idf=True, tfidf__sublinear_tf=True, vectorizer__max_features=5, vectorizer__min_df=1, vectorizer__ngram_range=(1, 1) \n"
     ]
    },
    {
     "name": "stderr",
     "output_type": "stream",
     "text": [
      "/home/brunom/.miniconda2/lib/python3.6/site-packages/sklearn/metrics/classification.py:1143: UndefinedMetricWarning: F-score is ill-defined and being set to 0.0 in labels with no predicted samples.\n",
      "  'precision', 'predicted', average, warn_for)\n"
     ]
    },
    {
     "name": "stdout",
     "output_type": "stream",
     "text": [
      "[CV]  abclf__estimator__learning_rate=0.1, abclf__estimator__n_estimators=50, tfidf__norm=l2, tfidf__smooth_idf=True, tfidf__sublinear_tf=True, vectorizer__max_features=5, vectorizer__min_df=1, vectorizer__ngram_range=(1, 1), score=0.06921366118717705, total=  12.8s\n",
      "[CV] abclf__estimator__learning_rate=0.1, abclf__estimator__n_estimators=50, tfidf__norm=l2, tfidf__smooth_idf=True, tfidf__sublinear_tf=True, vectorizer__max_features=5, vectorizer__min_df=1, vectorizer__ngram_range=(1, 2) \n"
     ]
    },
    {
     "name": "stderr",
     "output_type": "stream",
     "text": [
      "/home/brunom/.miniconda2/lib/python3.6/site-packages/sklearn/metrics/classification.py:1143: UndefinedMetricWarning: F-score is ill-defined and being set to 0.0 in labels with no predicted samples.\n",
      "  'precision', 'predicted', average, warn_for)\n"
     ]
    },
    {
     "name": "stdout",
     "output_type": "stream",
     "text": [
      "[CV]  abclf__estimator__learning_rate=0.1, abclf__estimator__n_estimators=50, tfidf__norm=l2, tfidf__smooth_idf=True, tfidf__sublinear_tf=True, vectorizer__max_features=5, vectorizer__min_df=1, vectorizer__ngram_range=(1, 2), score=0.05907626088917405, total=  13.1s\n",
      "[CV] abclf__estimator__learning_rate=0.1, abclf__estimator__n_estimators=50, tfidf__norm=l2, tfidf__smooth_idf=True, tfidf__sublinear_tf=True, vectorizer__max_features=5, vectorizer__min_df=1, vectorizer__ngram_range=(1, 2) \n"
     ]
    },
    {
     "name": "stderr",
     "output_type": "stream",
     "text": [
      "/home/brunom/.miniconda2/lib/python3.6/site-packages/sklearn/metrics/classification.py:1143: UndefinedMetricWarning: F-score is ill-defined and being set to 0.0 in labels with no predicted samples.\n",
      "  'precision', 'predicted', average, warn_for)\n"
     ]
    },
    {
     "name": "stdout",
     "output_type": "stream",
     "text": [
      "[CV]  abclf__estimator__learning_rate=0.1, abclf__estimator__n_estimators=50, tfidf__norm=l2, tfidf__smooth_idf=True, tfidf__sublinear_tf=True, vectorizer__max_features=5, vectorizer__min_df=1, vectorizer__ngram_range=(1, 2), score=0.060021152424134694, total=  14.3s\n",
      "[CV] abclf__estimator__learning_rate=0.1, abclf__estimator__n_estimators=50, tfidf__norm=l2, tfidf__smooth_idf=True, tfidf__sublinear_tf=True, vectorizer__max_features=5, vectorizer__min_df=1, vectorizer__ngram_range=(1, 2) \n"
     ]
    },
    {
     "name": "stderr",
     "output_type": "stream",
     "text": [
      "/home/brunom/.miniconda2/lib/python3.6/site-packages/sklearn/metrics/classification.py:1143: UndefinedMetricWarning: F-score is ill-defined and being set to 0.0 in labels with no predicted samples.\n",
      "  'precision', 'predicted', average, warn_for)\n"
     ]
    },
    {
     "name": "stdout",
     "output_type": "stream",
     "text": [
      "[CV]  abclf__estimator__learning_rate=0.1, abclf__estimator__n_estimators=50, tfidf__norm=l2, tfidf__smooth_idf=True, tfidf__sublinear_tf=True, vectorizer__max_features=5, vectorizer__min_df=1, vectorizer__ngram_range=(1, 2), score=0.06921366118717705, total=  13.4s\n",
      "[CV] abclf__estimator__learning_rate=0.1, abclf__estimator__n_estimators=50, tfidf__norm=l2, tfidf__smooth_idf=True, tfidf__sublinear_tf=True, vectorizer__max_features=5, vectorizer__min_df=2, vectorizer__ngram_range=(1, 1) \n"
     ]
    },
    {
     "name": "stderr",
     "output_type": "stream",
     "text": [
      "/home/brunom/.miniconda2/lib/python3.6/site-packages/sklearn/metrics/classification.py:1143: UndefinedMetricWarning: F-score is ill-defined and being set to 0.0 in labels with no predicted samples.\n",
      "  'precision', 'predicted', average, warn_for)\n"
     ]
    },
    {
     "name": "stdout",
     "output_type": "stream",
     "text": [
      "[CV]  abclf__estimator__learning_rate=0.1, abclf__estimator__n_estimators=50, tfidf__norm=l2, tfidf__smooth_idf=True, tfidf__sublinear_tf=True, vectorizer__max_features=5, vectorizer__min_df=2, vectorizer__ngram_range=(1, 1), score=0.05907626088917405, total=  12.9s\n",
      "[CV] abclf__estimator__learning_rate=0.1, abclf__estimator__n_estimators=50, tfidf__norm=l2, tfidf__smooth_idf=True, tfidf__sublinear_tf=True, vectorizer__max_features=5, vectorizer__min_df=2, vectorizer__ngram_range=(1, 1) \n"
     ]
    },
    {
     "name": "stderr",
     "output_type": "stream",
     "text": [
      "/home/brunom/.miniconda2/lib/python3.6/site-packages/sklearn/metrics/classification.py:1143: UndefinedMetricWarning: F-score is ill-defined and being set to 0.0 in labels with no predicted samples.\n",
      "  'precision', 'predicted', average, warn_for)\n"
     ]
    },
    {
     "name": "stdout",
     "output_type": "stream",
     "text": [
      "[CV]  abclf__estimator__learning_rate=0.1, abclf__estimator__n_estimators=50, tfidf__norm=l2, tfidf__smooth_idf=True, tfidf__sublinear_tf=True, vectorizer__max_features=5, vectorizer__min_df=2, vectorizer__ngram_range=(1, 1), score=0.060021152424134694, total=  12.6s\n",
      "[CV] abclf__estimator__learning_rate=0.1, abclf__estimator__n_estimators=50, tfidf__norm=l2, tfidf__smooth_idf=True, tfidf__sublinear_tf=True, vectorizer__max_features=5, vectorizer__min_df=2, vectorizer__ngram_range=(1, 1) \n"
     ]
    },
    {
     "name": "stderr",
     "output_type": "stream",
     "text": [
      "/home/brunom/.miniconda2/lib/python3.6/site-packages/sklearn/metrics/classification.py:1143: UndefinedMetricWarning: F-score is ill-defined and being set to 0.0 in labels with no predicted samples.\n",
      "  'precision', 'predicted', average, warn_for)\n"
     ]
    },
    {
     "name": "stdout",
     "output_type": "stream",
     "text": [
      "[CV]  abclf__estimator__learning_rate=0.1, abclf__estimator__n_estimators=50, tfidf__norm=l2, tfidf__smooth_idf=True, tfidf__sublinear_tf=True, vectorizer__max_features=5, vectorizer__min_df=2, vectorizer__ngram_range=(1, 1), score=0.06921366118717705, total=  13.0s\n",
      "[CV] abclf__estimator__learning_rate=0.1, abclf__estimator__n_estimators=50, tfidf__norm=l2, tfidf__smooth_idf=True, tfidf__sublinear_tf=True, vectorizer__max_features=5, vectorizer__min_df=2, vectorizer__ngram_range=(1, 2) \n"
     ]
    },
    {
     "name": "stderr",
     "output_type": "stream",
     "text": [
      "/home/brunom/.miniconda2/lib/python3.6/site-packages/sklearn/metrics/classification.py:1143: UndefinedMetricWarning: F-score is ill-defined and being set to 0.0 in labels with no predicted samples.\n",
      "  'precision', 'predicted', average, warn_for)\n"
     ]
    },
    {
     "name": "stdout",
     "output_type": "stream",
     "text": [
      "[CV]  abclf__estimator__learning_rate=0.1, abclf__estimator__n_estimators=50, tfidf__norm=l2, tfidf__smooth_idf=True, tfidf__sublinear_tf=True, vectorizer__max_features=5, vectorizer__min_df=2, vectorizer__ngram_range=(1, 2), score=0.05907626088917405, total=  13.4s\n",
      "[CV] abclf__estimator__learning_rate=0.1, abclf__estimator__n_estimators=50, tfidf__norm=l2, tfidf__smooth_idf=True, tfidf__sublinear_tf=True, vectorizer__max_features=5, vectorizer__min_df=2, vectorizer__ngram_range=(1, 2) \n"
     ]
    },
    {
     "name": "stderr",
     "output_type": "stream",
     "text": [
      "/home/brunom/.miniconda2/lib/python3.6/site-packages/sklearn/metrics/classification.py:1143: UndefinedMetricWarning: F-score is ill-defined and being set to 0.0 in labels with no predicted samples.\n",
      "  'precision', 'predicted', average, warn_for)\n"
     ]
    },
    {
     "name": "stdout",
     "output_type": "stream",
     "text": [
      "[CV]  abclf__estimator__learning_rate=0.1, abclf__estimator__n_estimators=50, tfidf__norm=l2, tfidf__smooth_idf=True, tfidf__sublinear_tf=True, vectorizer__max_features=5, vectorizer__min_df=2, vectorizer__ngram_range=(1, 2), score=0.060021152424134694, total=  13.3s\n",
      "[CV] abclf__estimator__learning_rate=0.1, abclf__estimator__n_estimators=50, tfidf__norm=l2, tfidf__smooth_idf=True, tfidf__sublinear_tf=True, vectorizer__max_features=5, vectorizer__min_df=2, vectorizer__ngram_range=(1, 2) \n"
     ]
    },
    {
     "name": "stderr",
     "output_type": "stream",
     "text": [
      "/home/brunom/.miniconda2/lib/python3.6/site-packages/sklearn/metrics/classification.py:1143: UndefinedMetricWarning: F-score is ill-defined and being set to 0.0 in labels with no predicted samples.\n",
      "  'precision', 'predicted', average, warn_for)\n"
     ]
    },
    {
     "name": "stdout",
     "output_type": "stream",
     "text": [
      "[CV]  abclf__estimator__learning_rate=0.1, abclf__estimator__n_estimators=50, tfidf__norm=l2, tfidf__smooth_idf=True, tfidf__sublinear_tf=True, vectorizer__max_features=5, vectorizer__min_df=2, vectorizer__ngram_range=(1, 2), score=0.06921366118717705, total=  13.4s\n",
      "[CV] abclf__estimator__learning_rate=0.1, abclf__estimator__n_estimators=50, tfidf__norm=l2, tfidf__smooth_idf=True, tfidf__sublinear_tf=True, vectorizer__max_features=6, vectorizer__min_df=1, vectorizer__ngram_range=(1, 1) \n"
     ]
    },
    {
     "name": "stderr",
     "output_type": "stream",
     "text": [
      "/home/brunom/.miniconda2/lib/python3.6/site-packages/sklearn/metrics/classification.py:1143: UndefinedMetricWarning: F-score is ill-defined and being set to 0.0 in labels with no predicted samples.\n",
      "  'precision', 'predicted', average, warn_for)\n"
     ]
    },
    {
     "name": "stdout",
     "output_type": "stream",
     "text": [
      "[CV]  abclf__estimator__learning_rate=0.1, abclf__estimator__n_estimators=50, tfidf__norm=l2, tfidf__smooth_idf=True, tfidf__sublinear_tf=True, vectorizer__max_features=6, vectorizer__min_df=1, vectorizer__ngram_range=(1, 1), score=0.07342935811778391, total=  12.7s\n",
      "[CV] abclf__estimator__learning_rate=0.1, abclf__estimator__n_estimators=50, tfidf__norm=l2, tfidf__smooth_idf=True, tfidf__sublinear_tf=True, vectorizer__max_features=6, vectorizer__min_df=1, vectorizer__ngram_range=(1, 1) \n"
     ]
    },
    {
     "name": "stderr",
     "output_type": "stream",
     "text": [
      "/home/brunom/.miniconda2/lib/python3.6/site-packages/sklearn/metrics/classification.py:1143: UndefinedMetricWarning: F-score is ill-defined and being set to 0.0 in labels with no predicted samples.\n",
      "  'precision', 'predicted', average, warn_for)\n"
     ]
    },
    {
     "name": "stdout",
     "output_type": "stream",
     "text": [
      "[CV]  abclf__estimator__learning_rate=0.1, abclf__estimator__n_estimators=50, tfidf__norm=l2, tfidf__smooth_idf=True, tfidf__sublinear_tf=True, vectorizer__max_features=6, vectorizer__min_df=1, vectorizer__ngram_range=(1, 1), score=0.07090033246644477, total=  13.2s\n",
      "[CV] abclf__estimator__learning_rate=0.1, abclf__estimator__n_estimators=50, tfidf__norm=l2, tfidf__smooth_idf=True, tfidf__sublinear_tf=True, vectorizer__max_features=6, vectorizer__min_df=1, vectorizer__ngram_range=(1, 1) \n"
     ]
    },
    {
     "name": "stderr",
     "output_type": "stream",
     "text": [
      "/home/brunom/.miniconda2/lib/python3.6/site-packages/sklearn/metrics/classification.py:1143: UndefinedMetricWarning: F-score is ill-defined and being set to 0.0 in labels with no predicted samples.\n",
      "  'precision', 'predicted', average, warn_for)\n"
     ]
    },
    {
     "name": "stdout",
     "output_type": "stream",
     "text": [
      "[CV]  abclf__estimator__learning_rate=0.1, abclf__estimator__n_estimators=50, tfidf__norm=l2, tfidf__smooth_idf=True, tfidf__sublinear_tf=True, vectorizer__max_features=6, vectorizer__min_df=1, vectorizer__ngram_range=(1, 1), score=0.07392565586252228, total=  13.3s\n",
      "[CV] abclf__estimator__learning_rate=0.1, abclf__estimator__n_estimators=50, tfidf__norm=l2, tfidf__smooth_idf=True, tfidf__sublinear_tf=True, vectorizer__max_features=6, vectorizer__min_df=1, vectorizer__ngram_range=(1, 2) \n"
     ]
    },
    {
     "name": "stderr",
     "output_type": "stream",
     "text": [
      "/home/brunom/.miniconda2/lib/python3.6/site-packages/sklearn/metrics/classification.py:1143: UndefinedMetricWarning: F-score is ill-defined and being set to 0.0 in labels with no predicted samples.\n",
      "  'precision', 'predicted', average, warn_for)\n"
     ]
    },
    {
     "name": "stdout",
     "output_type": "stream",
     "text": [
      "[CV]  abclf__estimator__learning_rate=0.1, abclf__estimator__n_estimators=50, tfidf__norm=l2, tfidf__smooth_idf=True, tfidf__sublinear_tf=True, vectorizer__max_features=6, vectorizer__min_df=1, vectorizer__ngram_range=(1, 2), score=0.07342935811778391, total=  13.5s\n",
      "[CV] abclf__estimator__learning_rate=0.1, abclf__estimator__n_estimators=50, tfidf__norm=l2, tfidf__smooth_idf=True, tfidf__sublinear_tf=True, vectorizer__max_features=6, vectorizer__min_df=1, vectorizer__ngram_range=(1, 2) \n"
     ]
    },
    {
     "name": "stderr",
     "output_type": "stream",
     "text": [
      "/home/brunom/.miniconda2/lib/python3.6/site-packages/sklearn/metrics/classification.py:1143: UndefinedMetricWarning: F-score is ill-defined and being set to 0.0 in labels with no predicted samples.\n",
      "  'precision', 'predicted', average, warn_for)\n"
     ]
    },
    {
     "name": "stdout",
     "output_type": "stream",
     "text": [
      "[CV]  abclf__estimator__learning_rate=0.1, abclf__estimator__n_estimators=50, tfidf__norm=l2, tfidf__smooth_idf=True, tfidf__sublinear_tf=True, vectorizer__max_features=6, vectorizer__min_df=1, vectorizer__ngram_range=(1, 2), score=0.07090033246644477, total=  13.5s\n",
      "[CV] abclf__estimator__learning_rate=0.1, abclf__estimator__n_estimators=50, tfidf__norm=l2, tfidf__smooth_idf=True, tfidf__sublinear_tf=True, vectorizer__max_features=6, vectorizer__min_df=1, vectorizer__ngram_range=(1, 2) \n"
     ]
    },
    {
     "name": "stderr",
     "output_type": "stream",
     "text": [
      "/home/brunom/.miniconda2/lib/python3.6/site-packages/sklearn/metrics/classification.py:1143: UndefinedMetricWarning: F-score is ill-defined and being set to 0.0 in labels with no predicted samples.\n",
      "  'precision', 'predicted', average, warn_for)\n"
     ]
    },
    {
     "name": "stdout",
     "output_type": "stream",
     "text": [
      "[CV]  abclf__estimator__learning_rate=0.1, abclf__estimator__n_estimators=50, tfidf__norm=l2, tfidf__smooth_idf=True, tfidf__sublinear_tf=True, vectorizer__max_features=6, vectorizer__min_df=1, vectorizer__ngram_range=(1, 2), score=0.07392565586252228, total=  14.2s\n",
      "[CV] abclf__estimator__learning_rate=0.1, abclf__estimator__n_estimators=50, tfidf__norm=l2, tfidf__smooth_idf=True, tfidf__sublinear_tf=True, vectorizer__max_features=6, vectorizer__min_df=2, vectorizer__ngram_range=(1, 1) \n"
     ]
    },
    {
     "name": "stderr",
     "output_type": "stream",
     "text": [
      "/home/brunom/.miniconda2/lib/python3.6/site-packages/sklearn/metrics/classification.py:1143: UndefinedMetricWarning: F-score is ill-defined and being set to 0.0 in labels with no predicted samples.\n",
      "  'precision', 'predicted', average, warn_for)\n"
     ]
    },
    {
     "name": "stdout",
     "output_type": "stream",
     "text": [
      "[CV]  abclf__estimator__learning_rate=0.1, abclf__estimator__n_estimators=50, tfidf__norm=l2, tfidf__smooth_idf=True, tfidf__sublinear_tf=True, vectorizer__max_features=6, vectorizer__min_df=2, vectorizer__ngram_range=(1, 1), score=0.07342935811778391, total=  12.9s\n",
      "[CV] abclf__estimator__learning_rate=0.1, abclf__estimator__n_estimators=50, tfidf__norm=l2, tfidf__smooth_idf=True, tfidf__sublinear_tf=True, vectorizer__max_features=6, vectorizer__min_df=2, vectorizer__ngram_range=(1, 1) \n"
     ]
    },
    {
     "name": "stderr",
     "output_type": "stream",
     "text": [
      "/home/brunom/.miniconda2/lib/python3.6/site-packages/sklearn/metrics/classification.py:1143: UndefinedMetricWarning: F-score is ill-defined and being set to 0.0 in labels with no predicted samples.\n",
      "  'precision', 'predicted', average, warn_for)\n"
     ]
    },
    {
     "name": "stdout",
     "output_type": "stream",
     "text": [
      "[CV]  abclf__estimator__learning_rate=0.1, abclf__estimator__n_estimators=50, tfidf__norm=l2, tfidf__smooth_idf=True, tfidf__sublinear_tf=True, vectorizer__max_features=6, vectorizer__min_df=2, vectorizer__ngram_range=(1, 1), score=0.07090033246644477, total=  12.7s\n",
      "[CV] abclf__estimator__learning_rate=0.1, abclf__estimator__n_estimators=50, tfidf__norm=l2, tfidf__smooth_idf=True, tfidf__sublinear_tf=True, vectorizer__max_features=6, vectorizer__min_df=2, vectorizer__ngram_range=(1, 1) \n"
     ]
    },
    {
     "name": "stderr",
     "output_type": "stream",
     "text": [
      "/home/brunom/.miniconda2/lib/python3.6/site-packages/sklearn/metrics/classification.py:1143: UndefinedMetricWarning: F-score is ill-defined and being set to 0.0 in labels with no predicted samples.\n",
      "  'precision', 'predicted', average, warn_for)\n"
     ]
    },
    {
     "name": "stdout",
     "output_type": "stream",
     "text": [
      "[CV]  abclf__estimator__learning_rate=0.1, abclf__estimator__n_estimators=50, tfidf__norm=l2, tfidf__smooth_idf=True, tfidf__sublinear_tf=True, vectorizer__max_features=6, vectorizer__min_df=2, vectorizer__ngram_range=(1, 1), score=0.07392565586252228, total=  13.7s\n",
      "[CV] abclf__estimator__learning_rate=0.1, abclf__estimator__n_estimators=50, tfidf__norm=l2, tfidf__smooth_idf=True, tfidf__sublinear_tf=True, vectorizer__max_features=6, vectorizer__min_df=2, vectorizer__ngram_range=(1, 2) \n"
     ]
    },
    {
     "name": "stderr",
     "output_type": "stream",
     "text": [
      "/home/brunom/.miniconda2/lib/python3.6/site-packages/sklearn/metrics/classification.py:1143: UndefinedMetricWarning: F-score is ill-defined and being set to 0.0 in labels with no predicted samples.\n",
      "  'precision', 'predicted', average, warn_for)\n"
     ]
    },
    {
     "name": "stdout",
     "output_type": "stream",
     "text": [
      "[CV]  abclf__estimator__learning_rate=0.1, abclf__estimator__n_estimators=50, tfidf__norm=l2, tfidf__smooth_idf=True, tfidf__sublinear_tf=True, vectorizer__max_features=6, vectorizer__min_df=2, vectorizer__ngram_range=(1, 2), score=0.07342935811778391, total=  13.5s\n",
      "[CV] abclf__estimator__learning_rate=0.1, abclf__estimator__n_estimators=50, tfidf__norm=l2, tfidf__smooth_idf=True, tfidf__sublinear_tf=True, vectorizer__max_features=6, vectorizer__min_df=2, vectorizer__ngram_range=(1, 2) \n"
     ]
    },
    {
     "name": "stderr",
     "output_type": "stream",
     "text": [
      "/home/brunom/.miniconda2/lib/python3.6/site-packages/sklearn/metrics/classification.py:1143: UndefinedMetricWarning: F-score is ill-defined and being set to 0.0 in labels with no predicted samples.\n",
      "  'precision', 'predicted', average, warn_for)\n"
     ]
    },
    {
     "name": "stdout",
     "output_type": "stream",
     "text": [
      "[CV]  abclf__estimator__learning_rate=0.1, abclf__estimator__n_estimators=50, tfidf__norm=l2, tfidf__smooth_idf=True, tfidf__sublinear_tf=True, vectorizer__max_features=6, vectorizer__min_df=2, vectorizer__ngram_range=(1, 2), score=0.07090033246644477, total=  13.5s\n",
      "[CV] abclf__estimator__learning_rate=0.1, abclf__estimator__n_estimators=50, tfidf__norm=l2, tfidf__smooth_idf=True, tfidf__sublinear_tf=True, vectorizer__max_features=6, vectorizer__min_df=2, vectorizer__ngram_range=(1, 2) \n"
     ]
    },
    {
     "name": "stderr",
     "output_type": "stream",
     "text": [
      "/home/brunom/.miniconda2/lib/python3.6/site-packages/sklearn/metrics/classification.py:1143: UndefinedMetricWarning: F-score is ill-defined and being set to 0.0 in labels with no predicted samples.\n",
      "  'precision', 'predicted', average, warn_for)\n"
     ]
    },
    {
     "name": "stdout",
     "output_type": "stream",
     "text": [
      "[CV]  abclf__estimator__learning_rate=0.1, abclf__estimator__n_estimators=50, tfidf__norm=l2, tfidf__smooth_idf=True, tfidf__sublinear_tf=True, vectorizer__max_features=6, vectorizer__min_df=2, vectorizer__ngram_range=(1, 2), score=0.07392565586252228, total=  13.6s\n",
      "[CV] abclf__estimator__learning_rate=0.1, abclf__estimator__n_estimators=50, tfidf__norm=l2, tfidf__smooth_idf=True, tfidf__sublinear_tf=False, vectorizer__max_features=3, vectorizer__min_df=1, vectorizer__ngram_range=(1, 1) \n"
     ]
    },
    {
     "name": "stderr",
     "output_type": "stream",
     "text": [
      "/home/brunom/.miniconda2/lib/python3.6/site-packages/sklearn/metrics/classification.py:1143: UndefinedMetricWarning: F-score is ill-defined and being set to 0.0 in labels with no predicted samples.\n",
      "  'precision', 'predicted', average, warn_for)\n"
     ]
    },
    {
     "name": "stdout",
     "output_type": "stream",
     "text": [
      "[CV]  abclf__estimator__learning_rate=0.1, abclf__estimator__n_estimators=50, tfidf__norm=l2, tfidf__smooth_idf=True, tfidf__sublinear_tf=False, vectorizer__max_features=3, vectorizer__min_df=1, vectorizer__ngram_range=(1, 1), score=0.031562929964428006, total=  12.6s\n",
      "[CV] abclf__estimator__learning_rate=0.1, abclf__estimator__n_estimators=50, tfidf__norm=l2, tfidf__smooth_idf=True, tfidf__sublinear_tf=False, vectorizer__max_features=3, vectorizer__min_df=1, vectorizer__ngram_range=(1, 1) \n"
     ]
    },
    {
     "name": "stderr",
     "output_type": "stream",
     "text": [
      "/home/brunom/.miniconda2/lib/python3.6/site-packages/sklearn/metrics/classification.py:1143: UndefinedMetricWarning: F-score is ill-defined and being set to 0.0 in labels with no predicted samples.\n",
      "  'precision', 'predicted', average, warn_for)\n"
     ]
    },
    {
     "name": "stdout",
     "output_type": "stream",
     "text": [
      "[CV]  abclf__estimator__learning_rate=0.1, abclf__estimator__n_estimators=50, tfidf__norm=l2, tfidf__smooth_idf=True, tfidf__sublinear_tf=False, vectorizer__max_features=3, vectorizer__min_df=1, vectorizer__ngram_range=(1, 1), score=0.03162652205606127, total=  12.3s\n",
      "[CV] abclf__estimator__learning_rate=0.1, abclf__estimator__n_estimators=50, tfidf__norm=l2, tfidf__smooth_idf=True, tfidf__sublinear_tf=False, vectorizer__max_features=3, vectorizer__min_df=1, vectorizer__ngram_range=(1, 1) \n"
     ]
    },
    {
     "name": "stderr",
     "output_type": "stream",
     "text": [
      "/home/brunom/.miniconda2/lib/python3.6/site-packages/sklearn/metrics/classification.py:1143: UndefinedMetricWarning: F-score is ill-defined and being set to 0.0 in labels with no predicted samples.\n",
      "  'precision', 'predicted', average, warn_for)\n"
     ]
    },
    {
     "name": "stdout",
     "output_type": "stream",
     "text": [
      "[CV]  abclf__estimator__learning_rate=0.1, abclf__estimator__n_estimators=50, tfidf__norm=l2, tfidf__smooth_idf=True, tfidf__sublinear_tf=False, vectorizer__max_features=3, vectorizer__min_df=1, vectorizer__ngram_range=(1, 1), score=0.03174436983091016, total=  12.7s\n",
      "[CV] abclf__estimator__learning_rate=0.1, abclf__estimator__n_estimators=50, tfidf__norm=l2, tfidf__smooth_idf=True, tfidf__sublinear_tf=False, vectorizer__max_features=3, vectorizer__min_df=1, vectorizer__ngram_range=(1, 2) \n"
     ]
    },
    {
     "name": "stderr",
     "output_type": "stream",
     "text": [
      "/home/brunom/.miniconda2/lib/python3.6/site-packages/sklearn/metrics/classification.py:1143: UndefinedMetricWarning: F-score is ill-defined and being set to 0.0 in labels with no predicted samples.\n",
      "  'precision', 'predicted', average, warn_for)\n"
     ]
    },
    {
     "name": "stdout",
     "output_type": "stream",
     "text": [
      "[CV]  abclf__estimator__learning_rate=0.1, abclf__estimator__n_estimators=50, tfidf__norm=l2, tfidf__smooth_idf=True, tfidf__sublinear_tf=False, vectorizer__max_features=3, vectorizer__min_df=1, vectorizer__ngram_range=(1, 2), score=0.031562929964428006, total=  13.0s\n",
      "[CV] abclf__estimator__learning_rate=0.1, abclf__estimator__n_estimators=50, tfidf__norm=l2, tfidf__smooth_idf=True, tfidf__sublinear_tf=False, vectorizer__max_features=3, vectorizer__min_df=1, vectorizer__ngram_range=(1, 2) \n"
     ]
    },
    {
     "name": "stderr",
     "output_type": "stream",
     "text": [
      "/home/brunom/.miniconda2/lib/python3.6/site-packages/sklearn/metrics/classification.py:1143: UndefinedMetricWarning: F-score is ill-defined and being set to 0.0 in labels with no predicted samples.\n",
      "  'precision', 'predicted', average, warn_for)\n"
     ]
    },
    {
     "name": "stdout",
     "output_type": "stream",
     "text": [
      "[CV]  abclf__estimator__learning_rate=0.1, abclf__estimator__n_estimators=50, tfidf__norm=l2, tfidf__smooth_idf=True, tfidf__sublinear_tf=False, vectorizer__max_features=3, vectorizer__min_df=1, vectorizer__ngram_range=(1, 2), score=0.03162652205606127, total=  12.9s\n",
      "[CV] abclf__estimator__learning_rate=0.1, abclf__estimator__n_estimators=50, tfidf__norm=l2, tfidf__smooth_idf=True, tfidf__sublinear_tf=False, vectorizer__max_features=3, vectorizer__min_df=1, vectorizer__ngram_range=(1, 2) \n"
     ]
    },
    {
     "name": "stderr",
     "output_type": "stream",
     "text": [
      "/home/brunom/.miniconda2/lib/python3.6/site-packages/sklearn/metrics/classification.py:1143: UndefinedMetricWarning: F-score is ill-defined and being set to 0.0 in labels with no predicted samples.\n",
      "  'precision', 'predicted', average, warn_for)\n"
     ]
    },
    {
     "name": "stdout",
     "output_type": "stream",
     "text": [
      "[CV]  abclf__estimator__learning_rate=0.1, abclf__estimator__n_estimators=50, tfidf__norm=l2, tfidf__smooth_idf=True, tfidf__sublinear_tf=False, vectorizer__max_features=3, vectorizer__min_df=1, vectorizer__ngram_range=(1, 2), score=0.03174436983091016, total=  12.9s\n",
      "[CV] abclf__estimator__learning_rate=0.1, abclf__estimator__n_estimators=50, tfidf__norm=l2, tfidf__smooth_idf=True, tfidf__sublinear_tf=False, vectorizer__max_features=3, vectorizer__min_df=2, vectorizer__ngram_range=(1, 1) \n"
     ]
    },
    {
     "name": "stderr",
     "output_type": "stream",
     "text": [
      "/home/brunom/.miniconda2/lib/python3.6/site-packages/sklearn/metrics/classification.py:1143: UndefinedMetricWarning: F-score is ill-defined and being set to 0.0 in labels with no predicted samples.\n",
      "  'precision', 'predicted', average, warn_for)\n"
     ]
    },
    {
     "name": "stdout",
     "output_type": "stream",
     "text": [
      "[CV]  abclf__estimator__learning_rate=0.1, abclf__estimator__n_estimators=50, tfidf__norm=l2, tfidf__smooth_idf=True, tfidf__sublinear_tf=False, vectorizer__max_features=3, vectorizer__min_df=2, vectorizer__ngram_range=(1, 1), score=0.031562929964428006, total=  13.0s\n",
      "[CV] abclf__estimator__learning_rate=0.1, abclf__estimator__n_estimators=50, tfidf__norm=l2, tfidf__smooth_idf=True, tfidf__sublinear_tf=False, vectorizer__max_features=3, vectorizer__min_df=2, vectorizer__ngram_range=(1, 1) \n"
     ]
    },
    {
     "name": "stderr",
     "output_type": "stream",
     "text": [
      "/home/brunom/.miniconda2/lib/python3.6/site-packages/sklearn/metrics/classification.py:1143: UndefinedMetricWarning: F-score is ill-defined and being set to 0.0 in labels with no predicted samples.\n",
      "  'precision', 'predicted', average, warn_for)\n"
     ]
    },
    {
     "name": "stdout",
     "output_type": "stream",
     "text": [
      "[CV]  abclf__estimator__learning_rate=0.1, abclf__estimator__n_estimators=50, tfidf__norm=l2, tfidf__smooth_idf=True, tfidf__sublinear_tf=False, vectorizer__max_features=3, vectorizer__min_df=2, vectorizer__ngram_range=(1, 1), score=0.03162652205606127, total=  12.4s\n",
      "[CV] abclf__estimator__learning_rate=0.1, abclf__estimator__n_estimators=50, tfidf__norm=l2, tfidf__smooth_idf=True, tfidf__sublinear_tf=False, vectorizer__max_features=3, vectorizer__min_df=2, vectorizer__ngram_range=(1, 1) \n"
     ]
    },
    {
     "name": "stderr",
     "output_type": "stream",
     "text": [
      "/home/brunom/.miniconda2/lib/python3.6/site-packages/sklearn/metrics/classification.py:1143: UndefinedMetricWarning: F-score is ill-defined and being set to 0.0 in labels with no predicted samples.\n",
      "  'precision', 'predicted', average, warn_for)\n"
     ]
    },
    {
     "name": "stdout",
     "output_type": "stream",
     "text": [
      "[CV]  abclf__estimator__learning_rate=0.1, abclf__estimator__n_estimators=50, tfidf__norm=l2, tfidf__smooth_idf=True, tfidf__sublinear_tf=False, vectorizer__max_features=3, vectorizer__min_df=2, vectorizer__ngram_range=(1, 1), score=0.03174436983091016, total=  12.4s\n",
      "[CV] abclf__estimator__learning_rate=0.1, abclf__estimator__n_estimators=50, tfidf__norm=l2, tfidf__smooth_idf=True, tfidf__sublinear_tf=False, vectorizer__max_features=3, vectorizer__min_df=2, vectorizer__ngram_range=(1, 2) \n"
     ]
    },
    {
     "name": "stderr",
     "output_type": "stream",
     "text": [
      "/home/brunom/.miniconda2/lib/python3.6/site-packages/sklearn/metrics/classification.py:1143: UndefinedMetricWarning: F-score is ill-defined and being set to 0.0 in labels with no predicted samples.\n",
      "  'precision', 'predicted', average, warn_for)\n"
     ]
    },
    {
     "name": "stdout",
     "output_type": "stream",
     "text": [
      "[CV]  abclf__estimator__learning_rate=0.1, abclf__estimator__n_estimators=50, tfidf__norm=l2, tfidf__smooth_idf=True, tfidf__sublinear_tf=False, vectorizer__max_features=3, vectorizer__min_df=2, vectorizer__ngram_range=(1, 2), score=0.031562929964428006, total=  13.7s\n",
      "[CV] abclf__estimator__learning_rate=0.1, abclf__estimator__n_estimators=50, tfidf__norm=l2, tfidf__smooth_idf=True, tfidf__sublinear_tf=False, vectorizer__max_features=3, vectorizer__min_df=2, vectorizer__ngram_range=(1, 2) \n"
     ]
    },
    {
     "name": "stderr",
     "output_type": "stream",
     "text": [
      "/home/brunom/.miniconda2/lib/python3.6/site-packages/sklearn/metrics/classification.py:1143: UndefinedMetricWarning: F-score is ill-defined and being set to 0.0 in labels with no predicted samples.\n",
      "  'precision', 'predicted', average, warn_for)\n"
     ]
    },
    {
     "name": "stdout",
     "output_type": "stream",
     "text": [
      "[CV]  abclf__estimator__learning_rate=0.1, abclf__estimator__n_estimators=50, tfidf__norm=l2, tfidf__smooth_idf=True, tfidf__sublinear_tf=False, vectorizer__max_features=3, vectorizer__min_df=2, vectorizer__ngram_range=(1, 2), score=0.03162652205606127, total=  12.9s\n",
      "[CV] abclf__estimator__learning_rate=0.1, abclf__estimator__n_estimators=50, tfidf__norm=l2, tfidf__smooth_idf=True, tfidf__sublinear_tf=False, vectorizer__max_features=3, vectorizer__min_df=2, vectorizer__ngram_range=(1, 2) \n"
     ]
    },
    {
     "name": "stderr",
     "output_type": "stream",
     "text": [
      "/home/brunom/.miniconda2/lib/python3.6/site-packages/sklearn/metrics/classification.py:1143: UndefinedMetricWarning: F-score is ill-defined and being set to 0.0 in labels with no predicted samples.\n",
      "  'precision', 'predicted', average, warn_for)\n"
     ]
    },
    {
     "name": "stdout",
     "output_type": "stream",
     "text": [
      "[CV]  abclf__estimator__learning_rate=0.1, abclf__estimator__n_estimators=50, tfidf__norm=l2, tfidf__smooth_idf=True, tfidf__sublinear_tf=False, vectorizer__max_features=3, vectorizer__min_df=2, vectorizer__ngram_range=(1, 2), score=0.03174436983091016, total=  12.7s\n",
      "[CV] abclf__estimator__learning_rate=0.1, abclf__estimator__n_estimators=50, tfidf__norm=l2, tfidf__smooth_idf=True, tfidf__sublinear_tf=False, vectorizer__max_features=5, vectorizer__min_df=1, vectorizer__ngram_range=(1, 1) \n"
     ]
    },
    {
     "name": "stderr",
     "output_type": "stream",
     "text": [
      "/home/brunom/.miniconda2/lib/python3.6/site-packages/sklearn/metrics/classification.py:1143: UndefinedMetricWarning: F-score is ill-defined and being set to 0.0 in labels with no predicted samples.\n",
      "  'precision', 'predicted', average, warn_for)\n"
     ]
    },
    {
     "name": "stdout",
     "output_type": "stream",
     "text": [
      "[CV]  abclf__estimator__learning_rate=0.1, abclf__estimator__n_estimators=50, tfidf__norm=l2, tfidf__smooth_idf=True, tfidf__sublinear_tf=False, vectorizer__max_features=5, vectorizer__min_df=1, vectorizer__ngram_range=(1, 1), score=0.05922550945711274, total=  13.2s\n",
      "[CV] abclf__estimator__learning_rate=0.1, abclf__estimator__n_estimators=50, tfidf__norm=l2, tfidf__smooth_idf=True, tfidf__sublinear_tf=False, vectorizer__max_features=5, vectorizer__min_df=1, vectorizer__ngram_range=(1, 1) \n"
     ]
    },
    {
     "name": "stderr",
     "output_type": "stream",
     "text": [
      "/home/brunom/.miniconda2/lib/python3.6/site-packages/sklearn/metrics/classification.py:1143: UndefinedMetricWarning: F-score is ill-defined and being set to 0.0 in labels with no predicted samples.\n",
      "  'precision', 'predicted', average, warn_for)\n"
     ]
    },
    {
     "name": "stdout",
     "output_type": "stream",
     "text": [
      "[CV]  abclf__estimator__learning_rate=0.1, abclf__estimator__n_estimators=50, tfidf__norm=l2, tfidf__smooth_idf=True, tfidf__sublinear_tf=False, vectorizer__max_features=5, vectorizer__min_df=1, vectorizer__ngram_range=(1, 1), score=0.05986817284171807, total=  12.9s\n",
      "[CV] abclf__estimator__learning_rate=0.1, abclf__estimator__n_estimators=50, tfidf__norm=l2, tfidf__smooth_idf=True, tfidf__sublinear_tf=False, vectorizer__max_features=5, vectorizer__min_df=1, vectorizer__ngram_range=(1, 1) \n"
     ]
    },
    {
     "name": "stderr",
     "output_type": "stream",
     "text": [
      "/home/brunom/.miniconda2/lib/python3.6/site-packages/sklearn/metrics/classification.py:1143: UndefinedMetricWarning: F-score is ill-defined and being set to 0.0 in labels with no predicted samples.\n",
      "  'precision', 'predicted', average, warn_for)\n"
     ]
    },
    {
     "name": "stdout",
     "output_type": "stream",
     "text": [
      "[CV]  abclf__estimator__learning_rate=0.1, abclf__estimator__n_estimators=50, tfidf__norm=l2, tfidf__smooth_idf=True, tfidf__sublinear_tf=False, vectorizer__max_features=5, vectorizer__min_df=1, vectorizer__ngram_range=(1, 1), score=0.06923652320341514, total=  13.2s\n",
      "[CV] abclf__estimator__learning_rate=0.1, abclf__estimator__n_estimators=50, tfidf__norm=l2, tfidf__smooth_idf=True, tfidf__sublinear_tf=False, vectorizer__max_features=5, vectorizer__min_df=1, vectorizer__ngram_range=(1, 2) \n"
     ]
    },
    {
     "name": "stderr",
     "output_type": "stream",
     "text": [
      "/home/brunom/.miniconda2/lib/python3.6/site-packages/sklearn/metrics/classification.py:1143: UndefinedMetricWarning: F-score is ill-defined and being set to 0.0 in labels with no predicted samples.\n",
      "  'precision', 'predicted', average, warn_for)\n"
     ]
    },
    {
     "name": "stdout",
     "output_type": "stream",
     "text": [
      "[CV]  abclf__estimator__learning_rate=0.1, abclf__estimator__n_estimators=50, tfidf__norm=l2, tfidf__smooth_idf=True, tfidf__sublinear_tf=False, vectorizer__max_features=5, vectorizer__min_df=1, vectorizer__ngram_range=(1, 2), score=0.05922550945711274, total=  13.1s\n",
      "[CV] abclf__estimator__learning_rate=0.1, abclf__estimator__n_estimators=50, tfidf__norm=l2, tfidf__smooth_idf=True, tfidf__sublinear_tf=False, vectorizer__max_features=5, vectorizer__min_df=1, vectorizer__ngram_range=(1, 2) \n"
     ]
    },
    {
     "name": "stderr",
     "output_type": "stream",
     "text": [
      "/home/brunom/.miniconda2/lib/python3.6/site-packages/sklearn/metrics/classification.py:1143: UndefinedMetricWarning: F-score is ill-defined and being set to 0.0 in labels with no predicted samples.\n",
      "  'precision', 'predicted', average, warn_for)\n"
     ]
    },
    {
     "name": "stdout",
     "output_type": "stream",
     "text": [
      "[CV]  abclf__estimator__learning_rate=0.1, abclf__estimator__n_estimators=50, tfidf__norm=l2, tfidf__smooth_idf=True, tfidf__sublinear_tf=False, vectorizer__max_features=5, vectorizer__min_df=1, vectorizer__ngram_range=(1, 2), score=0.05986817284171807, total=  13.3s\n",
      "[CV] abclf__estimator__learning_rate=0.1, abclf__estimator__n_estimators=50, tfidf__norm=l2, tfidf__smooth_idf=True, tfidf__sublinear_tf=False, vectorizer__max_features=5, vectorizer__min_df=1, vectorizer__ngram_range=(1, 2) \n"
     ]
    },
    {
     "name": "stderr",
     "output_type": "stream",
     "text": [
      "/home/brunom/.miniconda2/lib/python3.6/site-packages/sklearn/metrics/classification.py:1143: UndefinedMetricWarning: F-score is ill-defined and being set to 0.0 in labels with no predicted samples.\n",
      "  'precision', 'predicted', average, warn_for)\n"
     ]
    },
    {
     "name": "stdout",
     "output_type": "stream",
     "text": [
      "[CV]  abclf__estimator__learning_rate=0.1, abclf__estimator__n_estimators=50, tfidf__norm=l2, tfidf__smooth_idf=True, tfidf__sublinear_tf=False, vectorizer__max_features=5, vectorizer__min_df=1, vectorizer__ngram_range=(1, 2), score=0.06923652320341514, total=  13.3s\n",
      "[CV] abclf__estimator__learning_rate=0.1, abclf__estimator__n_estimators=50, tfidf__norm=l2, tfidf__smooth_idf=True, tfidf__sublinear_tf=False, vectorizer__max_features=5, vectorizer__min_df=2, vectorizer__ngram_range=(1, 1) \n"
     ]
    },
    {
     "name": "stderr",
     "output_type": "stream",
     "text": [
      "/home/brunom/.miniconda2/lib/python3.6/site-packages/sklearn/metrics/classification.py:1143: UndefinedMetricWarning: F-score is ill-defined and being set to 0.0 in labels with no predicted samples.\n",
      "  'precision', 'predicted', average, warn_for)\n"
     ]
    },
    {
     "name": "stdout",
     "output_type": "stream",
     "text": [
      "[CV]  abclf__estimator__learning_rate=0.1, abclf__estimator__n_estimators=50, tfidf__norm=l2, tfidf__smooth_idf=True, tfidf__sublinear_tf=False, vectorizer__max_features=5, vectorizer__min_df=2, vectorizer__ngram_range=(1, 1), score=0.05922550945711274, total=  12.9s\n",
      "[CV] abclf__estimator__learning_rate=0.1, abclf__estimator__n_estimators=50, tfidf__norm=l2, tfidf__smooth_idf=True, tfidf__sublinear_tf=False, vectorizer__max_features=5, vectorizer__min_df=2, vectorizer__ngram_range=(1, 1) \n"
     ]
    },
    {
     "name": "stderr",
     "output_type": "stream",
     "text": [
      "/home/brunom/.miniconda2/lib/python3.6/site-packages/sklearn/metrics/classification.py:1143: UndefinedMetricWarning: F-score is ill-defined and being set to 0.0 in labels with no predicted samples.\n",
      "  'precision', 'predicted', average, warn_for)\n"
     ]
    },
    {
     "name": "stdout",
     "output_type": "stream",
     "text": [
      "[CV]  abclf__estimator__learning_rate=0.1, abclf__estimator__n_estimators=50, tfidf__norm=l2, tfidf__smooth_idf=True, tfidf__sublinear_tf=False, vectorizer__max_features=5, vectorizer__min_df=2, vectorizer__ngram_range=(1, 1), score=0.05986817284171807, total=  12.5s\n",
      "[CV] abclf__estimator__learning_rate=0.1, abclf__estimator__n_estimators=50, tfidf__norm=l2, tfidf__smooth_idf=True, tfidf__sublinear_tf=False, vectorizer__max_features=5, vectorizer__min_df=2, vectorizer__ngram_range=(1, 1) \n"
     ]
    },
    {
     "name": "stderr",
     "output_type": "stream",
     "text": [
      "/home/brunom/.miniconda2/lib/python3.6/site-packages/sklearn/metrics/classification.py:1143: UndefinedMetricWarning: F-score is ill-defined and being set to 0.0 in labels with no predicted samples.\n",
      "  'precision', 'predicted', average, warn_for)\n"
     ]
    },
    {
     "name": "stdout",
     "output_type": "stream",
     "text": [
      "[CV]  abclf__estimator__learning_rate=0.1, abclf__estimator__n_estimators=50, tfidf__norm=l2, tfidf__smooth_idf=True, tfidf__sublinear_tf=False, vectorizer__max_features=5, vectorizer__min_df=2, vectorizer__ngram_range=(1, 1), score=0.06923652320341514, total=  12.8s\n",
      "[CV] abclf__estimator__learning_rate=0.1, abclf__estimator__n_estimators=50, tfidf__norm=l2, tfidf__smooth_idf=True, tfidf__sublinear_tf=False, vectorizer__max_features=5, vectorizer__min_df=2, vectorizer__ngram_range=(1, 2) \n"
     ]
    },
    {
     "name": "stderr",
     "output_type": "stream",
     "text": [
      "/home/brunom/.miniconda2/lib/python3.6/site-packages/sklearn/metrics/classification.py:1143: UndefinedMetricWarning: F-score is ill-defined and being set to 0.0 in labels with no predicted samples.\n",
      "  'precision', 'predicted', average, warn_for)\n"
     ]
    },
    {
     "name": "stdout",
     "output_type": "stream",
     "text": [
      "[CV]  abclf__estimator__learning_rate=0.1, abclf__estimator__n_estimators=50, tfidf__norm=l2, tfidf__smooth_idf=True, tfidf__sublinear_tf=False, vectorizer__max_features=5, vectorizer__min_df=2, vectorizer__ngram_range=(1, 2), score=0.05922550945711274, total=  13.7s\n",
      "[CV] abclf__estimator__learning_rate=0.1, abclf__estimator__n_estimators=50, tfidf__norm=l2, tfidf__smooth_idf=True, tfidf__sublinear_tf=False, vectorizer__max_features=5, vectorizer__min_df=2, vectorizer__ngram_range=(1, 2) \n"
     ]
    },
    {
     "name": "stderr",
     "output_type": "stream",
     "text": [
      "/home/brunom/.miniconda2/lib/python3.6/site-packages/sklearn/metrics/classification.py:1143: UndefinedMetricWarning: F-score is ill-defined and being set to 0.0 in labels with no predicted samples.\n",
      "  'precision', 'predicted', average, warn_for)\n"
     ]
    },
    {
     "name": "stdout",
     "output_type": "stream",
     "text": [
      "[CV]  abclf__estimator__learning_rate=0.1, abclf__estimator__n_estimators=50, tfidf__norm=l2, tfidf__smooth_idf=True, tfidf__sublinear_tf=False, vectorizer__max_features=5, vectorizer__min_df=2, vectorizer__ngram_range=(1, 2), score=0.05986817284171807, total=  13.4s\n",
      "[CV] abclf__estimator__learning_rate=0.1, abclf__estimator__n_estimators=50, tfidf__norm=l2, tfidf__smooth_idf=True, tfidf__sublinear_tf=False, vectorizer__max_features=5, vectorizer__min_df=2, vectorizer__ngram_range=(1, 2) \n"
     ]
    },
    {
     "name": "stderr",
     "output_type": "stream",
     "text": [
      "/home/brunom/.miniconda2/lib/python3.6/site-packages/sklearn/metrics/classification.py:1143: UndefinedMetricWarning: F-score is ill-defined and being set to 0.0 in labels with no predicted samples.\n",
      "  'precision', 'predicted', average, warn_for)\n"
     ]
    },
    {
     "name": "stdout",
     "output_type": "stream",
     "text": [
      "[CV]  abclf__estimator__learning_rate=0.1, abclf__estimator__n_estimators=50, tfidf__norm=l2, tfidf__smooth_idf=True, tfidf__sublinear_tf=False, vectorizer__max_features=5, vectorizer__min_df=2, vectorizer__ngram_range=(1, 2), score=0.06923652320341514, total=  13.8s\n",
      "[CV] abclf__estimator__learning_rate=0.1, abclf__estimator__n_estimators=50, tfidf__norm=l2, tfidf__smooth_idf=True, tfidf__sublinear_tf=False, vectorizer__max_features=6, vectorizer__min_df=1, vectorizer__ngram_range=(1, 1) \n"
     ]
    },
    {
     "name": "stderr",
     "output_type": "stream",
     "text": [
      "/home/brunom/.miniconda2/lib/python3.6/site-packages/sklearn/metrics/classification.py:1143: UndefinedMetricWarning: F-score is ill-defined and being set to 0.0 in labels with no predicted samples.\n",
      "  'precision', 'predicted', average, warn_for)\n"
     ]
    },
    {
     "name": "stdout",
     "output_type": "stream",
     "text": [
      "[CV]  abclf__estimator__learning_rate=0.1, abclf__estimator__n_estimators=50, tfidf__norm=l2, tfidf__smooth_idf=True, tfidf__sublinear_tf=False, vectorizer__max_features=6, vectorizer__min_df=1, vectorizer__ngram_range=(1, 1), score=0.07324140238610706, total=  13.4s\n",
      "[CV] abclf__estimator__learning_rate=0.1, abclf__estimator__n_estimators=50, tfidf__norm=l2, tfidf__smooth_idf=True, tfidf__sublinear_tf=False, vectorizer__max_features=6, vectorizer__min_df=1, vectorizer__ngram_range=(1, 1) \n"
     ]
    },
    {
     "name": "stderr",
     "output_type": "stream",
     "text": [
      "/home/brunom/.miniconda2/lib/python3.6/site-packages/sklearn/metrics/classification.py:1143: UndefinedMetricWarning: F-score is ill-defined and being set to 0.0 in labels with no predicted samples.\n",
      "  'precision', 'predicted', average, warn_for)\n"
     ]
    },
    {
     "name": "stdout",
     "output_type": "stream",
     "text": [
      "[CV]  abclf__estimator__learning_rate=0.1, abclf__estimator__n_estimators=50, tfidf__norm=l2, tfidf__smooth_idf=True, tfidf__sublinear_tf=False, vectorizer__max_features=6, vectorizer__min_df=1, vectorizer__ngram_range=(1, 1), score=0.07095241336702285, total=  13.0s\n",
      "[CV] abclf__estimator__learning_rate=0.1, abclf__estimator__n_estimators=50, tfidf__norm=l2, tfidf__smooth_idf=True, tfidf__sublinear_tf=False, vectorizer__max_features=6, vectorizer__min_df=1, vectorizer__ngram_range=(1, 1) \n"
     ]
    },
    {
     "name": "stderr",
     "output_type": "stream",
     "text": [
      "/home/brunom/.miniconda2/lib/python3.6/site-packages/sklearn/metrics/classification.py:1143: UndefinedMetricWarning: F-score is ill-defined and being set to 0.0 in labels with no predicted samples.\n",
      "  'precision', 'predicted', average, warn_for)\n"
     ]
    },
    {
     "name": "stdout",
     "output_type": "stream",
     "text": [
      "[CV]  abclf__estimator__learning_rate=0.1, abclf__estimator__n_estimators=50, tfidf__norm=l2, tfidf__smooth_idf=True, tfidf__sublinear_tf=False, vectorizer__max_features=6, vectorizer__min_df=1, vectorizer__ngram_range=(1, 1), score=0.07364841314898649, total=  13.1s\n",
      "[CV] abclf__estimator__learning_rate=0.1, abclf__estimator__n_estimators=50, tfidf__norm=l2, tfidf__smooth_idf=True, tfidf__sublinear_tf=False, vectorizer__max_features=6, vectorizer__min_df=1, vectorizer__ngram_range=(1, 2) \n"
     ]
    },
    {
     "name": "stderr",
     "output_type": "stream",
     "text": [
      "/home/brunom/.miniconda2/lib/python3.6/site-packages/sklearn/metrics/classification.py:1143: UndefinedMetricWarning: F-score is ill-defined and being set to 0.0 in labels with no predicted samples.\n",
      "  'precision', 'predicted', average, warn_for)\n"
     ]
    },
    {
     "name": "stdout",
     "output_type": "stream",
     "text": [
      "[CV]  abclf__estimator__learning_rate=0.1, abclf__estimator__n_estimators=50, tfidf__norm=l2, tfidf__smooth_idf=True, tfidf__sublinear_tf=False, vectorizer__max_features=6, vectorizer__min_df=1, vectorizer__ngram_range=(1, 2), score=0.07324140238610706, total=  13.6s\n",
      "[CV] abclf__estimator__learning_rate=0.1, abclf__estimator__n_estimators=50, tfidf__norm=l2, tfidf__smooth_idf=True, tfidf__sublinear_tf=False, vectorizer__max_features=6, vectorizer__min_df=1, vectorizer__ngram_range=(1, 2) \n"
     ]
    },
    {
     "name": "stderr",
     "output_type": "stream",
     "text": [
      "/home/brunom/.miniconda2/lib/python3.6/site-packages/sklearn/metrics/classification.py:1143: UndefinedMetricWarning: F-score is ill-defined and being set to 0.0 in labels with no predicted samples.\n",
      "  'precision', 'predicted', average, warn_for)\n"
     ]
    },
    {
     "name": "stdout",
     "output_type": "stream",
     "text": [
      "[CV]  abclf__estimator__learning_rate=0.1, abclf__estimator__n_estimators=50, tfidf__norm=l2, tfidf__smooth_idf=True, tfidf__sublinear_tf=False, vectorizer__max_features=6, vectorizer__min_df=1, vectorizer__ngram_range=(1, 2), score=0.07095241336702285, total=  13.7s\n",
      "[CV] abclf__estimator__learning_rate=0.1, abclf__estimator__n_estimators=50, tfidf__norm=l2, tfidf__smooth_idf=True, tfidf__sublinear_tf=False, vectorizer__max_features=6, vectorizer__min_df=1, vectorizer__ngram_range=(1, 2) \n"
     ]
    },
    {
     "name": "stderr",
     "output_type": "stream",
     "text": [
      "/home/brunom/.miniconda2/lib/python3.6/site-packages/sklearn/metrics/classification.py:1143: UndefinedMetricWarning: F-score is ill-defined and being set to 0.0 in labels with no predicted samples.\n",
      "  'precision', 'predicted', average, warn_for)\n"
     ]
    },
    {
     "name": "stdout",
     "output_type": "stream",
     "text": [
      "[CV]  abclf__estimator__learning_rate=0.1, abclf__estimator__n_estimators=50, tfidf__norm=l2, tfidf__smooth_idf=True, tfidf__sublinear_tf=False, vectorizer__max_features=6, vectorizer__min_df=1, vectorizer__ngram_range=(1, 2), score=0.07364841314898649, total=  13.7s\n",
      "[CV] abclf__estimator__learning_rate=0.1, abclf__estimator__n_estimators=50, tfidf__norm=l2, tfidf__smooth_idf=True, tfidf__sublinear_tf=False, vectorizer__max_features=6, vectorizer__min_df=2, vectorizer__ngram_range=(1, 1) \n"
     ]
    },
    {
     "name": "stderr",
     "output_type": "stream",
     "text": [
      "/home/brunom/.miniconda2/lib/python3.6/site-packages/sklearn/metrics/classification.py:1143: UndefinedMetricWarning: F-score is ill-defined and being set to 0.0 in labels with no predicted samples.\n",
      "  'precision', 'predicted', average, warn_for)\n"
     ]
    },
    {
     "name": "stdout",
     "output_type": "stream",
     "text": [
      "[CV]  abclf__estimator__learning_rate=0.1, abclf__estimator__n_estimators=50, tfidf__norm=l2, tfidf__smooth_idf=True, tfidf__sublinear_tf=False, vectorizer__max_features=6, vectorizer__min_df=2, vectorizer__ngram_range=(1, 1), score=0.07324140238610706, total=  12.9s\n",
      "[CV] abclf__estimator__learning_rate=0.1, abclf__estimator__n_estimators=50, tfidf__norm=l2, tfidf__smooth_idf=True, tfidf__sublinear_tf=False, vectorizer__max_features=6, vectorizer__min_df=2, vectorizer__ngram_range=(1, 1) \n"
     ]
    },
    {
     "name": "stderr",
     "output_type": "stream",
     "text": [
      "/home/brunom/.miniconda2/lib/python3.6/site-packages/sklearn/metrics/classification.py:1143: UndefinedMetricWarning: F-score is ill-defined and being set to 0.0 in labels with no predicted samples.\n",
      "  'precision', 'predicted', average, warn_for)\n"
     ]
    },
    {
     "name": "stdout",
     "output_type": "stream",
     "text": [
      "[CV]  abclf__estimator__learning_rate=0.1, abclf__estimator__n_estimators=50, tfidf__norm=l2, tfidf__smooth_idf=True, tfidf__sublinear_tf=False, vectorizer__max_features=6, vectorizer__min_df=2, vectorizer__ngram_range=(1, 1), score=0.07095241336702285, total=  12.9s\n",
      "[CV] abclf__estimator__learning_rate=0.1, abclf__estimator__n_estimators=50, tfidf__norm=l2, tfidf__smooth_idf=True, tfidf__sublinear_tf=False, vectorizer__max_features=6, vectorizer__min_df=2, vectorizer__ngram_range=(1, 1) \n"
     ]
    },
    {
     "name": "stderr",
     "output_type": "stream",
     "text": [
      "/home/brunom/.miniconda2/lib/python3.6/site-packages/sklearn/metrics/classification.py:1143: UndefinedMetricWarning: F-score is ill-defined and being set to 0.0 in labels with no predicted samples.\n",
      "  'precision', 'predicted', average, warn_for)\n"
     ]
    },
    {
     "name": "stdout",
     "output_type": "stream",
     "text": [
      "[CV]  abclf__estimator__learning_rate=0.1, abclf__estimator__n_estimators=50, tfidf__norm=l2, tfidf__smooth_idf=True, tfidf__sublinear_tf=False, vectorizer__max_features=6, vectorizer__min_df=2, vectorizer__ngram_range=(1, 1), score=0.07364841314898649, total=  12.9s\n",
      "[CV] abclf__estimator__learning_rate=0.1, abclf__estimator__n_estimators=50, tfidf__norm=l2, tfidf__smooth_idf=True, tfidf__sublinear_tf=False, vectorizer__max_features=6, vectorizer__min_df=2, vectorizer__ngram_range=(1, 2) \n"
     ]
    },
    {
     "name": "stderr",
     "output_type": "stream",
     "text": [
      "/home/brunom/.miniconda2/lib/python3.6/site-packages/sklearn/metrics/classification.py:1143: UndefinedMetricWarning: F-score is ill-defined and being set to 0.0 in labels with no predicted samples.\n",
      "  'precision', 'predicted', average, warn_for)\n"
     ]
    },
    {
     "name": "stdout",
     "output_type": "stream",
     "text": [
      "[CV]  abclf__estimator__learning_rate=0.1, abclf__estimator__n_estimators=50, tfidf__norm=l2, tfidf__smooth_idf=True, tfidf__sublinear_tf=False, vectorizer__max_features=6, vectorizer__min_df=2, vectorizer__ngram_range=(1, 2), score=0.07324140238610706, total=  13.5s\n",
      "[CV] abclf__estimator__learning_rate=0.1, abclf__estimator__n_estimators=50, tfidf__norm=l2, tfidf__smooth_idf=True, tfidf__sublinear_tf=False, vectorizer__max_features=6, vectorizer__min_df=2, vectorizer__ngram_range=(1, 2) \n"
     ]
    },
    {
     "name": "stderr",
     "output_type": "stream",
     "text": [
      "/home/brunom/.miniconda2/lib/python3.6/site-packages/sklearn/metrics/classification.py:1143: UndefinedMetricWarning: F-score is ill-defined and being set to 0.0 in labels with no predicted samples.\n",
      "  'precision', 'predicted', average, warn_for)\n"
     ]
    },
    {
     "name": "stdout",
     "output_type": "stream",
     "text": [
      "[CV]  abclf__estimator__learning_rate=0.1, abclf__estimator__n_estimators=50, tfidf__norm=l2, tfidf__smooth_idf=True, tfidf__sublinear_tf=False, vectorizer__max_features=6, vectorizer__min_df=2, vectorizer__ngram_range=(1, 2), score=0.07095241336702285, total=  13.7s\n",
      "[CV] abclf__estimator__learning_rate=0.1, abclf__estimator__n_estimators=50, tfidf__norm=l2, tfidf__smooth_idf=True, tfidf__sublinear_tf=False, vectorizer__max_features=6, vectorizer__min_df=2, vectorizer__ngram_range=(1, 2) \n"
     ]
    },
    {
     "name": "stderr",
     "output_type": "stream",
     "text": [
      "/home/brunom/.miniconda2/lib/python3.6/site-packages/sklearn/metrics/classification.py:1143: UndefinedMetricWarning: F-score is ill-defined and being set to 0.0 in labels with no predicted samples.\n",
      "  'precision', 'predicted', average, warn_for)\n"
     ]
    },
    {
     "name": "stdout",
     "output_type": "stream",
     "text": [
      "[CV]  abclf__estimator__learning_rate=0.1, abclf__estimator__n_estimators=50, tfidf__norm=l2, tfidf__smooth_idf=True, tfidf__sublinear_tf=False, vectorizer__max_features=6, vectorizer__min_df=2, vectorizer__ngram_range=(1, 2), score=0.07364841314898649, total=  14.1s\n",
      "[CV] abclf__estimator__learning_rate=0.1, abclf__estimator__n_estimators=50, tfidf__norm=l2, tfidf__smooth_idf=False, tfidf__sublinear_tf=True, vectorizer__max_features=3, vectorizer__min_df=1, vectorizer__ngram_range=(1, 1) \n"
     ]
    },
    {
     "name": "stderr",
     "output_type": "stream",
     "text": [
      "/home/brunom/.miniconda2/lib/python3.6/site-packages/sklearn/metrics/classification.py:1143: UndefinedMetricWarning: F-score is ill-defined and being set to 0.0 in labels with no predicted samples.\n",
      "  'precision', 'predicted', average, warn_for)\n"
     ]
    },
    {
     "name": "stdout",
     "output_type": "stream",
     "text": [
      "[CV]  abclf__estimator__learning_rate=0.1, abclf__estimator__n_estimators=50, tfidf__norm=l2, tfidf__smooth_idf=False, tfidf__sublinear_tf=True, vectorizer__max_features=3, vectorizer__min_df=1, vectorizer__ngram_range=(1, 1), score=0.031562929964428006, total=  12.5s\n",
      "[CV] abclf__estimator__learning_rate=0.1, abclf__estimator__n_estimators=50, tfidf__norm=l2, tfidf__smooth_idf=False, tfidf__sublinear_tf=True, vectorizer__max_features=3, vectorizer__min_df=1, vectorizer__ngram_range=(1, 1) \n"
     ]
    },
    {
     "name": "stderr",
     "output_type": "stream",
     "text": [
      "/home/brunom/.miniconda2/lib/python3.6/site-packages/sklearn/metrics/classification.py:1143: UndefinedMetricWarning: F-score is ill-defined and being set to 0.0 in labels with no predicted samples.\n",
      "  'precision', 'predicted', average, warn_for)\n"
     ]
    },
    {
     "name": "stdout",
     "output_type": "stream",
     "text": [
      "[CV]  abclf__estimator__learning_rate=0.1, abclf__estimator__n_estimators=50, tfidf__norm=l2, tfidf__smooth_idf=False, tfidf__sublinear_tf=True, vectorizer__max_features=3, vectorizer__min_df=1, vectorizer__ngram_range=(1, 1), score=0.03162652205606127, total=  12.4s\n",
      "[CV] abclf__estimator__learning_rate=0.1, abclf__estimator__n_estimators=50, tfidf__norm=l2, tfidf__smooth_idf=False, tfidf__sublinear_tf=True, vectorizer__max_features=3, vectorizer__min_df=1, vectorizer__ngram_range=(1, 1) \n"
     ]
    },
    {
     "name": "stderr",
     "output_type": "stream",
     "text": [
      "/home/brunom/.miniconda2/lib/python3.6/site-packages/sklearn/metrics/classification.py:1143: UndefinedMetricWarning: F-score is ill-defined and being set to 0.0 in labels with no predicted samples.\n",
      "  'precision', 'predicted', average, warn_for)\n"
     ]
    },
    {
     "name": "stdout",
     "output_type": "stream",
     "text": [
      "[CV]  abclf__estimator__learning_rate=0.1, abclf__estimator__n_estimators=50, tfidf__norm=l2, tfidf__smooth_idf=False, tfidf__sublinear_tf=True, vectorizer__max_features=3, vectorizer__min_df=1, vectorizer__ngram_range=(1, 1), score=0.0322482563655916, total=  12.4s\n",
      "[CV] abclf__estimator__learning_rate=0.1, abclf__estimator__n_estimators=50, tfidf__norm=l2, tfidf__smooth_idf=False, tfidf__sublinear_tf=True, vectorizer__max_features=3, vectorizer__min_df=1, vectorizer__ngram_range=(1, 2) \n"
     ]
    },
    {
     "name": "stderr",
     "output_type": "stream",
     "text": [
      "/home/brunom/.miniconda2/lib/python3.6/site-packages/sklearn/metrics/classification.py:1143: UndefinedMetricWarning: F-score is ill-defined and being set to 0.0 in labels with no predicted samples.\n",
      "  'precision', 'predicted', average, warn_for)\n"
     ]
    },
    {
     "name": "stdout",
     "output_type": "stream",
     "text": [
      "[CV]  abclf__estimator__learning_rate=0.1, abclf__estimator__n_estimators=50, tfidf__norm=l2, tfidf__smooth_idf=False, tfidf__sublinear_tf=True, vectorizer__max_features=3, vectorizer__min_df=1, vectorizer__ngram_range=(1, 2), score=0.031562929964428006, total=  13.0s\n",
      "[CV] abclf__estimator__learning_rate=0.1, abclf__estimator__n_estimators=50, tfidf__norm=l2, tfidf__smooth_idf=False, tfidf__sublinear_tf=True, vectorizer__max_features=3, vectorizer__min_df=1, vectorizer__ngram_range=(1, 2) \n"
     ]
    },
    {
     "name": "stderr",
     "output_type": "stream",
     "text": [
      "/home/brunom/.miniconda2/lib/python3.6/site-packages/sklearn/metrics/classification.py:1143: UndefinedMetricWarning: F-score is ill-defined and being set to 0.0 in labels with no predicted samples.\n",
      "  'precision', 'predicted', average, warn_for)\n"
     ]
    },
    {
     "name": "stdout",
     "output_type": "stream",
     "text": [
      "[CV]  abclf__estimator__learning_rate=0.1, abclf__estimator__n_estimators=50, tfidf__norm=l2, tfidf__smooth_idf=False, tfidf__sublinear_tf=True, vectorizer__max_features=3, vectorizer__min_df=1, vectorizer__ngram_range=(1, 2), score=0.03162652205606127, total=  13.0s\n",
      "[CV] abclf__estimator__learning_rate=0.1, abclf__estimator__n_estimators=50, tfidf__norm=l2, tfidf__smooth_idf=False, tfidf__sublinear_tf=True, vectorizer__max_features=3, vectorizer__min_df=1, vectorizer__ngram_range=(1, 2) \n"
     ]
    },
    {
     "name": "stderr",
     "output_type": "stream",
     "text": [
      "/home/brunom/.miniconda2/lib/python3.6/site-packages/sklearn/metrics/classification.py:1143: UndefinedMetricWarning: F-score is ill-defined and being set to 0.0 in labels with no predicted samples.\n",
      "  'precision', 'predicted', average, warn_for)\n"
     ]
    },
    {
     "name": "stdout",
     "output_type": "stream",
     "text": [
      "[CV]  abclf__estimator__learning_rate=0.1, abclf__estimator__n_estimators=50, tfidf__norm=l2, tfidf__smooth_idf=False, tfidf__sublinear_tf=True, vectorizer__max_features=3, vectorizer__min_df=1, vectorizer__ngram_range=(1, 2), score=0.0322482563655916, total=  13.0s\n",
      "[CV] abclf__estimator__learning_rate=0.1, abclf__estimator__n_estimators=50, tfidf__norm=l2, tfidf__smooth_idf=False, tfidf__sublinear_tf=True, vectorizer__max_features=3, vectorizer__min_df=2, vectorizer__ngram_range=(1, 1) \n"
     ]
    },
    {
     "name": "stderr",
     "output_type": "stream",
     "text": [
      "/home/brunom/.miniconda2/lib/python3.6/site-packages/sklearn/metrics/classification.py:1143: UndefinedMetricWarning: F-score is ill-defined and being set to 0.0 in labels with no predicted samples.\n",
      "  'precision', 'predicted', average, warn_for)\n"
     ]
    },
    {
     "name": "stdout",
     "output_type": "stream",
     "text": [
      "[CV]  abclf__estimator__learning_rate=0.1, abclf__estimator__n_estimators=50, tfidf__norm=l2, tfidf__smooth_idf=False, tfidf__sublinear_tf=True, vectorizer__max_features=3, vectorizer__min_df=2, vectorizer__ngram_range=(1, 1), score=0.031562929964428006, total=  12.4s\n",
      "[CV] abclf__estimator__learning_rate=0.1, abclf__estimator__n_estimators=50, tfidf__norm=l2, tfidf__smooth_idf=False, tfidf__sublinear_tf=True, vectorizer__max_features=3, vectorizer__min_df=2, vectorizer__ngram_range=(1, 1) \n"
     ]
    },
    {
     "name": "stderr",
     "output_type": "stream",
     "text": [
      "/home/brunom/.miniconda2/lib/python3.6/site-packages/sklearn/metrics/classification.py:1143: UndefinedMetricWarning: F-score is ill-defined and being set to 0.0 in labels with no predicted samples.\n",
      "  'precision', 'predicted', average, warn_for)\n"
     ]
    },
    {
     "name": "stdout",
     "output_type": "stream",
     "text": [
      "[CV]  abclf__estimator__learning_rate=0.1, abclf__estimator__n_estimators=50, tfidf__norm=l2, tfidf__smooth_idf=False, tfidf__sublinear_tf=True, vectorizer__max_features=3, vectorizer__min_df=2, vectorizer__ngram_range=(1, 1), score=0.03162652205606127, total=  12.4s\n",
      "[CV] abclf__estimator__learning_rate=0.1, abclf__estimator__n_estimators=50, tfidf__norm=l2, tfidf__smooth_idf=False, tfidf__sublinear_tf=True, vectorizer__max_features=3, vectorizer__min_df=2, vectorizer__ngram_range=(1, 1) \n"
     ]
    },
    {
     "name": "stderr",
     "output_type": "stream",
     "text": [
      "/home/brunom/.miniconda2/lib/python3.6/site-packages/sklearn/metrics/classification.py:1143: UndefinedMetricWarning: F-score is ill-defined and being set to 0.0 in labels with no predicted samples.\n",
      "  'precision', 'predicted', average, warn_for)\n"
     ]
    },
    {
     "name": "stdout",
     "output_type": "stream",
     "text": [
      "[CV]  abclf__estimator__learning_rate=0.1, abclf__estimator__n_estimators=50, tfidf__norm=l2, tfidf__smooth_idf=False, tfidf__sublinear_tf=True, vectorizer__max_features=3, vectorizer__min_df=2, vectorizer__ngram_range=(1, 1), score=0.0322482563655916, total=  12.5s\n",
      "[CV] abclf__estimator__learning_rate=0.1, abclf__estimator__n_estimators=50, tfidf__norm=l2, tfidf__smooth_idf=False, tfidf__sublinear_tf=True, vectorizer__max_features=3, vectorizer__min_df=2, vectorizer__ngram_range=(1, 2) \n"
     ]
    },
    {
     "name": "stderr",
     "output_type": "stream",
     "text": [
      "/home/brunom/.miniconda2/lib/python3.6/site-packages/sklearn/metrics/classification.py:1143: UndefinedMetricWarning: F-score is ill-defined and being set to 0.0 in labels with no predicted samples.\n",
      "  'precision', 'predicted', average, warn_for)\n"
     ]
    },
    {
     "name": "stdout",
     "output_type": "stream",
     "text": [
      "[CV]  abclf__estimator__learning_rate=0.1, abclf__estimator__n_estimators=50, tfidf__norm=l2, tfidf__smooth_idf=False, tfidf__sublinear_tf=True, vectorizer__max_features=3, vectorizer__min_df=2, vectorizer__ngram_range=(1, 2), score=0.031562929964428006, total=  13.5s\n",
      "[CV] abclf__estimator__learning_rate=0.1, abclf__estimator__n_estimators=50, tfidf__norm=l2, tfidf__smooth_idf=False, tfidf__sublinear_tf=True, vectorizer__max_features=3, vectorizer__min_df=2, vectorizer__ngram_range=(1, 2) \n"
     ]
    },
    {
     "name": "stderr",
     "output_type": "stream",
     "text": [
      "/home/brunom/.miniconda2/lib/python3.6/site-packages/sklearn/metrics/classification.py:1143: UndefinedMetricWarning: F-score is ill-defined and being set to 0.0 in labels with no predicted samples.\n",
      "  'precision', 'predicted', average, warn_for)\n"
     ]
    },
    {
     "name": "stdout",
     "output_type": "stream",
     "text": [
      "[CV]  abclf__estimator__learning_rate=0.1, abclf__estimator__n_estimators=50, tfidf__norm=l2, tfidf__smooth_idf=False, tfidf__sublinear_tf=True, vectorizer__max_features=3, vectorizer__min_df=2, vectorizer__ngram_range=(1, 2), score=0.03162652205606127, total=  13.0s\n",
      "[CV] abclf__estimator__learning_rate=0.1, abclf__estimator__n_estimators=50, tfidf__norm=l2, tfidf__smooth_idf=False, tfidf__sublinear_tf=True, vectorizer__max_features=3, vectorizer__min_df=2, vectorizer__ngram_range=(1, 2) \n"
     ]
    },
    {
     "name": "stderr",
     "output_type": "stream",
     "text": [
      "/home/brunom/.miniconda2/lib/python3.6/site-packages/sklearn/metrics/classification.py:1143: UndefinedMetricWarning: F-score is ill-defined and being set to 0.0 in labels with no predicted samples.\n",
      "  'precision', 'predicted', average, warn_for)\n"
     ]
    },
    {
     "name": "stdout",
     "output_type": "stream",
     "text": [
      "[CV]  abclf__estimator__learning_rate=0.1, abclf__estimator__n_estimators=50, tfidf__norm=l2, tfidf__smooth_idf=False, tfidf__sublinear_tf=True, vectorizer__max_features=3, vectorizer__min_df=2, vectorizer__ngram_range=(1, 2), score=0.0322482563655916, total=  13.1s\n",
      "[CV] abclf__estimator__learning_rate=0.1, abclf__estimator__n_estimators=50, tfidf__norm=l2, tfidf__smooth_idf=False, tfidf__sublinear_tf=True, vectorizer__max_features=5, vectorizer__min_df=1, vectorizer__ngram_range=(1, 1) \n"
     ]
    },
    {
     "name": "stderr",
     "output_type": "stream",
     "text": [
      "/home/brunom/.miniconda2/lib/python3.6/site-packages/sklearn/metrics/classification.py:1143: UndefinedMetricWarning: F-score is ill-defined and being set to 0.0 in labels with no predicted samples.\n",
      "  'precision', 'predicted', average, warn_for)\n"
     ]
    },
    {
     "name": "stdout",
     "output_type": "stream",
     "text": [
      "[CV]  abclf__estimator__learning_rate=0.1, abclf__estimator__n_estimators=50, tfidf__norm=l2, tfidf__smooth_idf=False, tfidf__sublinear_tf=True, vectorizer__max_features=5, vectorizer__min_df=1, vectorizer__ngram_range=(1, 1), score=0.05907626088917405, total=  12.8s\n",
      "[CV] abclf__estimator__learning_rate=0.1, abclf__estimator__n_estimators=50, tfidf__norm=l2, tfidf__smooth_idf=False, tfidf__sublinear_tf=True, vectorizer__max_features=5, vectorizer__min_df=1, vectorizer__ngram_range=(1, 1) \n"
     ]
    },
    {
     "name": "stderr",
     "output_type": "stream",
     "text": [
      "/home/brunom/.miniconda2/lib/python3.6/site-packages/sklearn/metrics/classification.py:1143: UndefinedMetricWarning: F-score is ill-defined and being set to 0.0 in labels with no predicted samples.\n",
      "  'precision', 'predicted', average, warn_for)\n"
     ]
    },
    {
     "name": "stdout",
     "output_type": "stream",
     "text": [
      "[CV]  abclf__estimator__learning_rate=0.1, abclf__estimator__n_estimators=50, tfidf__norm=l2, tfidf__smooth_idf=False, tfidf__sublinear_tf=True, vectorizer__max_features=5, vectorizer__min_df=1, vectorizer__ngram_range=(1, 1), score=0.060021152424134694, total=  12.9s\n",
      "[CV] abclf__estimator__learning_rate=0.1, abclf__estimator__n_estimators=50, tfidf__norm=l2, tfidf__smooth_idf=False, tfidf__sublinear_tf=True, vectorizer__max_features=5, vectorizer__min_df=1, vectorizer__ngram_range=(1, 1) \n"
     ]
    },
    {
     "name": "stderr",
     "output_type": "stream",
     "text": [
      "/home/brunom/.miniconda2/lib/python3.6/site-packages/sklearn/metrics/classification.py:1143: UndefinedMetricWarning: F-score is ill-defined and being set to 0.0 in labels with no predicted samples.\n",
      "  'precision', 'predicted', average, warn_for)\n"
     ]
    },
    {
     "name": "stdout",
     "output_type": "stream",
     "text": [
      "[CV]  abclf__estimator__learning_rate=0.1, abclf__estimator__n_estimators=50, tfidf__norm=l2, tfidf__smooth_idf=False, tfidf__sublinear_tf=True, vectorizer__max_features=5, vectorizer__min_df=1, vectorizer__ngram_range=(1, 1), score=0.06921366118717705, total=  12.4s\n",
      "[CV] abclf__estimator__learning_rate=0.1, abclf__estimator__n_estimators=50, tfidf__norm=l2, tfidf__smooth_idf=False, tfidf__sublinear_tf=True, vectorizer__max_features=5, vectorizer__min_df=1, vectorizer__ngram_range=(1, 2) \n"
     ]
    },
    {
     "name": "stderr",
     "output_type": "stream",
     "text": [
      "/home/brunom/.miniconda2/lib/python3.6/site-packages/sklearn/metrics/classification.py:1143: UndefinedMetricWarning: F-score is ill-defined and being set to 0.0 in labels with no predicted samples.\n",
      "  'precision', 'predicted', average, warn_for)\n"
     ]
    },
    {
     "name": "stdout",
     "output_type": "stream",
     "text": [
      "[CV]  abclf__estimator__learning_rate=0.1, abclf__estimator__n_estimators=50, tfidf__norm=l2, tfidf__smooth_idf=False, tfidf__sublinear_tf=True, vectorizer__max_features=5, vectorizer__min_df=1, vectorizer__ngram_range=(1, 2), score=0.05907626088917405, total=  12.9s\n",
      "[CV] abclf__estimator__learning_rate=0.1, abclf__estimator__n_estimators=50, tfidf__norm=l2, tfidf__smooth_idf=False, tfidf__sublinear_tf=True, vectorizer__max_features=5, vectorizer__min_df=1, vectorizer__ngram_range=(1, 2) \n"
     ]
    },
    {
     "name": "stderr",
     "output_type": "stream",
     "text": [
      "/home/brunom/.miniconda2/lib/python3.6/site-packages/sklearn/metrics/classification.py:1143: UndefinedMetricWarning: F-score is ill-defined and being set to 0.0 in labels with no predicted samples.\n",
      "  'precision', 'predicted', average, warn_for)\n"
     ]
    },
    {
     "name": "stdout",
     "output_type": "stream",
     "text": [
      "[CV]  abclf__estimator__learning_rate=0.1, abclf__estimator__n_estimators=50, tfidf__norm=l2, tfidf__smooth_idf=False, tfidf__sublinear_tf=True, vectorizer__max_features=5, vectorizer__min_df=1, vectorizer__ngram_range=(1, 2), score=0.060021152424134694, total=  13.1s\n",
      "[CV] abclf__estimator__learning_rate=0.1, abclf__estimator__n_estimators=50, tfidf__norm=l2, tfidf__smooth_idf=False, tfidf__sublinear_tf=True, vectorizer__max_features=5, vectorizer__min_df=1, vectorizer__ngram_range=(1, 2) \n"
     ]
    },
    {
     "name": "stderr",
     "output_type": "stream",
     "text": [
      "/home/brunom/.miniconda2/lib/python3.6/site-packages/sklearn/metrics/classification.py:1143: UndefinedMetricWarning: F-score is ill-defined and being set to 0.0 in labels with no predicted samples.\n",
      "  'precision', 'predicted', average, warn_for)\n"
     ]
    },
    {
     "name": "stdout",
     "output_type": "stream",
     "text": [
      "[CV]  abclf__estimator__learning_rate=0.1, abclf__estimator__n_estimators=50, tfidf__norm=l2, tfidf__smooth_idf=False, tfidf__sublinear_tf=True, vectorizer__max_features=5, vectorizer__min_df=1, vectorizer__ngram_range=(1, 2), score=0.06921366118717705, total=  13.1s\n",
      "[CV] abclf__estimator__learning_rate=0.1, abclf__estimator__n_estimators=50, tfidf__norm=l2, tfidf__smooth_idf=False, tfidf__sublinear_tf=True, vectorizer__max_features=5, vectorizer__min_df=2, vectorizer__ngram_range=(1, 1) \n"
     ]
    },
    {
     "name": "stderr",
     "output_type": "stream",
     "text": [
      "/home/brunom/.miniconda2/lib/python3.6/site-packages/sklearn/metrics/classification.py:1143: UndefinedMetricWarning: F-score is ill-defined and being set to 0.0 in labels with no predicted samples.\n",
      "  'precision', 'predicted', average, warn_for)\n"
     ]
    },
    {
     "name": "stdout",
     "output_type": "stream",
     "text": [
      "[CV]  abclf__estimator__learning_rate=0.1, abclf__estimator__n_estimators=50, tfidf__norm=l2, tfidf__smooth_idf=False, tfidf__sublinear_tf=True, vectorizer__max_features=5, vectorizer__min_df=2, vectorizer__ngram_range=(1, 1), score=0.05907626088917405, total=  12.3s\n",
      "[CV] abclf__estimator__learning_rate=0.1, abclf__estimator__n_estimators=50, tfidf__norm=l2, tfidf__smooth_idf=False, tfidf__sublinear_tf=True, vectorizer__max_features=5, vectorizer__min_df=2, vectorizer__ngram_range=(1, 1) \n"
     ]
    },
    {
     "name": "stderr",
     "output_type": "stream",
     "text": [
      "/home/brunom/.miniconda2/lib/python3.6/site-packages/sklearn/metrics/classification.py:1143: UndefinedMetricWarning: F-score is ill-defined and being set to 0.0 in labels with no predicted samples.\n",
      "  'precision', 'predicted', average, warn_for)\n"
     ]
    },
    {
     "name": "stdout",
     "output_type": "stream",
     "text": [
      "[CV]  abclf__estimator__learning_rate=0.1, abclf__estimator__n_estimators=50, tfidf__norm=l2, tfidf__smooth_idf=False, tfidf__sublinear_tf=True, vectorizer__max_features=5, vectorizer__min_df=2, vectorizer__ngram_range=(1, 1), score=0.060021152424134694, total=  12.5s\n",
      "[CV] abclf__estimator__learning_rate=0.1, abclf__estimator__n_estimators=50, tfidf__norm=l2, tfidf__smooth_idf=False, tfidf__sublinear_tf=True, vectorizer__max_features=5, vectorizer__min_df=2, vectorizer__ngram_range=(1, 1) \n"
     ]
    },
    {
     "name": "stderr",
     "output_type": "stream",
     "text": [
      "/home/brunom/.miniconda2/lib/python3.6/site-packages/sklearn/metrics/classification.py:1143: UndefinedMetricWarning: F-score is ill-defined and being set to 0.0 in labels with no predicted samples.\n",
      "  'precision', 'predicted', average, warn_for)\n"
     ]
    },
    {
     "name": "stdout",
     "output_type": "stream",
     "text": [
      "[CV]  abclf__estimator__learning_rate=0.1, abclf__estimator__n_estimators=50, tfidf__norm=l2, tfidf__smooth_idf=False, tfidf__sublinear_tf=True, vectorizer__max_features=5, vectorizer__min_df=2, vectorizer__ngram_range=(1, 1), score=0.06921366118717705, total=  12.9s\n",
      "[CV] abclf__estimator__learning_rate=0.1, abclf__estimator__n_estimators=50, tfidf__norm=l2, tfidf__smooth_idf=False, tfidf__sublinear_tf=True, vectorizer__max_features=5, vectorizer__min_df=2, vectorizer__ngram_range=(1, 2) \n"
     ]
    },
    {
     "name": "stderr",
     "output_type": "stream",
     "text": [
      "/home/brunom/.miniconda2/lib/python3.6/site-packages/sklearn/metrics/classification.py:1143: UndefinedMetricWarning: F-score is ill-defined and being set to 0.0 in labels with no predicted samples.\n",
      "  'precision', 'predicted', average, warn_for)\n"
     ]
    },
    {
     "name": "stdout",
     "output_type": "stream",
     "text": [
      "[CV]  abclf__estimator__learning_rate=0.1, abclf__estimator__n_estimators=50, tfidf__norm=l2, tfidf__smooth_idf=False, tfidf__sublinear_tf=True, vectorizer__max_features=5, vectorizer__min_df=2, vectorizer__ngram_range=(1, 2), score=0.05907626088917405, total=  13.1s\n",
      "[CV] abclf__estimator__learning_rate=0.1, abclf__estimator__n_estimators=50, tfidf__norm=l2, tfidf__smooth_idf=False, tfidf__sublinear_tf=True, vectorizer__max_features=5, vectorizer__min_df=2, vectorizer__ngram_range=(1, 2) \n"
     ]
    },
    {
     "name": "stderr",
     "output_type": "stream",
     "text": [
      "/home/brunom/.miniconda2/lib/python3.6/site-packages/sklearn/metrics/classification.py:1143: UndefinedMetricWarning: F-score is ill-defined and being set to 0.0 in labels with no predicted samples.\n",
      "  'precision', 'predicted', average, warn_for)\n"
     ]
    },
    {
     "name": "stdout",
     "output_type": "stream",
     "text": [
      "[CV]  abclf__estimator__learning_rate=0.1, abclf__estimator__n_estimators=50, tfidf__norm=l2, tfidf__smooth_idf=False, tfidf__sublinear_tf=True, vectorizer__max_features=5, vectorizer__min_df=2, vectorizer__ngram_range=(1, 2), score=0.060021152424134694, total=  13.0s\n",
      "[CV] abclf__estimator__learning_rate=0.1, abclf__estimator__n_estimators=50, tfidf__norm=l2, tfidf__smooth_idf=False, tfidf__sublinear_tf=True, vectorizer__max_features=5, vectorizer__min_df=2, vectorizer__ngram_range=(1, 2) \n"
     ]
    },
    {
     "name": "stderr",
     "output_type": "stream",
     "text": [
      "/home/brunom/.miniconda2/lib/python3.6/site-packages/sklearn/metrics/classification.py:1143: UndefinedMetricWarning: F-score is ill-defined and being set to 0.0 in labels with no predicted samples.\n",
      "  'precision', 'predicted', average, warn_for)\n"
     ]
    },
    {
     "name": "stdout",
     "output_type": "stream",
     "text": [
      "[CV]  abclf__estimator__learning_rate=0.1, abclf__estimator__n_estimators=50, tfidf__norm=l2, tfidf__smooth_idf=False, tfidf__sublinear_tf=True, vectorizer__max_features=5, vectorizer__min_df=2, vectorizer__ngram_range=(1, 2), score=0.06921366118717705, total=  13.5s\n",
      "[CV] abclf__estimator__learning_rate=0.1, abclf__estimator__n_estimators=50, tfidf__norm=l2, tfidf__smooth_idf=False, tfidf__sublinear_tf=True, vectorizer__max_features=6, vectorizer__min_df=1, vectorizer__ngram_range=(1, 1) \n"
     ]
    },
    {
     "name": "stderr",
     "output_type": "stream",
     "text": [
      "/home/brunom/.miniconda2/lib/python3.6/site-packages/sklearn/metrics/classification.py:1143: UndefinedMetricWarning: F-score is ill-defined and being set to 0.0 in labels with no predicted samples.\n",
      "  'precision', 'predicted', average, warn_for)\n"
     ]
    },
    {
     "name": "stdout",
     "output_type": "stream",
     "text": [
      "[CV]  abclf__estimator__learning_rate=0.1, abclf__estimator__n_estimators=50, tfidf__norm=l2, tfidf__smooth_idf=False, tfidf__sublinear_tf=True, vectorizer__max_features=6, vectorizer__min_df=1, vectorizer__ngram_range=(1, 1), score=0.07342935811778391, total=  13.6s\n",
      "[CV] abclf__estimator__learning_rate=0.1, abclf__estimator__n_estimators=50, tfidf__norm=l2, tfidf__smooth_idf=False, tfidf__sublinear_tf=True, vectorizer__max_features=6, vectorizer__min_df=1, vectorizer__ngram_range=(1, 1) \n"
     ]
    },
    {
     "name": "stderr",
     "output_type": "stream",
     "text": [
      "/home/brunom/.miniconda2/lib/python3.6/site-packages/sklearn/metrics/classification.py:1143: UndefinedMetricWarning: F-score is ill-defined and being set to 0.0 in labels with no predicted samples.\n",
      "  'precision', 'predicted', average, warn_for)\n"
     ]
    },
    {
     "name": "stdout",
     "output_type": "stream",
     "text": [
      "[CV]  abclf__estimator__learning_rate=0.1, abclf__estimator__n_estimators=50, tfidf__norm=l2, tfidf__smooth_idf=False, tfidf__sublinear_tf=True, vectorizer__max_features=6, vectorizer__min_df=1, vectorizer__ngram_range=(1, 1), score=0.07090033246644477, total=  13.6s\n",
      "[CV] abclf__estimator__learning_rate=0.1, abclf__estimator__n_estimators=50, tfidf__norm=l2, tfidf__smooth_idf=False, tfidf__sublinear_tf=True, vectorizer__max_features=6, vectorizer__min_df=1, vectorizer__ngram_range=(1, 1) \n"
     ]
    },
    {
     "name": "stderr",
     "output_type": "stream",
     "text": [
      "/home/brunom/.miniconda2/lib/python3.6/site-packages/sklearn/metrics/classification.py:1143: UndefinedMetricWarning: F-score is ill-defined and being set to 0.0 in labels with no predicted samples.\n",
      "  'precision', 'predicted', average, warn_for)\n"
     ]
    },
    {
     "name": "stdout",
     "output_type": "stream",
     "text": [
      "[CV]  abclf__estimator__learning_rate=0.1, abclf__estimator__n_estimators=50, tfidf__norm=l2, tfidf__smooth_idf=False, tfidf__sublinear_tf=True, vectorizer__max_features=6, vectorizer__min_df=1, vectorizer__ngram_range=(1, 1), score=0.07392565586252228, total=  13.4s\n",
      "[CV] abclf__estimator__learning_rate=0.1, abclf__estimator__n_estimators=50, tfidf__norm=l2, tfidf__smooth_idf=False, tfidf__sublinear_tf=True, vectorizer__max_features=6, vectorizer__min_df=1, vectorizer__ngram_range=(1, 2) \n"
     ]
    },
    {
     "name": "stderr",
     "output_type": "stream",
     "text": [
      "/home/brunom/.miniconda2/lib/python3.6/site-packages/sklearn/metrics/classification.py:1143: UndefinedMetricWarning: F-score is ill-defined and being set to 0.0 in labels with no predicted samples.\n",
      "  'precision', 'predicted', average, warn_for)\n"
     ]
    },
    {
     "name": "stdout",
     "output_type": "stream",
     "text": [
      "[CV]  abclf__estimator__learning_rate=0.1, abclf__estimator__n_estimators=50, tfidf__norm=l2, tfidf__smooth_idf=False, tfidf__sublinear_tf=True, vectorizer__max_features=6, vectorizer__min_df=1, vectorizer__ngram_range=(1, 2), score=0.07342935811778391, total=  13.9s\n",
      "[CV] abclf__estimator__learning_rate=0.1, abclf__estimator__n_estimators=50, tfidf__norm=l2, tfidf__smooth_idf=False, tfidf__sublinear_tf=True, vectorizer__max_features=6, vectorizer__min_df=1, vectorizer__ngram_range=(1, 2) \n"
     ]
    },
    {
     "name": "stderr",
     "output_type": "stream",
     "text": [
      "/home/brunom/.miniconda2/lib/python3.6/site-packages/sklearn/metrics/classification.py:1143: UndefinedMetricWarning: F-score is ill-defined and being set to 0.0 in labels with no predicted samples.\n",
      "  'precision', 'predicted', average, warn_for)\n"
     ]
    },
    {
     "name": "stdout",
     "output_type": "stream",
     "text": [
      "[CV]  abclf__estimator__learning_rate=0.1, abclf__estimator__n_estimators=50, tfidf__norm=l2, tfidf__smooth_idf=False, tfidf__sublinear_tf=True, vectorizer__max_features=6, vectorizer__min_df=1, vectorizer__ngram_range=(1, 2), score=0.07090033246644477, total=  14.3s\n",
      "[CV] abclf__estimator__learning_rate=0.1, abclf__estimator__n_estimators=50, tfidf__norm=l2, tfidf__smooth_idf=False, tfidf__sublinear_tf=True, vectorizer__max_features=6, vectorizer__min_df=1, vectorizer__ngram_range=(1, 2) \n"
     ]
    },
    {
     "name": "stderr",
     "output_type": "stream",
     "text": [
      "/home/brunom/.miniconda2/lib/python3.6/site-packages/sklearn/metrics/classification.py:1143: UndefinedMetricWarning: F-score is ill-defined and being set to 0.0 in labels with no predicted samples.\n",
      "  'precision', 'predicted', average, warn_for)\n"
     ]
    },
    {
     "name": "stdout",
     "output_type": "stream",
     "text": [
      "[CV]  abclf__estimator__learning_rate=0.1, abclf__estimator__n_estimators=50, tfidf__norm=l2, tfidf__smooth_idf=False, tfidf__sublinear_tf=True, vectorizer__max_features=6, vectorizer__min_df=1, vectorizer__ngram_range=(1, 2), score=0.07392565586252228, total=  13.6s\n",
      "[CV] abclf__estimator__learning_rate=0.1, abclf__estimator__n_estimators=50, tfidf__norm=l2, tfidf__smooth_idf=False, tfidf__sublinear_tf=True, vectorizer__max_features=6, vectorizer__min_df=2, vectorizer__ngram_range=(1, 1) \n"
     ]
    },
    {
     "name": "stderr",
     "output_type": "stream",
     "text": [
      "/home/brunom/.miniconda2/lib/python3.6/site-packages/sklearn/metrics/classification.py:1143: UndefinedMetricWarning: F-score is ill-defined and being set to 0.0 in labels with no predicted samples.\n",
      "  'precision', 'predicted', average, warn_for)\n"
     ]
    },
    {
     "name": "stdout",
     "output_type": "stream",
     "text": [
      "[CV]  abclf__estimator__learning_rate=0.1, abclf__estimator__n_estimators=50, tfidf__norm=l2, tfidf__smooth_idf=False, tfidf__sublinear_tf=True, vectorizer__max_features=6, vectorizer__min_df=2, vectorizer__ngram_range=(1, 1), score=0.07342935811778391, total=  13.5s\n",
      "[CV] abclf__estimator__learning_rate=0.1, abclf__estimator__n_estimators=50, tfidf__norm=l2, tfidf__smooth_idf=False, tfidf__sublinear_tf=True, vectorizer__max_features=6, vectorizer__min_df=2, vectorizer__ngram_range=(1, 1) \n"
     ]
    },
    {
     "name": "stderr",
     "output_type": "stream",
     "text": [
      "/home/brunom/.miniconda2/lib/python3.6/site-packages/sklearn/metrics/classification.py:1143: UndefinedMetricWarning: F-score is ill-defined and being set to 0.0 in labels with no predicted samples.\n",
      "  'precision', 'predicted', average, warn_for)\n"
     ]
    },
    {
     "name": "stdout",
     "output_type": "stream",
     "text": [
      "[CV]  abclf__estimator__learning_rate=0.1, abclf__estimator__n_estimators=50, tfidf__norm=l2, tfidf__smooth_idf=False, tfidf__sublinear_tf=True, vectorizer__max_features=6, vectorizer__min_df=2, vectorizer__ngram_range=(1, 1), score=0.07090033246644477, total=  13.7s\n",
      "[CV] abclf__estimator__learning_rate=0.1, abclf__estimator__n_estimators=50, tfidf__norm=l2, tfidf__smooth_idf=False, tfidf__sublinear_tf=True, vectorizer__max_features=6, vectorizer__min_df=2, vectorizer__ngram_range=(1, 1) \n"
     ]
    },
    {
     "name": "stderr",
     "output_type": "stream",
     "text": [
      "/home/brunom/.miniconda2/lib/python3.6/site-packages/sklearn/metrics/classification.py:1143: UndefinedMetricWarning: F-score is ill-defined and being set to 0.0 in labels with no predicted samples.\n",
      "  'precision', 'predicted', average, warn_for)\n"
     ]
    },
    {
     "name": "stdout",
     "output_type": "stream",
     "text": [
      "[CV]  abclf__estimator__learning_rate=0.1, abclf__estimator__n_estimators=50, tfidf__norm=l2, tfidf__smooth_idf=False, tfidf__sublinear_tf=True, vectorizer__max_features=6, vectorizer__min_df=2, vectorizer__ngram_range=(1, 1), score=0.07392565586252228, total=  13.8s\n",
      "[CV] abclf__estimator__learning_rate=0.1, abclf__estimator__n_estimators=50, tfidf__norm=l2, tfidf__smooth_idf=False, tfidf__sublinear_tf=True, vectorizer__max_features=6, vectorizer__min_df=2, vectorizer__ngram_range=(1, 2) \n"
     ]
    },
    {
     "name": "stderr",
     "output_type": "stream",
     "text": [
      "/home/brunom/.miniconda2/lib/python3.6/site-packages/sklearn/metrics/classification.py:1143: UndefinedMetricWarning: F-score is ill-defined and being set to 0.0 in labels with no predicted samples.\n",
      "  'precision', 'predicted', average, warn_for)\n"
     ]
    },
    {
     "name": "stdout",
     "output_type": "stream",
     "text": [
      "[CV]  abclf__estimator__learning_rate=0.1, abclf__estimator__n_estimators=50, tfidf__norm=l2, tfidf__smooth_idf=False, tfidf__sublinear_tf=True, vectorizer__max_features=6, vectorizer__min_df=2, vectorizer__ngram_range=(1, 2), score=0.07342935811778391, total=  13.8s\n",
      "[CV] abclf__estimator__learning_rate=0.1, abclf__estimator__n_estimators=50, tfidf__norm=l2, tfidf__smooth_idf=False, tfidf__sublinear_tf=True, vectorizer__max_features=6, vectorizer__min_df=2, vectorizer__ngram_range=(1, 2) \n"
     ]
    },
    {
     "name": "stderr",
     "output_type": "stream",
     "text": [
      "/home/brunom/.miniconda2/lib/python3.6/site-packages/sklearn/metrics/classification.py:1143: UndefinedMetricWarning: F-score is ill-defined and being set to 0.0 in labels with no predicted samples.\n",
      "  'precision', 'predicted', average, warn_for)\n"
     ]
    },
    {
     "name": "stdout",
     "output_type": "stream",
     "text": [
      "[CV]  abclf__estimator__learning_rate=0.1, abclf__estimator__n_estimators=50, tfidf__norm=l2, tfidf__smooth_idf=False, tfidf__sublinear_tf=True, vectorizer__max_features=6, vectorizer__min_df=2, vectorizer__ngram_range=(1, 2), score=0.07090033246644477, total=  13.7s\n",
      "[CV] abclf__estimator__learning_rate=0.1, abclf__estimator__n_estimators=50, tfidf__norm=l2, tfidf__smooth_idf=False, tfidf__sublinear_tf=True, vectorizer__max_features=6, vectorizer__min_df=2, vectorizer__ngram_range=(1, 2) \n"
     ]
    },
    {
     "name": "stderr",
     "output_type": "stream",
     "text": [
      "/home/brunom/.miniconda2/lib/python3.6/site-packages/sklearn/metrics/classification.py:1143: UndefinedMetricWarning: F-score is ill-defined and being set to 0.0 in labels with no predicted samples.\n",
      "  'precision', 'predicted', average, warn_for)\n"
     ]
    },
    {
     "name": "stdout",
     "output_type": "stream",
     "text": [
      "[CV]  abclf__estimator__learning_rate=0.1, abclf__estimator__n_estimators=50, tfidf__norm=l2, tfidf__smooth_idf=False, tfidf__sublinear_tf=True, vectorizer__max_features=6, vectorizer__min_df=2, vectorizer__ngram_range=(1, 2), score=0.07392565586252228, total=  13.4s\n",
      "[CV] abclf__estimator__learning_rate=0.1, abclf__estimator__n_estimators=50, tfidf__norm=l2, tfidf__smooth_idf=False, tfidf__sublinear_tf=False, vectorizer__max_features=3, vectorizer__min_df=1, vectorizer__ngram_range=(1, 1) \n"
     ]
    },
    {
     "name": "stderr",
     "output_type": "stream",
     "text": [
      "/home/brunom/.miniconda2/lib/python3.6/site-packages/sklearn/metrics/classification.py:1143: UndefinedMetricWarning: F-score is ill-defined and being set to 0.0 in labels with no predicted samples.\n",
      "  'precision', 'predicted', average, warn_for)\n"
     ]
    },
    {
     "name": "stdout",
     "output_type": "stream",
     "text": [
      "[CV]  abclf__estimator__learning_rate=0.1, abclf__estimator__n_estimators=50, tfidf__norm=l2, tfidf__smooth_idf=False, tfidf__sublinear_tf=False, vectorizer__max_features=3, vectorizer__min_df=1, vectorizer__ngram_range=(1, 1), score=0.031562929964428006, total=  12.5s\n",
      "[CV] abclf__estimator__learning_rate=0.1, abclf__estimator__n_estimators=50, tfidf__norm=l2, tfidf__smooth_idf=False, tfidf__sublinear_tf=False, vectorizer__max_features=3, vectorizer__min_df=1, vectorizer__ngram_range=(1, 1) \n"
     ]
    },
    {
     "name": "stderr",
     "output_type": "stream",
     "text": [
      "/home/brunom/.miniconda2/lib/python3.6/site-packages/sklearn/metrics/classification.py:1143: UndefinedMetricWarning: F-score is ill-defined and being set to 0.0 in labels with no predicted samples.\n",
      "  'precision', 'predicted', average, warn_for)\n"
     ]
    },
    {
     "name": "stdout",
     "output_type": "stream",
     "text": [
      "[CV]  abclf__estimator__learning_rate=0.1, abclf__estimator__n_estimators=50, tfidf__norm=l2, tfidf__smooth_idf=False, tfidf__sublinear_tf=False, vectorizer__max_features=3, vectorizer__min_df=1, vectorizer__ngram_range=(1, 1), score=0.03162652205606127, total=  12.7s\n",
      "[CV] abclf__estimator__learning_rate=0.1, abclf__estimator__n_estimators=50, tfidf__norm=l2, tfidf__smooth_idf=False, tfidf__sublinear_tf=False, vectorizer__max_features=3, vectorizer__min_df=1, vectorizer__ngram_range=(1, 1) \n"
     ]
    },
    {
     "name": "stderr",
     "output_type": "stream",
     "text": [
      "/home/brunom/.miniconda2/lib/python3.6/site-packages/sklearn/metrics/classification.py:1143: UndefinedMetricWarning: F-score is ill-defined and being set to 0.0 in labels with no predicted samples.\n",
      "  'precision', 'predicted', average, warn_for)\n"
     ]
    },
    {
     "name": "stdout",
     "output_type": "stream",
     "text": [
      "[CV]  abclf__estimator__learning_rate=0.1, abclf__estimator__n_estimators=50, tfidf__norm=l2, tfidf__smooth_idf=False, tfidf__sublinear_tf=False, vectorizer__max_features=3, vectorizer__min_df=1, vectorizer__ngram_range=(1, 1), score=0.03174436983091016, total=  12.5s\n",
      "[CV] abclf__estimator__learning_rate=0.1, abclf__estimator__n_estimators=50, tfidf__norm=l2, tfidf__smooth_idf=False, tfidf__sublinear_tf=False, vectorizer__max_features=3, vectorizer__min_df=1, vectorizer__ngram_range=(1, 2) \n"
     ]
    },
    {
     "name": "stderr",
     "output_type": "stream",
     "text": [
      "/home/brunom/.miniconda2/lib/python3.6/site-packages/sklearn/metrics/classification.py:1143: UndefinedMetricWarning: F-score is ill-defined and being set to 0.0 in labels with no predicted samples.\n",
      "  'precision', 'predicted', average, warn_for)\n"
     ]
    },
    {
     "name": "stdout",
     "output_type": "stream",
     "text": [
      "[CV]  abclf__estimator__learning_rate=0.1, abclf__estimator__n_estimators=50, tfidf__norm=l2, tfidf__smooth_idf=False, tfidf__sublinear_tf=False, vectorizer__max_features=3, vectorizer__min_df=1, vectorizer__ngram_range=(1, 2), score=0.031562929964428006, total=  13.1s\n",
      "[CV] abclf__estimator__learning_rate=0.1, abclf__estimator__n_estimators=50, tfidf__norm=l2, tfidf__smooth_idf=False, tfidf__sublinear_tf=False, vectorizer__max_features=3, vectorizer__min_df=1, vectorizer__ngram_range=(1, 2) \n"
     ]
    },
    {
     "name": "stderr",
     "output_type": "stream",
     "text": [
      "/home/brunom/.miniconda2/lib/python3.6/site-packages/sklearn/metrics/classification.py:1143: UndefinedMetricWarning: F-score is ill-defined and being set to 0.0 in labels with no predicted samples.\n",
      "  'precision', 'predicted', average, warn_for)\n"
     ]
    },
    {
     "name": "stdout",
     "output_type": "stream",
     "text": [
      "[CV]  abclf__estimator__learning_rate=0.1, abclf__estimator__n_estimators=50, tfidf__norm=l2, tfidf__smooth_idf=False, tfidf__sublinear_tf=False, vectorizer__max_features=3, vectorizer__min_df=1, vectorizer__ngram_range=(1, 2), score=0.03162652205606127, total=  12.7s\n",
      "[CV] abclf__estimator__learning_rate=0.1, abclf__estimator__n_estimators=50, tfidf__norm=l2, tfidf__smooth_idf=False, tfidf__sublinear_tf=False, vectorizer__max_features=3, vectorizer__min_df=1, vectorizer__ngram_range=(1, 2) \n"
     ]
    },
    {
     "name": "stderr",
     "output_type": "stream",
     "text": [
      "/home/brunom/.miniconda2/lib/python3.6/site-packages/sklearn/metrics/classification.py:1143: UndefinedMetricWarning: F-score is ill-defined and being set to 0.0 in labels with no predicted samples.\n",
      "  'precision', 'predicted', average, warn_for)\n"
     ]
    },
    {
     "name": "stdout",
     "output_type": "stream",
     "text": [
      "[CV]  abclf__estimator__learning_rate=0.1, abclf__estimator__n_estimators=50, tfidf__norm=l2, tfidf__smooth_idf=False, tfidf__sublinear_tf=False, vectorizer__max_features=3, vectorizer__min_df=1, vectorizer__ngram_range=(1, 2), score=0.03174436983091016, total=  13.2s\n",
      "[CV] abclf__estimator__learning_rate=0.1, abclf__estimator__n_estimators=50, tfidf__norm=l2, tfidf__smooth_idf=False, tfidf__sublinear_tf=False, vectorizer__max_features=3, vectorizer__min_df=2, vectorizer__ngram_range=(1, 1) \n"
     ]
    },
    {
     "name": "stderr",
     "output_type": "stream",
     "text": [
      "/home/brunom/.miniconda2/lib/python3.6/site-packages/sklearn/metrics/classification.py:1143: UndefinedMetricWarning: F-score is ill-defined and being set to 0.0 in labels with no predicted samples.\n",
      "  'precision', 'predicted', average, warn_for)\n"
     ]
    }
   ],
   "source": [
    "X = df.message.copy()\n",
    "y = df.iloc[:,4:].values \n",
    "\n",
    "X_train, X_test, y_train, y_test = train_test_split(X, y, test_size=0.2, random_state=32) \n",
    "\n",
    "parameters = {\n",
    "    'vectorizer__min_df': [1,2],\n",
    "    'vectorizer__ngram_range': [(1,1),(1,2)],\n",
    "    'abclf__estimator__learning_rate': [0.1,0.2,0.3,1.0],\n",
    "    'abclf__estimator__n_estimators': [50, 100]\n",
    "}\n",
    "\n",
    "parameters = {\n",
    "    'vectorizer__min_df': [1,2],\n",
    "    'vectorizer__max_features': [3,5,6],\n",
    "    'vectorizer__ngram_range': [(1,1),(1,2)],\n",
    "    'tfidf__norm': ['l2','l1'],\n",
    "    'tfidf__smooth_idf': [True, False],\n",
    "    'tfidf__sublinear_tf': [True, False],\n",
    "    'abclf__estimator__learning_rate': [0.1,0.2,0.3,0.5],\n",
    "    'abclf__estimator__n_estimators': [50,100]\n",
    "}\n",
    "\n",
    "f1_scorer = make_scorer(f1_score, average='macro')\n",
    "grid_clf = GridSearchCV(ml_pipeline, param_grid=parameters, verbose=10, scoring=f1_scorer)\n",
    "\n",
    "grid_clf.fit(X_train, y_train)"
   ]
  },
  {
   "cell_type": "code",
   "execution_count": 190,
   "metadata": {},
   "outputs": [
    {
     "name": "stdout",
     "output_type": "stream",
     "text": [
      "Pipeline(memory=None,\n",
      "     steps=[('clean_text', Clean_text()), ('vectorizer', CountVectorizer(analyzer='word', binary=False, decode_error='strict',\n",
      "        dtype=<class 'numpy.int64'>, encoding='utf-8', input='content',\n",
      "        lowercase=True, max_df=1.0, max_features=None, min_df=1,\n",
      "        ngram_range=(1, 2), preprocessor=...r=None,\n",
      "          learning_rate=1.0, n_estimators=100, random_state=None),\n",
      "           n_jobs=None))])\n"
     ]
    }
   ],
   "source": [
    "ml_pipeline_best = grid_clf.best_estimator_\n",
    "print(ml_pipeline_best)"
   ]
  },
  {
   "cell_type": "markdown",
   "metadata": {},
   "source": [
    "### 7. Test your model\n",
    "Show the accuracy, precision, and recall of the tuned model. Since this project focuses on code quality, process, and  pipelines, there is no minimum performance metric needed to pass. However, make sure to fine tune your models for accuracy, precision and recall to make your project stand out - especially for your portfolio!"
   ]
  },
  {
   "cell_type": "code",
   "execution_count": 191,
   "metadata": {},
   "outputs": [
    {
     "data": {
      "text/plain": [
       "{'aid_centers': 0.13461538461538464,\n",
       " 'aid_related': 0.7039843559032021,\n",
       " 'buildings': 0.5185185185185185,\n",
       " 'clothing': 0.4755244755244755,\n",
       " 'cold': 0.4121212121212121,\n",
       " 'death': 0.5619047619047619,\n",
       " 'direct_report': 0.572594752186589,\n",
       " 'earthquake': 0.829004329004329,\n",
       " 'electricity': 0.383419689119171,\n",
       " 'fire': 0.32,\n",
       " 'floods': 0.7023661270236611,\n",
       " 'food': 0.7359550561797753,\n",
       " 'hospitals': 0.1553398058252427,\n",
       " 'infrastructure_related': 0.1906693711967546,\n",
       " 'medical_help': 0.36000000000000004,\n",
       " 'medical_products': 0.45788336933045354,\n",
       " 'military': 0.40789473684210525,\n",
       " 'missing_people': 0.19148936170212766,\n",
       " 'money': 0.3582089552238806,\n",
       " 'offer': 0.0,\n",
       " 'other_aid': 0.29354207436399216,\n",
       " 'other_infrastructure': 0.20238095238095238,\n",
       " 'other_weather': 0.233160621761658,\n",
       " 'refugees': 0.3597122302158274,\n",
       " 'request': 0.6486146095717884,\n",
       " 'search_and_rescue': 0.21929824561403508,\n",
       " 'security': 0.14754098360655737,\n",
       " 'shelter': 0.625,\n",
       " 'shops': 0.05,\n",
       " 'storm': 0.6242905788876277,\n",
       " 'tools': 0.08333333333333334,\n",
       " 'transport': 0.28977272727272724,\n",
       " 'water': 0.6578171091445427,\n",
       " 'weather_related': 0.7772369898914264}"
      ]
     },
     "execution_count": 191,
     "metadata": {},
     "output_type": "execute_result"
    }
   ],
   "source": [
    "y_pred = ml_pipeline_best.predict(X_test)\n",
    "{column: f1_score(y_test[:,n], y_pred[:,n]) for n, column in enumerate(df.iloc[:,4:].columns.values)}"
   ]
  },
  {
   "cell_type": "markdown",
   "metadata": {},
   "source": [
    "### 8. Try improving your model further. Here are a few ideas:\n",
    "* try other machine learning algorithms\n",
    "* add other features besides the TF-IDF"
   ]
  },
  {
   "cell_type": "code",
   "execution_count": null,
   "metadata": {},
   "outputs": [],
   "source": []
  },
  {
   "cell_type": "markdown",
   "metadata": {},
   "source": [
    "### Option 1: Oversampling with SMOTE"
   ]
  },
  {
   "cell_type": "code",
   "execution_count": 87,
   "metadata": {},
   "outputs": [],
   "source": [
    "pipeline_smote = imb_pipe.make_pipeline(Clean_text(), CountVectorizer(), SMOTE(), TfidfTransformer(),\n",
    "                                        AdaBoostClassifier())"
   ]
  },
  {
   "cell_type": "code",
   "execution_count": 152,
   "metadata": {},
   "outputs": [
    {
     "data": {
      "text/plain": [
       "(5244, 34)"
      ]
     },
     "execution_count": 152,
     "metadata": {},
     "output_type": "execute_result"
    }
   ],
   "source": [
    "y_test.shape[0], y_test.shape[1]"
   ]
  },
  {
   "cell_type": "code",
   "execution_count": 155,
   "metadata": {},
   "outputs": [],
   "source": [
    "preds = np.empty((y_test.shape[0], y_test.shape[1]))\n",
    "for n, column in enumerate(df.iloc[:,4:].columns.values):\n",
    "    pipeline_smote.fit(X_train, y_train[:,n])\n",
    "    preds[:,n] = pipeline_smote.predict(X_test)\n",
    "     \n",
    "#scoring_df_original = predict_scores(y_test, preds)"
   ]
  },
  {
   "cell_type": "code",
   "execution_count": 158,
   "metadata": {},
   "outputs": [],
   "source": [
    "scoring_df_smote = predict_scores(y_test, preds)"
   ]
  },
  {
   "cell_type": "code",
   "execution_count": 176,
   "metadata": {},
   "outputs": [
    {
     "data": {
      "text/html": [
       "<div>\n",
       "<style scoped>\n",
       "    .dataframe tbody tr th:only-of-type {\n",
       "        vertical-align: middle;\n",
       "    }\n",
       "\n",
       "    .dataframe tbody tr th {\n",
       "        vertical-align: top;\n",
       "    }\n",
       "\n",
       "    .dataframe thead th {\n",
       "        text-align: right;\n",
       "    }\n",
       "</style>\n",
       "<table border=\"1\" class=\"dataframe\">\n",
       "  <thead>\n",
       "    <tr style=\"text-align: right;\">\n",
       "      <th></th>\n",
       "      <th>f1_score</th>\n",
       "      <th>smote</th>\n",
       "    </tr>\n",
       "  </thead>\n",
       "  <tbody>\n",
       "    <tr>\n",
       "      <th>aid_centers</th>\n",
       "      <td>0.127273</td>\n",
       "      <td>0.021622</td>\n",
       "    </tr>\n",
       "    <tr>\n",
       "      <th>aid_related</th>\n",
       "      <td>0.671009</td>\n",
       "      <td>0.670177</td>\n",
       "    </tr>\n",
       "    <tr>\n",
       "      <th>buildings</th>\n",
       "      <td>0.509872</td>\n",
       "      <td>0.136646</td>\n",
       "    </tr>\n",
       "    <tr>\n",
       "      <th>clothing</th>\n",
       "      <td>0.527778</td>\n",
       "      <td>0.297521</td>\n",
       "    </tr>\n",
       "    <tr>\n",
       "      <th>cold</th>\n",
       "      <td>0.428125</td>\n",
       "      <td>0.062005</td>\n",
       "    </tr>\n",
       "    <tr>\n",
       "      <th>death</th>\n",
       "      <td>0.551724</td>\n",
       "      <td>0.144179</td>\n",
       "    </tr>\n",
       "    <tr>\n",
       "      <th>direct_report</th>\n",
       "      <td>0.501717</td>\n",
       "      <td>0.452229</td>\n",
       "    </tr>\n",
       "    <tr>\n",
       "      <th>earthquake</th>\n",
       "      <td>0.827733</td>\n",
       "      <td>0.782241</td>\n",
       "    </tr>\n",
       "    <tr>\n",
       "      <th>electricity</th>\n",
       "      <td>0.335463</td>\n",
       "      <td>0.223214</td>\n",
       "    </tr>\n",
       "    <tr>\n",
       "      <th>fire</th>\n",
       "      <td>0.284768</td>\n",
       "      <td>0.036684</td>\n",
       "    </tr>\n",
       "    <tr>\n",
       "      <th>floods</th>\n",
       "      <td>0.667846</td>\n",
       "      <td>0.600496</td>\n",
       "    </tr>\n",
       "    <tr>\n",
       "      <th>food</th>\n",
       "      <td>0.728821</td>\n",
       "      <td>0.710592</td>\n",
       "    </tr>\n",
       "    <tr>\n",
       "      <th>hospitals</th>\n",
       "      <td>0.162162</td>\n",
       "      <td>0.018409</td>\n",
       "    </tr>\n",
       "    <tr>\n",
       "      <th>infrastructure_related</th>\n",
       "      <td>0.147217</td>\n",
       "      <td>0.108133</td>\n",
       "    </tr>\n",
       "    <tr>\n",
       "      <th>medical_help</th>\n",
       "      <td>0.396096</td>\n",
       "      <td>0.174202</td>\n",
       "    </tr>\n",
       "    <tr>\n",
       "      <th>medical_products</th>\n",
       "      <td>0.419162</td>\n",
       "      <td>0.294235</td>\n",
       "    </tr>\n",
       "    <tr>\n",
       "      <th>military</th>\n",
       "      <td>0.445920</td>\n",
       "      <td>0.123723</td>\n",
       "    </tr>\n",
       "    <tr>\n",
       "      <th>missing_people</th>\n",
       "      <td>0.210526</td>\n",
       "      <td>0.030116</td>\n",
       "    </tr>\n",
       "    <tr>\n",
       "      <th>money</th>\n",
       "      <td>0.389575</td>\n",
       "      <td>0.254181</td>\n",
       "    </tr>\n",
       "    <tr>\n",
       "      <th>offer</th>\n",
       "      <td>0.017699</td>\n",
       "      <td>0.022948</td>\n",
       "    </tr>\n",
       "    <tr>\n",
       "      <th>other_aid</th>\n",
       "      <td>0.237479</td>\n",
       "      <td>0.211855</td>\n",
       "    </tr>\n",
       "    <tr>\n",
       "      <th>other_infrastructure</th>\n",
       "      <td>0.132873</td>\n",
       "      <td>0.096374</td>\n",
       "    </tr>\n",
       "    <tr>\n",
       "      <th>other_weather</th>\n",
       "      <td>0.198880</td>\n",
       "      <td>0.101550</td>\n",
       "    </tr>\n",
       "    <tr>\n",
       "      <th>refugees</th>\n",
       "      <td>0.325025</td>\n",
       "      <td>0.077132</td>\n",
       "    </tr>\n",
       "    <tr>\n",
       "      <th>request</th>\n",
       "      <td>0.602049</td>\n",
       "      <td>0.550265</td>\n",
       "    </tr>\n",
       "    <tr>\n",
       "      <th>search_and_rescue</th>\n",
       "      <td>0.280702</td>\n",
       "      <td>0.076923</td>\n",
       "    </tr>\n",
       "    <tr>\n",
       "      <th>security</th>\n",
       "      <td>0.099379</td>\n",
       "      <td>0.027757</td>\n",
       "    </tr>\n",
       "    <tr>\n",
       "      <th>shelter</th>\n",
       "      <td>0.627351</td>\n",
       "      <td>0.575192</td>\n",
       "    </tr>\n",
       "    <tr>\n",
       "      <th>shops</th>\n",
       "      <td>0.017699</td>\n",
       "      <td>0.003298</td>\n",
       "    </tr>\n",
       "    <tr>\n",
       "      <th>storm</th>\n",
       "      <td>0.599814</td>\n",
       "      <td>0.614393</td>\n",
       "    </tr>\n",
       "    <tr>\n",
       "      <th>tools</th>\n",
       "      <td>0.026144</td>\n",
       "      <td>0.009492</td>\n",
       "    </tr>\n",
       "    <tr>\n",
       "      <th>transport</th>\n",
       "      <td>0.312647</td>\n",
       "      <td>0.128610</td>\n",
       "    </tr>\n",
       "    <tr>\n",
       "      <th>water</th>\n",
       "      <td>0.683908</td>\n",
       "      <td>0.571019</td>\n",
       "    </tr>\n",
       "    <tr>\n",
       "      <th>weather_related</th>\n",
       "      <td>0.746174</td>\n",
       "      <td>0.708099</td>\n",
       "    </tr>\n",
       "  </tbody>\n",
       "</table>\n",
       "</div>"
      ],
      "text/plain": [
       "                        f1_score     smote\n",
       "aid_centers             0.127273  0.021622\n",
       "aid_related             0.671009  0.670177\n",
       "buildings               0.509872  0.136646\n",
       "clothing                0.527778  0.297521\n",
       "cold                    0.428125  0.062005\n",
       "death                   0.551724  0.144179\n",
       "direct_report           0.501717  0.452229\n",
       "earthquake              0.827733  0.782241\n",
       "electricity             0.335463  0.223214\n",
       "fire                    0.284768  0.036684\n",
       "floods                  0.667846  0.600496\n",
       "food                    0.728821  0.710592\n",
       "hospitals               0.162162  0.018409\n",
       "infrastructure_related  0.147217  0.108133\n",
       "medical_help            0.396096  0.174202\n",
       "medical_products        0.419162  0.294235\n",
       "military                0.445920  0.123723\n",
       "missing_people          0.210526  0.030116\n",
       "money                   0.389575  0.254181\n",
       "offer                   0.017699  0.022948\n",
       "other_aid               0.237479  0.211855\n",
       "other_infrastructure    0.132873  0.096374\n",
       "other_weather           0.198880  0.101550\n",
       "refugees                0.325025  0.077132\n",
       "request                 0.602049  0.550265\n",
       "search_and_rescue       0.280702  0.076923\n",
       "security                0.099379  0.027757\n",
       "shelter                 0.627351  0.575192\n",
       "shops                   0.017699  0.003298\n",
       "storm                   0.599814  0.614393\n",
       "tools                   0.026144  0.009492\n",
       "transport               0.312647  0.128610\n",
       "water                   0.683908  0.571019\n",
       "weather_related         0.746174  0.708099"
      ]
     },
     "execution_count": 176,
     "metadata": {},
     "output_type": "execute_result"
    }
   ],
   "source": [
    "comp_df = pd.DataFrame(scoring_df_original.f1_score)\n",
    "comp_df['smote'] = scoring_df_smote['f1_score'].copy()\n",
    "comp_df\n",
    "#comparison_df = pd.DataFrame(data=scoring_df_original['f1_score'], columns=['original'])"
   ]
  },
  {
   "cell_type": "markdown",
   "metadata": {},
   "source": [
    "#### No improvement"
   ]
  },
  {
   "cell_type": "markdown",
   "metadata": {},
   "source": [
    "#### Option 2: Using stemmer and more advanced options for count_vectorizer"
   ]
  },
  {
   "cell_type": "code",
   "execution_count": 177,
   "metadata": {},
   "outputs": [],
   "source": [
    "class Clean_text_with_stemmer(BaseEstimator, TransformerMixin):\n",
    "    def __init__(self):\n",
    "        return None\n",
    "        \n",
    "    def fit(self, X=None, y=None):\n",
    "        return self\n",
    "    \n",
    "    def transform(self, X, y=None):\n",
    "        \n",
    "        return pd.Series(X).apply(lambda x: \" \".join(self.tokenize(x))).values\n",
    "    \n",
    "    def tokenize(self, sentence):\n",
    "        stemmer = PorterStemmer()\n",
    "        lemmatizer = WordNetLemmatizer()\n",
    "        sentence = re.sub(\"[^a-zA-Z]\", \" \", sentence)\n",
    "        return [stemmer.stem(lemmatizer.lemmatize(word).lower().strip()) for word in nltk.word_tokenize(sentence)\\\n",
    "            if not word in stop_words] "
   ]
  },
  {
   "cell_type": "code",
   "execution_count": 181,
   "metadata": {},
   "outputs": [],
   "source": [
    "# baseline - logistic\n",
    "ml_pipeline_logistic = Pipeline([\n",
    "    ('clean_text', Clean_text_with_stemmer()),\n",
    "    ('vectorizer', CountVectorizer(min_df= 5,stop_words=\"english\", ngram_range=(1, 2))),\n",
    "    ('tfidf', TfidfTransformer(sublinear_tf=True, norm='l2')),\n",
    "    ('mbclf', MultiOutputClassifier(LogisticRegression(random_state=34, solver='lbfgs')))])"
   ]
  },
  {
   "cell_type": "code",
   "execution_count": 182,
   "metadata": {},
   "outputs": [
    {
     "name": "stderr",
     "output_type": "stream",
     "text": [
      "/home/brunom/.miniconda2/lib/python3.6/site-packages/sklearn/metrics/classification.py:1143: UndefinedMetricWarning: F-score is ill-defined and being set to 0.0 due to no predicted samples.\n",
      "  'precision', 'predicted', average, warn_for)\n",
      "/home/brunom/.miniconda2/lib/python3.6/site-packages/sklearn/metrics/classification.py:1143: UndefinedMetricWarning: Precision is ill-defined and being set to 0.0 due to no predicted samples.\n",
      "  'precision', 'predicted', average, warn_for)\n"
     ]
    }
   ],
   "source": [
    "labels, preds = cross_val(X_train, y_train, ml_pipeline_logistic)\n",
    "scoring_df_logistic = predict_scores(labels, preds)"
   ]
  },
  {
   "cell_type": "code",
   "execution_count": 185,
   "metadata": {},
   "outputs": [],
   "source": [
    "comp_df['logistic'] = scoring_df_logistic['f1_score']"
   ]
  },
  {
   "cell_type": "code",
   "execution_count": 186,
   "metadata": {},
   "outputs": [
    {
     "data": {
      "text/html": [
       "<div>\n",
       "<style scoped>\n",
       "    .dataframe tbody tr th:only-of-type {\n",
       "        vertical-align: middle;\n",
       "    }\n",
       "\n",
       "    .dataframe tbody tr th {\n",
       "        vertical-align: top;\n",
       "    }\n",
       "\n",
       "    .dataframe thead th {\n",
       "        text-align: right;\n",
       "    }\n",
       "</style>\n",
       "<table border=\"1\" class=\"dataframe\">\n",
       "  <thead>\n",
       "    <tr style=\"text-align: right;\">\n",
       "      <th></th>\n",
       "      <th>f1_score</th>\n",
       "      <th>smote</th>\n",
       "      <th>logistic</th>\n",
       "    </tr>\n",
       "  </thead>\n",
       "  <tbody>\n",
       "    <tr>\n",
       "      <th>aid_centers</th>\n",
       "      <td>0.127273</td>\n",
       "      <td>0.021622</td>\n",
       "      <td>0.000000</td>\n",
       "    </tr>\n",
       "    <tr>\n",
       "      <th>aid_related</th>\n",
       "      <td>0.671009</td>\n",
       "      <td>0.670177</td>\n",
       "      <td>0.715707</td>\n",
       "    </tr>\n",
       "    <tr>\n",
       "      <th>buildings</th>\n",
       "      <td>0.509872</td>\n",
       "      <td>0.136646</td>\n",
       "      <td>0.334311</td>\n",
       "    </tr>\n",
       "    <tr>\n",
       "      <th>clothing</th>\n",
       "      <td>0.527778</td>\n",
       "      <td>0.297521</td>\n",
       "      <td>0.343529</td>\n",
       "    </tr>\n",
       "    <tr>\n",
       "      <th>cold</th>\n",
       "      <td>0.428125</td>\n",
       "      <td>0.062005</td>\n",
       "      <td>0.174797</td>\n",
       "    </tr>\n",
       "    <tr>\n",
       "      <th>death</th>\n",
       "      <td>0.551724</td>\n",
       "      <td>0.144179</td>\n",
       "      <td>0.424386</td>\n",
       "    </tr>\n",
       "    <tr>\n",
       "      <th>direct_report</th>\n",
       "      <td>0.501717</td>\n",
       "      <td>0.452229</td>\n",
       "      <td>0.545854</td>\n",
       "    </tr>\n",
       "    <tr>\n",
       "      <th>earthquake</th>\n",
       "      <td>0.827733</td>\n",
       "      <td>0.782241</td>\n",
       "      <td>0.757372</td>\n",
       "    </tr>\n",
       "    <tr>\n",
       "      <th>electricity</th>\n",
       "      <td>0.335463</td>\n",
       "      <td>0.223214</td>\n",
       "      <td>0.165992</td>\n",
       "    </tr>\n",
       "    <tr>\n",
       "      <th>fire</th>\n",
       "      <td>0.284768</td>\n",
       "      <td>0.036684</td>\n",
       "      <td>0.000000</td>\n",
       "    </tr>\n",
       "    <tr>\n",
       "      <th>floods</th>\n",
       "      <td>0.667846</td>\n",
       "      <td>0.600496</td>\n",
       "      <td>0.603125</td>\n",
       "    </tr>\n",
       "    <tr>\n",
       "      <th>food</th>\n",
       "      <td>0.728821</td>\n",
       "      <td>0.710592</td>\n",
       "      <td>0.697697</td>\n",
       "    </tr>\n",
       "    <tr>\n",
       "      <th>hospitals</th>\n",
       "      <td>0.162162</td>\n",
       "      <td>0.018409</td>\n",
       "      <td>0.008969</td>\n",
       "    </tr>\n",
       "    <tr>\n",
       "      <th>infrastructure_related</th>\n",
       "      <td>0.147217</td>\n",
       "      <td>0.108133</td>\n",
       "      <td>0.038489</td>\n",
       "    </tr>\n",
       "    <tr>\n",
       "      <th>medical_help</th>\n",
       "      <td>0.396096</td>\n",
       "      <td>0.174202</td>\n",
       "      <td>0.269620</td>\n",
       "    </tr>\n",
       "    <tr>\n",
       "      <th>medical_products</th>\n",
       "      <td>0.419162</td>\n",
       "      <td>0.294235</td>\n",
       "      <td>0.271405</td>\n",
       "    </tr>\n",
       "    <tr>\n",
       "      <th>military</th>\n",
       "      <td>0.445920</td>\n",
       "      <td>0.123723</td>\n",
       "      <td>0.182519</td>\n",
       "    </tr>\n",
       "    <tr>\n",
       "      <th>missing_people</th>\n",
       "      <td>0.210526</td>\n",
       "      <td>0.030116</td>\n",
       "      <td>0.008439</td>\n",
       "    </tr>\n",
       "    <tr>\n",
       "      <th>money</th>\n",
       "      <td>0.389575</td>\n",
       "      <td>0.254181</td>\n",
       "      <td>0.147059</td>\n",
       "    </tr>\n",
       "    <tr>\n",
       "      <th>offer</th>\n",
       "      <td>0.017699</td>\n",
       "      <td>0.022948</td>\n",
       "      <td>0.000000</td>\n",
       "    </tr>\n",
       "    <tr>\n",
       "      <th>other_aid</th>\n",
       "      <td>0.237479</td>\n",
       "      <td>0.211855</td>\n",
       "      <td>0.190212</td>\n",
       "    </tr>\n",
       "    <tr>\n",
       "      <th>other_infrastructure</th>\n",
       "      <td>0.132873</td>\n",
       "      <td>0.096374</td>\n",
       "      <td>0.015135</td>\n",
       "    </tr>\n",
       "    <tr>\n",
       "      <th>other_weather</th>\n",
       "      <td>0.198880</td>\n",
       "      <td>0.101550</td>\n",
       "      <td>0.076466</td>\n",
       "    </tr>\n",
       "    <tr>\n",
       "      <th>refugees</th>\n",
       "      <td>0.325025</td>\n",
       "      <td>0.077132</td>\n",
       "      <td>0.137662</td>\n",
       "    </tr>\n",
       "    <tr>\n",
       "      <th>request</th>\n",
       "      <td>0.602049</td>\n",
       "      <td>0.550265</td>\n",
       "      <td>0.638604</td>\n",
       "    </tr>\n",
       "    <tr>\n",
       "      <th>search_and_rescue</th>\n",
       "      <td>0.280702</td>\n",
       "      <td>0.076923</td>\n",
       "      <td>0.116473</td>\n",
       "    </tr>\n",
       "    <tr>\n",
       "      <th>security</th>\n",
       "      <td>0.099379</td>\n",
       "      <td>0.027757</td>\n",
       "      <td>0.000000</td>\n",
       "    </tr>\n",
       "    <tr>\n",
       "      <th>shelter</th>\n",
       "      <td>0.627351</td>\n",
       "      <td>0.575192</td>\n",
       "      <td>0.567121</td>\n",
       "    </tr>\n",
       "    <tr>\n",
       "      <th>shops</th>\n",
       "      <td>0.017699</td>\n",
       "      <td>0.003298</td>\n",
       "      <td>0.000000</td>\n",
       "    </tr>\n",
       "    <tr>\n",
       "      <th>storm</th>\n",
       "      <td>0.599814</td>\n",
       "      <td>0.614393</td>\n",
       "      <td>0.568813</td>\n",
       "    </tr>\n",
       "    <tr>\n",
       "      <th>tools</th>\n",
       "      <td>0.026144</td>\n",
       "      <td>0.009492</td>\n",
       "      <td>0.000000</td>\n",
       "    </tr>\n",
       "    <tr>\n",
       "      <th>transport</th>\n",
       "      <td>0.312647</td>\n",
       "      <td>0.128610</td>\n",
       "      <td>0.193906</td>\n",
       "    </tr>\n",
       "    <tr>\n",
       "      <th>water</th>\n",
       "      <td>0.683908</td>\n",
       "      <td>0.571019</td>\n",
       "      <td>0.615743</td>\n",
       "    </tr>\n",
       "    <tr>\n",
       "      <th>weather_related</th>\n",
       "      <td>0.746174</td>\n",
       "      <td>0.708099</td>\n",
       "      <td>0.744398</td>\n",
       "    </tr>\n",
       "  </tbody>\n",
       "</table>\n",
       "</div>"
      ],
      "text/plain": [
       "                        f1_score     smote  logistic\n",
       "aid_centers             0.127273  0.021622  0.000000\n",
       "aid_related             0.671009  0.670177  0.715707\n",
       "buildings               0.509872  0.136646  0.334311\n",
       "clothing                0.527778  0.297521  0.343529\n",
       "cold                    0.428125  0.062005  0.174797\n",
       "death                   0.551724  0.144179  0.424386\n",
       "direct_report           0.501717  0.452229  0.545854\n",
       "earthquake              0.827733  0.782241  0.757372\n",
       "electricity             0.335463  0.223214  0.165992\n",
       "fire                    0.284768  0.036684  0.000000\n",
       "floods                  0.667846  0.600496  0.603125\n",
       "food                    0.728821  0.710592  0.697697\n",
       "hospitals               0.162162  0.018409  0.008969\n",
       "infrastructure_related  0.147217  0.108133  0.038489\n",
       "medical_help            0.396096  0.174202  0.269620\n",
       "medical_products        0.419162  0.294235  0.271405\n",
       "military                0.445920  0.123723  0.182519\n",
       "missing_people          0.210526  0.030116  0.008439\n",
       "money                   0.389575  0.254181  0.147059\n",
       "offer                   0.017699  0.022948  0.000000\n",
       "other_aid               0.237479  0.211855  0.190212\n",
       "other_infrastructure    0.132873  0.096374  0.015135\n",
       "other_weather           0.198880  0.101550  0.076466\n",
       "refugees                0.325025  0.077132  0.137662\n",
       "request                 0.602049  0.550265  0.638604\n",
       "search_and_rescue       0.280702  0.076923  0.116473\n",
       "security                0.099379  0.027757  0.000000\n",
       "shelter                 0.627351  0.575192  0.567121\n",
       "shops                   0.017699  0.003298  0.000000\n",
       "storm                   0.599814  0.614393  0.568813\n",
       "tools                   0.026144  0.009492  0.000000\n",
       "transport               0.312647  0.128610  0.193906\n",
       "water                   0.683908  0.571019  0.615743\n",
       "weather_related         0.746174  0.708099  0.744398"
      ]
     },
     "execution_count": 186,
     "metadata": {},
     "output_type": "execute_result"
    }
   ],
   "source": [
    "comp_df"
   ]
  },
  {
   "cell_type": "code",
   "execution_count": 198,
   "metadata": {},
   "outputs": [],
   "source": [
    "ml_pipeline_svc = Pipeline([\n",
    "    ('clean_text', Clean_text_with_stemmer()),\n",
    "    ('vectorizer', CountVectorizer(min_df= 2,stop_words=\"english\", ngram_range=(1, 2))),\n",
    "    ('tfidf', TfidfTransformer(sublinear_tf=True, norm='l2')),\n",
    "    ('mbclf', MultiOutputClassifier(SVC(C=1.0, gamma=0.1)))])"
   ]
  },
  {
   "cell_type": "code",
   "execution_count": 199,
   "metadata": {},
   "outputs": [
    {
     "name": "stderr",
     "output_type": "stream",
     "text": [
      "/home/brunom/.miniconda2/lib/python3.6/site-packages/sklearn/metrics/classification.py:1143: UndefinedMetricWarning: F-score is ill-defined and being set to 0.0 due to no predicted samples.\n",
      "  'precision', 'predicted', average, warn_for)\n",
      "/home/brunom/.miniconda2/lib/python3.6/site-packages/sklearn/metrics/classification.py:1143: UndefinedMetricWarning: Precision is ill-defined and being set to 0.0 due to no predicted samples.\n",
      "  'precision', 'predicted', average, warn_for)\n"
     ]
    },
    {
     "data": {
      "text/html": [
       "<div>\n",
       "<style scoped>\n",
       "    .dataframe tbody tr th:only-of-type {\n",
       "        vertical-align: middle;\n",
       "    }\n",
       "\n",
       "    .dataframe tbody tr th {\n",
       "        vertical-align: top;\n",
       "    }\n",
       "\n",
       "    .dataframe thead th {\n",
       "        text-align: right;\n",
       "    }\n",
       "</style>\n",
       "<table border=\"1\" class=\"dataframe\">\n",
       "  <thead>\n",
       "    <tr style=\"text-align: right;\">\n",
       "      <th></th>\n",
       "      <th>f1_score</th>\n",
       "      <th>smote</th>\n",
       "      <th>logistic</th>\n",
       "      <th>best</th>\n",
       "      <th>svc</th>\n",
       "    </tr>\n",
       "  </thead>\n",
       "  <tbody>\n",
       "    <tr>\n",
       "      <th>aid_centers</th>\n",
       "      <td>0.127273</td>\n",
       "      <td>0.021622</td>\n",
       "      <td>0.000000</td>\n",
       "      <td>0.136364</td>\n",
       "      <td>0.000000</td>\n",
       "    </tr>\n",
       "    <tr>\n",
       "      <th>aid_related</th>\n",
       "      <td>0.671009</td>\n",
       "      <td>0.670177</td>\n",
       "      <td>0.715707</td>\n",
       "      <td>0.697229</td>\n",
       "      <td>0.690853</td>\n",
       "    </tr>\n",
       "    <tr>\n",
       "      <th>buildings</th>\n",
       "      <td>0.509872</td>\n",
       "      <td>0.136646</td>\n",
       "      <td>0.334311</td>\n",
       "      <td>0.502146</td>\n",
       "      <td>0.102740</td>\n",
       "    </tr>\n",
       "    <tr>\n",
       "      <th>clothing</th>\n",
       "      <td>0.527778</td>\n",
       "      <td>0.297521</td>\n",
       "      <td>0.343529</td>\n",
       "      <td>0.426471</td>\n",
       "      <td>0.323810</td>\n",
       "    </tr>\n",
       "    <tr>\n",
       "      <th>cold</th>\n",
       "      <td>0.428125</td>\n",
       "      <td>0.062005</td>\n",
       "      <td>0.174797</td>\n",
       "      <td>0.413793</td>\n",
       "      <td>0.000000</td>\n",
       "    </tr>\n",
       "    <tr>\n",
       "      <th>death</th>\n",
       "      <td>0.551724</td>\n",
       "      <td>0.144179</td>\n",
       "      <td>0.424386</td>\n",
       "      <td>0.555831</td>\n",
       "      <td>0.165468</td>\n",
       "    </tr>\n",
       "    <tr>\n",
       "      <th>direct_report</th>\n",
       "      <td>0.501717</td>\n",
       "      <td>0.452229</td>\n",
       "      <td>0.545854</td>\n",
       "      <td>0.556638</td>\n",
       "      <td>0.466667</td>\n",
       "    </tr>\n",
       "    <tr>\n",
       "      <th>earthquake</th>\n",
       "      <td>0.827733</td>\n",
       "      <td>0.782241</td>\n",
       "      <td>0.757372</td>\n",
       "      <td>0.835754</td>\n",
       "      <td>0.791962</td>\n",
       "    </tr>\n",
       "    <tr>\n",
       "      <th>electricity</th>\n",
       "      <td>0.335463</td>\n",
       "      <td>0.223214</td>\n",
       "      <td>0.165992</td>\n",
       "      <td>0.322981</td>\n",
       "      <td>0.000000</td>\n",
       "    </tr>\n",
       "    <tr>\n",
       "      <th>fire</th>\n",
       "      <td>0.284768</td>\n",
       "      <td>0.036684</td>\n",
       "      <td>0.000000</td>\n",
       "      <td>0.231884</td>\n",
       "      <td>0.000000</td>\n",
       "    </tr>\n",
       "    <tr>\n",
       "      <th>floods</th>\n",
       "      <td>0.667846</td>\n",
       "      <td>0.600496</td>\n",
       "      <td>0.603125</td>\n",
       "      <td>0.718346</td>\n",
       "      <td>0.673295</td>\n",
       "    </tr>\n",
       "    <tr>\n",
       "      <th>food</th>\n",
       "      <td>0.728821</td>\n",
       "      <td>0.710592</td>\n",
       "      <td>0.697697</td>\n",
       "      <td>0.734539</td>\n",
       "      <td>0.731286</td>\n",
       "    </tr>\n",
       "    <tr>\n",
       "      <th>hospitals</th>\n",
       "      <td>0.162162</td>\n",
       "      <td>0.018409</td>\n",
       "      <td>0.008969</td>\n",
       "      <td>0.238095</td>\n",
       "      <td>0.000000</td>\n",
       "    </tr>\n",
       "    <tr>\n",
       "      <th>infrastructure_related</th>\n",
       "      <td>0.147217</td>\n",
       "      <td>0.108133</td>\n",
       "      <td>0.038489</td>\n",
       "      <td>0.206316</td>\n",
       "      <td>0.000000</td>\n",
       "    </tr>\n",
       "    <tr>\n",
       "      <th>medical_help</th>\n",
       "      <td>0.396096</td>\n",
       "      <td>0.174202</td>\n",
       "      <td>0.269620</td>\n",
       "      <td>0.357724</td>\n",
       "      <td>0.013953</td>\n",
       "    </tr>\n",
       "    <tr>\n",
       "      <th>medical_products</th>\n",
       "      <td>0.419162</td>\n",
       "      <td>0.294235</td>\n",
       "      <td>0.271405</td>\n",
       "      <td>0.434004</td>\n",
       "      <td>0.053156</td>\n",
       "    </tr>\n",
       "    <tr>\n",
       "      <th>military</th>\n",
       "      <td>0.445920</td>\n",
       "      <td>0.123723</td>\n",
       "      <td>0.182519</td>\n",
       "      <td>0.392857</td>\n",
       "      <td>0.000000</td>\n",
       "    </tr>\n",
       "    <tr>\n",
       "      <th>missing_people</th>\n",
       "      <td>0.210526</td>\n",
       "      <td>0.030116</td>\n",
       "      <td>0.008439</td>\n",
       "      <td>0.200000</td>\n",
       "      <td>0.000000</td>\n",
       "    </tr>\n",
       "    <tr>\n",
       "      <th>money</th>\n",
       "      <td>0.389575</td>\n",
       "      <td>0.254181</td>\n",
       "      <td>0.147059</td>\n",
       "      <td>0.388060</td>\n",
       "      <td>0.000000</td>\n",
       "    </tr>\n",
       "    <tr>\n",
       "      <th>offer</th>\n",
       "      <td>0.017699</td>\n",
       "      <td>0.022948</td>\n",
       "      <td>0.000000</td>\n",
       "      <td>0.000000</td>\n",
       "      <td>0.000000</td>\n",
       "    </tr>\n",
       "    <tr>\n",
       "      <th>other_aid</th>\n",
       "      <td>0.237479</td>\n",
       "      <td>0.211855</td>\n",
       "      <td>0.190212</td>\n",
       "      <td>0.231733</td>\n",
       "      <td>0.000000</td>\n",
       "    </tr>\n",
       "    <tr>\n",
       "      <th>other_infrastructure</th>\n",
       "      <td>0.132873</td>\n",
       "      <td>0.096374</td>\n",
       "      <td>0.015135</td>\n",
       "      <td>0.230769</td>\n",
       "      <td>0.000000</td>\n",
       "    </tr>\n",
       "    <tr>\n",
       "      <th>other_weather</th>\n",
       "      <td>0.198880</td>\n",
       "      <td>0.101550</td>\n",
       "      <td>0.076466</td>\n",
       "      <td>0.193370</td>\n",
       "      <td>0.000000</td>\n",
       "    </tr>\n",
       "    <tr>\n",
       "      <th>refugees</th>\n",
       "      <td>0.325025</td>\n",
       "      <td>0.077132</td>\n",
       "      <td>0.137662</td>\n",
       "      <td>0.359551</td>\n",
       "      <td>0.000000</td>\n",
       "    </tr>\n",
       "    <tr>\n",
       "      <th>request</th>\n",
       "      <td>0.602049</td>\n",
       "      <td>0.550265</td>\n",
       "      <td>0.638604</td>\n",
       "      <td>0.653194</td>\n",
       "      <td>0.594311</td>\n",
       "    </tr>\n",
       "    <tr>\n",
       "      <th>search_and_rescue</th>\n",
       "      <td>0.280702</td>\n",
       "      <td>0.076923</td>\n",
       "      <td>0.116473</td>\n",
       "      <td>0.298246</td>\n",
       "      <td>0.012121</td>\n",
       "    </tr>\n",
       "    <tr>\n",
       "      <th>security</th>\n",
       "      <td>0.099379</td>\n",
       "      <td>0.027757</td>\n",
       "      <td>0.000000</td>\n",
       "      <td>0.081633</td>\n",
       "      <td>0.000000</td>\n",
       "    </tr>\n",
       "    <tr>\n",
       "      <th>shelter</th>\n",
       "      <td>0.627351</td>\n",
       "      <td>0.575192</td>\n",
       "      <td>0.567121</td>\n",
       "      <td>0.632212</td>\n",
       "      <td>0.521008</td>\n",
       "    </tr>\n",
       "    <tr>\n",
       "      <th>shops</th>\n",
       "      <td>0.017699</td>\n",
       "      <td>0.003298</td>\n",
       "      <td>0.000000</td>\n",
       "      <td>0.060606</td>\n",
       "      <td>0.000000</td>\n",
       "    </tr>\n",
       "    <tr>\n",
       "      <th>storm</th>\n",
       "      <td>0.599814</td>\n",
       "      <td>0.614393</td>\n",
       "      <td>0.568813</td>\n",
       "      <td>0.617402</td>\n",
       "      <td>0.576874</td>\n",
       "    </tr>\n",
       "    <tr>\n",
       "      <th>tools</th>\n",
       "      <td>0.026144</td>\n",
       "      <td>0.009492</td>\n",
       "      <td>0.000000</td>\n",
       "      <td>0.000000</td>\n",
       "      <td>0.000000</td>\n",
       "    </tr>\n",
       "    <tr>\n",
       "      <th>transport</th>\n",
       "      <td>0.312647</td>\n",
       "      <td>0.128610</td>\n",
       "      <td>0.193906</td>\n",
       "      <td>0.346041</td>\n",
       "      <td>0.000000</td>\n",
       "    </tr>\n",
       "    <tr>\n",
       "      <th>water</th>\n",
       "      <td>0.683908</td>\n",
       "      <td>0.571019</td>\n",
       "      <td>0.615743</td>\n",
       "      <td>0.653784</td>\n",
       "      <td>0.547573</td>\n",
       "    </tr>\n",
       "    <tr>\n",
       "      <th>weather_related</th>\n",
       "      <td>0.746174</td>\n",
       "      <td>0.708099</td>\n",
       "      <td>0.744398</td>\n",
       "      <td>0.767486</td>\n",
       "      <td>0.719348</td>\n",
       "    </tr>\n",
       "  </tbody>\n",
       "</table>\n",
       "</div>"
      ],
      "text/plain": [
       "                        f1_score     smote  logistic      best       svc\n",
       "aid_centers             0.127273  0.021622  0.000000  0.136364  0.000000\n",
       "aid_related             0.671009  0.670177  0.715707  0.697229  0.690853\n",
       "buildings               0.509872  0.136646  0.334311  0.502146  0.102740\n",
       "clothing                0.527778  0.297521  0.343529  0.426471  0.323810\n",
       "cold                    0.428125  0.062005  0.174797  0.413793  0.000000\n",
       "death                   0.551724  0.144179  0.424386  0.555831  0.165468\n",
       "direct_report           0.501717  0.452229  0.545854  0.556638  0.466667\n",
       "earthquake              0.827733  0.782241  0.757372  0.835754  0.791962\n",
       "electricity             0.335463  0.223214  0.165992  0.322981  0.000000\n",
       "fire                    0.284768  0.036684  0.000000  0.231884  0.000000\n",
       "floods                  0.667846  0.600496  0.603125  0.718346  0.673295\n",
       "food                    0.728821  0.710592  0.697697  0.734539  0.731286\n",
       "hospitals               0.162162  0.018409  0.008969  0.238095  0.000000\n",
       "infrastructure_related  0.147217  0.108133  0.038489  0.206316  0.000000\n",
       "medical_help            0.396096  0.174202  0.269620  0.357724  0.013953\n",
       "medical_products        0.419162  0.294235  0.271405  0.434004  0.053156\n",
       "military                0.445920  0.123723  0.182519  0.392857  0.000000\n",
       "missing_people          0.210526  0.030116  0.008439  0.200000  0.000000\n",
       "money                   0.389575  0.254181  0.147059  0.388060  0.000000\n",
       "offer                   0.017699  0.022948  0.000000  0.000000  0.000000\n",
       "other_aid               0.237479  0.211855  0.190212  0.231733  0.000000\n",
       "other_infrastructure    0.132873  0.096374  0.015135  0.230769  0.000000\n",
       "other_weather           0.198880  0.101550  0.076466  0.193370  0.000000\n",
       "refugees                0.325025  0.077132  0.137662  0.359551  0.000000\n",
       "request                 0.602049  0.550265  0.638604  0.653194  0.594311\n",
       "search_and_rescue       0.280702  0.076923  0.116473  0.298246  0.012121\n",
       "security                0.099379  0.027757  0.000000  0.081633  0.000000\n",
       "shelter                 0.627351  0.575192  0.567121  0.632212  0.521008\n",
       "shops                   0.017699  0.003298  0.000000  0.060606  0.000000\n",
       "storm                   0.599814  0.614393  0.568813  0.617402  0.576874\n",
       "tools                   0.026144  0.009492  0.000000  0.000000  0.000000\n",
       "transport               0.312647  0.128610  0.193906  0.346041  0.000000\n",
       "water                   0.683908  0.571019  0.615743  0.653784  0.547573\n",
       "weather_related         0.746174  0.708099  0.744398  0.767486  0.719348"
      ]
     },
     "execution_count": 199,
     "metadata": {},
     "output_type": "execute_result"
    }
   ],
   "source": [
    "ml_pipeline_svc.fit(X_train, y_train)\n",
    "scoring_df_svc = predict_scores(y_test, ml_pipeline_svc.predict(X_test))\n",
    "comp_df['svc'] = scoring_df_svc['f1_score']\n",
    "comp_df"
   ]
  },
  {
   "cell_type": "code",
   "execution_count": 195,
   "metadata": {},
   "outputs": [],
   "source": [
    "# final model with optimized AdaBoost\n",
    "ml_pipeline_best = Pipeline([\n",
    "    ('clean_text', Clean_text_with_stemmer()),\n",
    "    ('vectorizer', CountVectorizer(min_df= 5,stop_words=\"english\", ngram_range=(1, 2))),\n",
    "    ('tfidf', TfidfTransformer(sublinear_tf=True, norm='l2')),\n",
    "    ('mbclf', MultiOutputClassifier(AdaBoostClassifier(random_state=34, n_estimators=100, learning_rate=1.0)))])"
   ]
  },
  {
   "cell_type": "code",
   "execution_count": 196,
   "metadata": {},
   "outputs": [
    {
     "data": {
      "text/plain": [
       "Pipeline(memory=None,\n",
       "     steps=[('clean_text', Clean_text_with_stemmer()), ('vectorizer', CountVectorizer(analyzer='word', binary=False, decode_error='strict',\n",
       "        dtype=<class 'numpy.int64'>, encoding='utf-8', input='content',\n",
       "        lowercase=True, max_df=1.0, max_features=None, min_df=5,\n",
       "        ngram_range=(1, 2), ...tor=None,\n",
       "          learning_rate=1.0, n_estimators=100, random_state=34),\n",
       "           n_jobs=None))])"
      ]
     },
     "execution_count": 196,
     "metadata": {},
     "output_type": "execute_result"
    }
   ],
   "source": [
    "ml_pipeline_best.fit(X_train, y_train)"
   ]
  },
  {
   "cell_type": "code",
   "execution_count": 197,
   "metadata": {},
   "outputs": [
    {
     "data": {
      "text/html": [
       "<div>\n",
       "<style scoped>\n",
       "    .dataframe tbody tr th:only-of-type {\n",
       "        vertical-align: middle;\n",
       "    }\n",
       "\n",
       "    .dataframe tbody tr th {\n",
       "        vertical-align: top;\n",
       "    }\n",
       "\n",
       "    .dataframe thead th {\n",
       "        text-align: right;\n",
       "    }\n",
       "</style>\n",
       "<table border=\"1\" class=\"dataframe\">\n",
       "  <thead>\n",
       "    <tr style=\"text-align: right;\">\n",
       "      <th></th>\n",
       "      <th>f1_score</th>\n",
       "      <th>smote</th>\n",
       "      <th>logistic</th>\n",
       "      <th>best</th>\n",
       "    </tr>\n",
       "  </thead>\n",
       "  <tbody>\n",
       "    <tr>\n",
       "      <th>aid_centers</th>\n",
       "      <td>0.127273</td>\n",
       "      <td>0.021622</td>\n",
       "      <td>0.000000</td>\n",
       "      <td>0.136364</td>\n",
       "    </tr>\n",
       "    <tr>\n",
       "      <th>aid_related</th>\n",
       "      <td>0.671009</td>\n",
       "      <td>0.670177</td>\n",
       "      <td>0.715707</td>\n",
       "      <td>0.697229</td>\n",
       "    </tr>\n",
       "    <tr>\n",
       "      <th>buildings</th>\n",
       "      <td>0.509872</td>\n",
       "      <td>0.136646</td>\n",
       "      <td>0.334311</td>\n",
       "      <td>0.502146</td>\n",
       "    </tr>\n",
       "    <tr>\n",
       "      <th>clothing</th>\n",
       "      <td>0.527778</td>\n",
       "      <td>0.297521</td>\n",
       "      <td>0.343529</td>\n",
       "      <td>0.426471</td>\n",
       "    </tr>\n",
       "    <tr>\n",
       "      <th>cold</th>\n",
       "      <td>0.428125</td>\n",
       "      <td>0.062005</td>\n",
       "      <td>0.174797</td>\n",
       "      <td>0.413793</td>\n",
       "    </tr>\n",
       "    <tr>\n",
       "      <th>death</th>\n",
       "      <td>0.551724</td>\n",
       "      <td>0.144179</td>\n",
       "      <td>0.424386</td>\n",
       "      <td>0.555831</td>\n",
       "    </tr>\n",
       "    <tr>\n",
       "      <th>direct_report</th>\n",
       "      <td>0.501717</td>\n",
       "      <td>0.452229</td>\n",
       "      <td>0.545854</td>\n",
       "      <td>0.556638</td>\n",
       "    </tr>\n",
       "    <tr>\n",
       "      <th>earthquake</th>\n",
       "      <td>0.827733</td>\n",
       "      <td>0.782241</td>\n",
       "      <td>0.757372</td>\n",
       "      <td>0.835754</td>\n",
       "    </tr>\n",
       "    <tr>\n",
       "      <th>electricity</th>\n",
       "      <td>0.335463</td>\n",
       "      <td>0.223214</td>\n",
       "      <td>0.165992</td>\n",
       "      <td>0.322981</td>\n",
       "    </tr>\n",
       "    <tr>\n",
       "      <th>fire</th>\n",
       "      <td>0.284768</td>\n",
       "      <td>0.036684</td>\n",
       "      <td>0.000000</td>\n",
       "      <td>0.231884</td>\n",
       "    </tr>\n",
       "    <tr>\n",
       "      <th>floods</th>\n",
       "      <td>0.667846</td>\n",
       "      <td>0.600496</td>\n",
       "      <td>0.603125</td>\n",
       "      <td>0.718346</td>\n",
       "    </tr>\n",
       "    <tr>\n",
       "      <th>food</th>\n",
       "      <td>0.728821</td>\n",
       "      <td>0.710592</td>\n",
       "      <td>0.697697</td>\n",
       "      <td>0.734539</td>\n",
       "    </tr>\n",
       "    <tr>\n",
       "      <th>hospitals</th>\n",
       "      <td>0.162162</td>\n",
       "      <td>0.018409</td>\n",
       "      <td>0.008969</td>\n",
       "      <td>0.238095</td>\n",
       "    </tr>\n",
       "    <tr>\n",
       "      <th>infrastructure_related</th>\n",
       "      <td>0.147217</td>\n",
       "      <td>0.108133</td>\n",
       "      <td>0.038489</td>\n",
       "      <td>0.206316</td>\n",
       "    </tr>\n",
       "    <tr>\n",
       "      <th>medical_help</th>\n",
       "      <td>0.396096</td>\n",
       "      <td>0.174202</td>\n",
       "      <td>0.269620</td>\n",
       "      <td>0.357724</td>\n",
       "    </tr>\n",
       "    <tr>\n",
       "      <th>medical_products</th>\n",
       "      <td>0.419162</td>\n",
       "      <td>0.294235</td>\n",
       "      <td>0.271405</td>\n",
       "      <td>0.434004</td>\n",
       "    </tr>\n",
       "    <tr>\n",
       "      <th>military</th>\n",
       "      <td>0.445920</td>\n",
       "      <td>0.123723</td>\n",
       "      <td>0.182519</td>\n",
       "      <td>0.392857</td>\n",
       "    </tr>\n",
       "    <tr>\n",
       "      <th>missing_people</th>\n",
       "      <td>0.210526</td>\n",
       "      <td>0.030116</td>\n",
       "      <td>0.008439</td>\n",
       "      <td>0.200000</td>\n",
       "    </tr>\n",
       "    <tr>\n",
       "      <th>money</th>\n",
       "      <td>0.389575</td>\n",
       "      <td>0.254181</td>\n",
       "      <td>0.147059</td>\n",
       "      <td>0.388060</td>\n",
       "    </tr>\n",
       "    <tr>\n",
       "      <th>offer</th>\n",
       "      <td>0.017699</td>\n",
       "      <td>0.022948</td>\n",
       "      <td>0.000000</td>\n",
       "      <td>0.000000</td>\n",
       "    </tr>\n",
       "    <tr>\n",
       "      <th>other_aid</th>\n",
       "      <td>0.237479</td>\n",
       "      <td>0.211855</td>\n",
       "      <td>0.190212</td>\n",
       "      <td>0.231733</td>\n",
       "    </tr>\n",
       "    <tr>\n",
       "      <th>other_infrastructure</th>\n",
       "      <td>0.132873</td>\n",
       "      <td>0.096374</td>\n",
       "      <td>0.015135</td>\n",
       "      <td>0.230769</td>\n",
       "    </tr>\n",
       "    <tr>\n",
       "      <th>other_weather</th>\n",
       "      <td>0.198880</td>\n",
       "      <td>0.101550</td>\n",
       "      <td>0.076466</td>\n",
       "      <td>0.193370</td>\n",
       "    </tr>\n",
       "    <tr>\n",
       "      <th>refugees</th>\n",
       "      <td>0.325025</td>\n",
       "      <td>0.077132</td>\n",
       "      <td>0.137662</td>\n",
       "      <td>0.359551</td>\n",
       "    </tr>\n",
       "    <tr>\n",
       "      <th>request</th>\n",
       "      <td>0.602049</td>\n",
       "      <td>0.550265</td>\n",
       "      <td>0.638604</td>\n",
       "      <td>0.653194</td>\n",
       "    </tr>\n",
       "    <tr>\n",
       "      <th>search_and_rescue</th>\n",
       "      <td>0.280702</td>\n",
       "      <td>0.076923</td>\n",
       "      <td>0.116473</td>\n",
       "      <td>0.298246</td>\n",
       "    </tr>\n",
       "    <tr>\n",
       "      <th>security</th>\n",
       "      <td>0.099379</td>\n",
       "      <td>0.027757</td>\n",
       "      <td>0.000000</td>\n",
       "      <td>0.081633</td>\n",
       "    </tr>\n",
       "    <tr>\n",
       "      <th>shelter</th>\n",
       "      <td>0.627351</td>\n",
       "      <td>0.575192</td>\n",
       "      <td>0.567121</td>\n",
       "      <td>0.632212</td>\n",
       "    </tr>\n",
       "    <tr>\n",
       "      <th>shops</th>\n",
       "      <td>0.017699</td>\n",
       "      <td>0.003298</td>\n",
       "      <td>0.000000</td>\n",
       "      <td>0.060606</td>\n",
       "    </tr>\n",
       "    <tr>\n",
       "      <th>storm</th>\n",
       "      <td>0.599814</td>\n",
       "      <td>0.614393</td>\n",
       "      <td>0.568813</td>\n",
       "      <td>0.617402</td>\n",
       "    </tr>\n",
       "    <tr>\n",
       "      <th>tools</th>\n",
       "      <td>0.026144</td>\n",
       "      <td>0.009492</td>\n",
       "      <td>0.000000</td>\n",
       "      <td>0.000000</td>\n",
       "    </tr>\n",
       "    <tr>\n",
       "      <th>transport</th>\n",
       "      <td>0.312647</td>\n",
       "      <td>0.128610</td>\n",
       "      <td>0.193906</td>\n",
       "      <td>0.346041</td>\n",
       "    </tr>\n",
       "    <tr>\n",
       "      <th>water</th>\n",
       "      <td>0.683908</td>\n",
       "      <td>0.571019</td>\n",
       "      <td>0.615743</td>\n",
       "      <td>0.653784</td>\n",
       "    </tr>\n",
       "    <tr>\n",
       "      <th>weather_related</th>\n",
       "      <td>0.746174</td>\n",
       "      <td>0.708099</td>\n",
       "      <td>0.744398</td>\n",
       "      <td>0.767486</td>\n",
       "    </tr>\n",
       "  </tbody>\n",
       "</table>\n",
       "</div>"
      ],
      "text/plain": [
       "                        f1_score     smote  logistic      best\n",
       "aid_centers             0.127273  0.021622  0.000000  0.136364\n",
       "aid_related             0.671009  0.670177  0.715707  0.697229\n",
       "buildings               0.509872  0.136646  0.334311  0.502146\n",
       "clothing                0.527778  0.297521  0.343529  0.426471\n",
       "cold                    0.428125  0.062005  0.174797  0.413793\n",
       "death                   0.551724  0.144179  0.424386  0.555831\n",
       "direct_report           0.501717  0.452229  0.545854  0.556638\n",
       "earthquake              0.827733  0.782241  0.757372  0.835754\n",
       "electricity             0.335463  0.223214  0.165992  0.322981\n",
       "fire                    0.284768  0.036684  0.000000  0.231884\n",
       "floods                  0.667846  0.600496  0.603125  0.718346\n",
       "food                    0.728821  0.710592  0.697697  0.734539\n",
       "hospitals               0.162162  0.018409  0.008969  0.238095\n",
       "infrastructure_related  0.147217  0.108133  0.038489  0.206316\n",
       "medical_help            0.396096  0.174202  0.269620  0.357724\n",
       "medical_products        0.419162  0.294235  0.271405  0.434004\n",
       "military                0.445920  0.123723  0.182519  0.392857\n",
       "missing_people          0.210526  0.030116  0.008439  0.200000\n",
       "money                   0.389575  0.254181  0.147059  0.388060\n",
       "offer                   0.017699  0.022948  0.000000  0.000000\n",
       "other_aid               0.237479  0.211855  0.190212  0.231733\n",
       "other_infrastructure    0.132873  0.096374  0.015135  0.230769\n",
       "other_weather           0.198880  0.101550  0.076466  0.193370\n",
       "refugees                0.325025  0.077132  0.137662  0.359551\n",
       "request                 0.602049  0.550265  0.638604  0.653194\n",
       "search_and_rescue       0.280702  0.076923  0.116473  0.298246\n",
       "security                0.099379  0.027757  0.000000  0.081633\n",
       "shelter                 0.627351  0.575192  0.567121  0.632212\n",
       "shops                   0.017699  0.003298  0.000000  0.060606\n",
       "storm                   0.599814  0.614393  0.568813  0.617402\n",
       "tools                   0.026144  0.009492  0.000000  0.000000\n",
       "transport               0.312647  0.128610  0.193906  0.346041\n",
       "water                   0.683908  0.571019  0.615743  0.653784\n",
       "weather_related         0.746174  0.708099  0.744398  0.767486"
      ]
     },
     "execution_count": 197,
     "metadata": {},
     "output_type": "execute_result"
    }
   ],
   "source": [
    "scoring_df_best = predict_scores(y_test, ml_pipeline_best.predict(X_test))\n",
    "comp_df['best'] = scoring_df_best['f1_score']\n",
    "comp_df"
   ]
  },
  {
   "cell_type": "markdown",
   "metadata": {},
   "source": [
    "### 9. Export your model as a pickle file"
   ]
  },
  {
   "cell_type": "code",
   "execution_count": 201,
   "metadata": {},
   "outputs": [],
   "source": [
    "filename='data/ml_pipeline_best.pkl'\n",
    "pickle.dump(ml_pipeline_best, open(filename,'wb'))"
   ]
  },
  {
   "cell_type": "markdown",
   "metadata": {},
   "source": [
    "### 10. Use this notebook to complete `train.py`\n",
    "Use the template file attached in the Resources folder to write a script that runs the steps above to create a database and export a model based on a new dataset specified by the user."
   ]
  },
  {
   "cell_type": "markdown",
   "metadata": {},
   "source": [
    "## Code Bank"
   ]
  },
  {
   "cell_type": "code",
   "execution_count": null,
   "metadata": {},
   "outputs": [],
   "source": [
    "# beautiful solution\n",
    "df.message.apply(lambda x: \" \".join([stemmer.stem(word) for word in re.sub(\"[^a-zA-Z]\", \" \", x).split() \n",
    "          if word not in stop_words]) )"
   ]
  },
  {
   "cell_type": "code",
   "execution_count": null,
   "metadata": {},
   "outputs": [],
   "source": [
    "class Select_features(BaseEstimator, TransformerMixin):\n",
    "    # constructor\n",
    "    def __init__(self, column_names):\n",
    "        self.column_names = column_names \n",
    "    \n",
    "    # pipeline must implement fit\n",
    "    def fit(self, X=None, y=None):\n",
    "        return self\n",
    "    \n",
    "    # return new dataframe with selected features\n",
    "    def transform(self, X=None, y=None):\n",
    "        return X[self.column_names] "
   ]
  },
  {
   "cell_type": "code",
   "execution_count": null,
   "metadata": {},
   "outputs": [],
   "source": [
    "X = vector_features\n",
    "y = MultiLabelBinarizer().fit_transform(labels)\n",
    "print(len(labels))\n",
    "print(y.shape)\n",
    "X_train, X_test, y_train, y_test = train_test_split(X, y, test_size=0.33, random_state=32)\n",
    "\n",
    "vectorizer = CountVectorizer(min_df= 5,stop_words=\"english\", ngram_range=(1, 2))\n",
    "clf = OneVsRestClassifier(BernoulliNB())\n",
    "message_pipeline = Pipeline([('vectorizer', vectorizer),('clf',clf)])\n",
    "message_pipeline.fit()\n",
    "message_pipeline.named_steps['vectorizer'].transform([df_clean_message])"
   ]
  }
 ],
 "metadata": {
  "kernelspec": {
   "display_name": "Python 3",
   "language": "python",
   "name": "python3"
  },
  "language_info": {
   "codemirror_mode": {
    "name": "ipython",
    "version": 3
   },
   "file_extension": ".py",
   "mimetype": "text/x-python",
   "name": "python",
   "nbconvert_exporter": "python",
   "pygments_lexer": "ipython3",
   "version": "3.6.8"
  }
 },
 "nbformat": 4,
 "nbformat_minor": 2
}
